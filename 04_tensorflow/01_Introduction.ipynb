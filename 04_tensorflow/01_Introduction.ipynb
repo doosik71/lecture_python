{
 "cells": [
  {
   "cell_type": "markdown",
   "metadata": {},
   "source": [
    "# Tensorflow\n",
    "TensorFlow is a free and open-source software library for dataflow and differentiable programming across a range of tasks.\n",
    "It is a symbolic math library, and is also used for machine learning applications such as neural networks.\n",
    "It is used for both research and production at Google.\n",
    "\n",
    "## CPU vs. GPU\n",
    "![](https://www.maketecheasier.com/assets/uploads/2017/01/cpu-gpu-difference-core-comp.gif)\n",
    "\n",
    "## CUDA\n",
    "CUDA is a **parallel computing platform** and **application programming interface(API) model** created by Nvidia.\n",
    "It allows software developers and software engineers to use a CUDA-enabled graphics processing unit(GPU) for general purpose processing."
   ]
  },
  {
   "cell_type": "markdown",
   "metadata": {},
   "source": [
    "## Installation\n",
    "\n",
    "### GPU-supported Graphic Cards\n",
    "\n",
    "<img width=\"500\" src=\"https://www.nvidia.com/content/dam/en-zz/Solutions/geforce/TITAN/TITANV/nvidia-titan-v-gallery-b.jpg\"/> &nbsp;\n",
    "\n",
    "### GPU Driver\n",
    "- https://www.nvidia.com/Download/index.aspx?lang=en-us\n",
    "\n",
    "### CUDA Toolkit\n",
    "\n",
    "```bash\n",
    "sudo apt install nvidia-cuda-toolkit  # for linux.\n",
    "```\n",
    "\n",
    "- https://developer.nvidia.com/cuda-toolkit\n",
    "\n",
    "### CUDNN Library\n",
    "\n",
    "https://docs.nvidia.com/deeplearning/sdk/cudnn-install/index.html\n",
    "\n",
    "### Tensorflow Python Package\n",
    "```bash\n",
    "pip install tensorflow  # for CPU version.\n",
    "```\n",
    "or\n",
    "```bash\n",
    "pip install tensorflow-gpu  # for GPU version.\n",
    "```\n",
    "\n",
    "### Versions\n",
    "\n",
    "| OS           | Python | CUDA | cuDNN | Tensorflow |        |\n",
    "|--------------|--------|------|-------|------------|--------|\n",
    "| Ubuntu 18.04 | 3.7    | 10.0 | 7.4   | 1.14.x     | Latest |\n",
    "| Ubuntu 18.04 | 3.7    | 10.0 | 7.4   | 1.13.x     |        |\n",
    "| Ubuntu 16.04 | 3.6    | 9    | 7     | 1.12.x     |        |\n",
    "| Ubuntu 16.04 | 3.6    | 9    | 7     | 1.11.x     |        |\n",
    "| Windows      | 3.6    | 9    | 7     | 1.9.x      | Latest |\n",
    "| Windows      | 3.6    | 9    | 7     | 1.8.x      |        |\n",
    "| Windows      | 3.6    | 9    | 7     | 1.7.x      |        |"
   ]
  },
  {
   "cell_type": "code",
   "execution_count": 1,
   "metadata": {},
   "outputs": [
    {
     "name": "stdout",
     "output_type": "stream",
     "text": [
      "1.14.0\n",
      "True\n"
     ]
    }
   ],
   "source": [
    "import tensorflow as tf\n",
    "\n",
    "print(tf.__version__)\n",
    "print(tf.test.is_gpu_available())"
   ]
  },
  {
   "cell_type": "code",
   "execution_count": 7,
   "metadata": {},
   "outputs": [
    {
     "name": "stdout",
     "output_type": "stream",
     "text": [
      "Tensor(\"Add_10:0\", shape=(), dtype=int32)\n",
      "Tensor(\"Add_11:0\", shape=(2,), dtype=int32)\n",
      "Tensor(\"Square_9:0\", shape=(), dtype=int32)\n",
      "Tensor(\"Sum_3:0\", shape=(), dtype=int32)\n",
      "Tensor(\"add_12:0\", shape=(), dtype=int32)\n"
     ]
    }
   ],
   "source": [
    "print(tf.add(1, 2))\n",
    "print(tf.add([1, 2], [3, 4]))\n",
    "print(tf.square(5))\n",
    "print(tf.reduce_sum([1, 2, 3]))\n",
    "print(tf.square(2) + tf.square(3))"
   ]
  },
  {
   "cell_type": "code",
   "execution_count": 3,
   "metadata": {},
   "outputs": [],
   "source": [
    "def print_tf(variable):\n",
    "    with tf.Session() as sess:\n",
    "        print(sess.run(variable))"
   ]
  },
  {
   "cell_type": "code",
   "execution_count": 6,
   "metadata": {},
   "outputs": [
    {
     "name": "stdout",
     "output_type": "stream",
     "text": [
      "3\n",
      "[4 6]\n",
      "25\n",
      "6\n",
      "13\n"
     ]
    }
   ],
   "source": [
    "print_tf(tf.add(1, 2))\n",
    "print_tf(tf.add([1, 2], [3, 4]))\n",
    "print_tf(tf.square(5))\n",
    "print_tf(tf.reduce_sum([1, 2, 3]))\n",
    "print_tf(tf.square(2) + tf.square(3))"
   ]
  },
  {
   "cell_type": "markdown",
   "metadata": {},
   "source": [
    "## Reference\n",
    "- https://en.wikipedia.org/wiki/CUDA\n",
    "- https://www.tensorflow.org/learn\n",
    "- https://www.tensorflow.org/tutorials"
   ]
  }
 ],
 "metadata": {
  "kernelspec": {
   "display_name": "Python 3",
   "language": "python",
   "name": "python3"
  },
  "language_info": {
   "codemirror_mode": {
    "name": "ipython",
    "version": 3
   },
   "file_extension": ".py",
   "mimetype": "text/x-python",
   "name": "python",
   "nbconvert_exporter": "python",
   "pygments_lexer": "ipython3",
   "version": "3.7.3"
  }
 },
 "nbformat": 4,
 "nbformat_minor": 4
}
