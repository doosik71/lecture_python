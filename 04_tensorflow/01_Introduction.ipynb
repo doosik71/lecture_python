{
 "cells": [
  {
   "cell_type": "markdown",
   "metadata": {},
   "source": [
    "# Tensorflow\n",
    "TensorFlow is a free and open-source software library for dataflow and differentiable programming across a range of tasks.\n",
    "It is a symbolic math library, and is also used for machine learning applications such as neural networks.\n",
    "It is used for both research and production at Google.\n",
    "\n",
    "## CPU vs. GPU\n",
    "![](https://www.maketecheasier.com/assets/uploads/2017/01/cpu-gpu-difference-core-comp.gif)\n",
    "\n",
    "## CUDA\n",
    "CUDA is a **parallel computing platform** and **application programming interface(API) model** created by Nvidia.\n",
    "It allows software developers and software engineers to use a CUDA-enabled graphics processing unit(GPU) for general purpose processing."
   ]
  },
  {
   "cell_type": "markdown",
   "metadata": {},
   "source": [
    "## Installation\n",
    "\n",
    "### GPU-supported Graphic Cards\n",
    "\n",
    "<img width=\"500\" src=\"https://www.nvidia.com/content/dam/en-zz/Solutions/geforce/TITAN/TITANV/nvidia-titan-v-gallery-b.jpg\"/> &nbsp;\n",
    "\n",
    "### GPU Driver\n",
    "- https://www.nvidia.com/Download/index.aspx?lang=en-us\n",
    "\n",
    "### CUDA Toolkit\n",
    "\n",
    "```bash\n",
    "sudo apt install nvidia-cuda-toolkit  # for linux.\n",
    "```\n",
    "\n",
    "- https://developer.nvidia.com/cuda-toolkit\n",
    "\n",
    "### CUDNN Library\n",
    "\n",
    "https://docs.nvidia.com/deeplearning/sdk/cudnn-install/index.html\n",
    "\n",
    "### Tensorflow Python Package\n",
    "```bash\n",
    "pip install tensorflow  # for CPU version.\n",
    "```\n",
    "or\n",
    "```bash\n",
    "pip install tensorflow-gpu  # for GPU version.\n",
    "```"
   ]
  },
  {
   "cell_type": "code",
   "execution_count": 1,
   "metadata": {},
   "outputs": [
    {
     "name": "stdout",
     "output_type": "stream",
     "text": [
      "1.14.0\n",
      "False\n"
     ]
    }
   ],
   "source": [
    "import tensorflow as tf\n",
    "\n",
    "print(tf.__version__)\n",
    "print(tf.test.is_gpu_available())"
   ]
  },
  {
   "cell_type": "code",
   "execution_count": 9,
   "metadata": {},
   "outputs": [
    {
     "name": "stdout",
     "output_type": "stream",
     "text": [
      "Tensor(\"Add_6:0\", shape=(), dtype=int32)\n",
      "Tensor(\"Add_7:0\", shape=(2,), dtype=int32)\n",
      "Tensor(\"Square_6:0\", shape=(), dtype=int32)\n",
      "Tensor(\"Sum_2:0\", shape=(), dtype=int32)\n",
      "Tensor(\"EncodeBase64_2:0\", shape=(), dtype=string)\n",
      "Tensor(\"add_8:0\", shape=(), dtype=int32)\n"
     ]
    }
   ],
   "source": [
    "print(tf.add(1, 2))\n",
    "print(tf.add([1, 2], [3, 4]))\n",
    "print(tf.square(5))\n",
    "print(tf.reduce_sum([1, 2, 3]))\n",
    "print(tf.encode_base64(\"hello world\"))\n",
    "print(tf.square(2) + tf.square(3))"
   ]
  },
  {
   "cell_type": "markdown",
   "metadata": {},
   "source": [
    "## Reference\n",
    "- https://en.wikipedia.org/wiki/CUDA\n",
    "- https://www.tensorflow.org/learn\n",
    "- https://www.tensorflow.org/tutorials"
   ]
  }
 ],
 "metadata": {
  "kernelspec": {
   "display_name": "Python 3",
   "language": "python",
   "name": "python3"
  },
  "language_info": {
   "codemirror_mode": {
    "name": "ipython",
    "version": 3
   },
   "file_extension": ".py",
   "mimetype": "text/x-python",
   "name": "python",
   "nbconvert_exporter": "python",
   "pygments_lexer": "ipython3",
   "version": "3.7.3"
  }
 },
 "nbformat": 4,
 "nbformat_minor": 4
}
