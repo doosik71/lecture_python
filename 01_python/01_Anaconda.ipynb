{
 "cells": [
  {
   "cell_type": "markdown",
   "metadata": {},
   "source": [
    "# Anaconda (Python distribution)\n",
    "**Anaconda is a free and open-source distribution of the Python and R programming languages** for scientific computing (data science, machine learning applications, large-scale data processing, predictive analytics, etc.), that aims to simplify package management and deployment.\n",
    "**Package versions are managed by the package management system conda**.\n",
    "he Anaconda distribution is used by over 15 million users and includes more than 1500 popular data-science packages suitable for Windows, Linux, and MacOS.\n",
    "- Source: https://en.wikipedia.org/wiki/Anaconda_(Python_distribution)"
   ]
  },
  {
   "cell_type": "markdown",
   "metadata": {},
   "source": [
    "## Installation\n",
    "\n",
    "- Download from https://www.anaconda.com/distribution/#download-section\n",
    "- Version: Anaconda 2019.03 for Windows Installer / Python 3.7 version / 64-Bit Graphical Installer (662 MB)\n",
    "- For more information, see https://docs.anaconda.com/anaconda/install/windows/"
   ]
  },
  {
   "cell_type": "markdown",
   "metadata": {},
   "source": [
    "## Packages\n",
    "\n",
    "| Name                | URL                                                                | Description                                                                                                                  |\n",
    "|---------------------|--------------------------------------------------------------------|------------------------------------------------------------------------------------------------------------------------------|\n",
    "| 1. **NumPy**            | numpy.org                                                          | N-dimensional array for numerical computation                                                                                |\n",
    "| 2. **SciPy**            | scipy.org                                                          | Scientific computing library for Python                                                                                      |\n",
    "| 3. **Matplotlib**       | matplotlib.org                                                     | 2D Plotting library for Python                                                                                               |\n",
    "| 4. **Pandas**           | pandas.pydata.org                                                  | Powerful Python data structures and data analysis toolkit                                                                    |\n",
    "| 5. Seaborn          | seaborn.pydata.org/                                                | Statistical graphics library for Python                                                                                      |\n",
    "| 6. Bokeh            | bokeh.pydata.org                                                   | Interactive web visualization library                                                                                        |\n",
    "| 7. Scikit-Learn     | scikit-learn.org/stable                                            | Python modules for machine learning and data mining                                                                          |\n",
    "| 8. NLTK             | nltk.org                                                           | Natural language toolkit                                                                                                     |\n",
    "| 9. **Jupyter Notebook** | jupyter.org                                                        | Web app that allows you to create and share documents that contain live code, equations, visualizations and explanatory text |\n",
    "| 10. R essentials    | https://docs.anaconda.com/anaconda/user-guide/tasks/use-r-language | 80+ of the most used R packages for data science                                                                             |\n",
    "\n",
    "- Source: https://docs.anaconda.com/anaconda/user-guide/"
   ]
  }
 ],
 "metadata": {
  "kernelspec": {
   "display_name": "Python 3",
   "language": "python",
   "name": "python3"
  },
  "language_info": {
   "codemirror_mode": {
    "name": "ipython",
    "version": 3
   },
   "file_extension": ".py",
   "mimetype": "text/x-python",
   "name": "python",
   "nbconvert_exporter": "python",
   "pygments_lexer": "ipython3",
   "version": "3.7.3"
  }
 },
 "nbformat": 4,
 "nbformat_minor": 2
}
