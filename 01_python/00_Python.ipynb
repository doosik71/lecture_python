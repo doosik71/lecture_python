{
 "cells": [
  {
   "cell_type": "markdown",
   "metadata": {},
   "source": [
    "# Python\n",
    "## About\n",
    "Python is an interpreted, high-level, general-purpose programming language. Created by Guido van Rossum and first released in 1991, Python's design philosophy emphasizes code readability with its notable use of significant whitespace. Its language constructs and object-oriented approach aim to help programmers write clear, logical code for small and large-scale projects.\n",
    "\n",
    "Python is an easy to learn, powerful programming language. It has **efficient high-level data structures** and a simple but effective approach to **object-oriented programming**. Python's elegant syntax and **dynamic typing**, together with its **interpreted nature**, make it an ideal language for scripting and rapid application development in many areas on most platforms."
   ]
  },
  {
   "cell_type": "markdown",
   "metadata": {},
   "source": [
    "## Package Management\n",
    "- Pip\n",
    "    - https://pypi.org/\n",
    "- Anaconda\n",
    "    - https://anaconda.org/"
   ]
  },
  {
   "cell_type": "markdown",
   "metadata": {},
   "source": [
    "## Reference\n",
    "- https://www.python.org/\n",
    "- https://en.wikipedia.org/wiki/Python_(programming_language)\n",
    "- https://docs.python.org/3/tutorial/"
   ]
  }
 ],
 "metadata": {
  "kernelspec": {
   "display_name": "Python 3",
   "language": "python",
   "name": "python3"
  },
  "language_info": {
   "codemirror_mode": {
    "name": "ipython",
    "version": 3
   },
   "file_extension": ".py",
   "mimetype": "text/x-python",
   "name": "python",
   "nbconvert_exporter": "python",
   "pygments_lexer": "ipython3",
   "version": "3.6.8"
  }
 },
 "nbformat": 4,
 "nbformat_minor": 4
}
