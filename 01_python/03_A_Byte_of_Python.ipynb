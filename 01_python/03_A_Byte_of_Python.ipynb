{
 "cells": [
  {
   "cell_type": "markdown",
   "metadata": {},
   "source": [
    "※ 이 튜토리얼은 [https://python.swaroopch.com/](https://python.swaroopch.com/)을 참조했습니다."
   ]
  },
  {
   "cell_type": "markdown",
   "metadata": {},
   "source": [
    "# About Python\n",
    "Python is an easy to learn, powerful programming language. It has **efficient high-level data structures** and a simple but effective approach to **object-oriented programming**. Python's elegant syntax and **dynamic typing**, together with its **interpreted nature**, make it an ideal language for scripting and rapid application development in many areas on most platforms."
   ]
  },
  {
   "cell_type": "markdown",
   "metadata": {},
   "source": [
    "# First Steps"
   ]
  },
  {
   "cell_type": "code",
   "execution_count": 2,
   "metadata": {},
   "outputs": [
    {
     "name": "stdout",
     "output_type": "stream",
     "text": [
      "Hello World\n"
     ]
    }
   ],
   "source": [
    "print(\"Hello World\")"
   ]
  },
  {
   "cell_type": "markdown",
   "metadata": {},
   "source": [
    "# Basics"
   ]
  },
  {
   "cell_type": "code",
   "execution_count": 11,
   "metadata": {},
   "outputs": [
    {
     "name": "stdout",
     "output_type": "stream",
     "text": [
      "Mr. Kim is 20 years old.\n"
     ]
    }
   ],
   "source": [
    "name = 'Mr. Kim'\n",
    "age = 20\n",
    "\n",
    "print('{0} is {1} years old.'.format(name, age))"
   ]
  },
  {
   "cell_type": "code",
   "execution_count": 10,
   "metadata": {},
   "outputs": [
    {
     "name": "stdout",
     "output_type": "stream",
     "text": [
      "0.3333333333333333\n",
      "0.33\n"
     ]
    }
   ],
   "source": [
    "r = 1 / 3\n",
    "print(r)\n",
    "print('{0:.2f}'.format(r))"
   ]
  },
  {
   "cell_type": "code",
   "execution_count": 5,
   "metadata": {},
   "outputs": [
    {
     "name": "stdout",
     "output_type": "stream",
     "text": [
      "5\n",
      "6\n"
     ]
    }
   ],
   "source": [
    "i = 5\n",
    "print(i)\n",
    "i = i + 1\n",
    "print(i)"
   ]
  },
  {
   "cell_type": "code",
   "execution_count": 12,
   "metadata": {},
   "outputs": [
    {
     "name": "stdout",
     "output_type": "stream",
     "text": [
      "Area is 10\n",
      "Perimeter is 14\n"
     ]
    }
   ],
   "source": [
    "length = 5\n",
    "breadth = 2\n",
    "area = length * breadth\n",
    "print('Area is', area)\n",
    "print('Perimeter is', 2 * (length + breadth))"
   ]
  },
  {
   "cell_type": "markdown",
   "metadata": {},
   "source": [
    "# Control Flow"
   ]
  },
  {
   "cell_type": "code",
   "execution_count": 17,
   "metadata": {},
   "outputs": [
    {
     "name": "stdout",
     "output_type": "stream",
     "text": [
      "23 is odd number.\n"
     ]
    }
   ],
   "source": [
    "number = 23\n",
    "\n",
    "if number % 2 == 0:\n",
    "    print(number, 'is even number.')\n",
    "elif number % 2 == 1:\n",
    "    print(number, 'is odd number.')\n",
    "else:\n",
    "    print(\"I don't know!\")"
   ]
  },
  {
   "cell_type": "code",
   "execution_count": 16,
   "metadata": {},
   "outputs": [
    {
     "name": "stdout",
     "output_type": "stream",
     "text": [
      "Total is 5050\n"
     ]
    }
   ],
   "source": [
    "number = 100\n",
    "total = 0\n",
    "\n",
    "while number > 0:\n",
    "    total += number\n",
    "    number -= 1\n",
    "    \n",
    "print('Total is', total)"
   ]
  },
  {
   "cell_type": "code",
   "execution_count": 20,
   "metadata": {},
   "outputs": [
    {
     "name": "stdout",
     "output_type": "stream",
     "text": [
      "Total is 5050\n"
     ]
    }
   ],
   "source": [
    "total = 0\n",
    "\n",
    "for i in range(1, 101):\n",
    "    total += i\n",
    "\n",
    "print('Total is', total)"
   ]
  },
  {
   "cell_type": "code",
   "execution_count": null,
   "metadata": {},
   "outputs": [],
   "source": []
  }
 ],
 "metadata": {
  "kernelspec": {
   "display_name": "Python 3",
   "language": "python",
   "name": "python3"
  },
  "language_info": {
   "codemirror_mode": {
    "name": "ipython",
    "version": 3
   },
   "file_extension": ".py",
   "mimetype": "text/x-python",
   "name": "python",
   "nbconvert_exporter": "python",
   "pygments_lexer": "ipython3",
   "version": "3.7.3"
  }
 },
 "nbformat": 4,
 "nbformat_minor": 2
}
