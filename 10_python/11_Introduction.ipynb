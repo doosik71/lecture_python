{
 "cells": [
  {
   "cell_type": "markdown",
   "metadata": {
    "slideshow": {
     "slide_type": "slide"
    }
   },
   "source": [
    "# Python"
   ]
  },
  {
   "cell_type": "markdown",
   "metadata": {
    "slideshow": {
     "slide_type": "slide"
    }
   },
   "source": [
    "## About\n",
    "Python is an interpreted, high-level, general-purpose programming language. Created by Guido van Rossum and first released in 1991, Python's design philosophy emphasizes code readability with its notable use of significant whitespace. Its language constructs and object-oriented approach aim to help programmers write clear, logical code for small and large-scale projects.\n",
    "\n",
    "Python is an easy to learn, powerful programming language. It has **efficient high-level data structures** and a simple but effective approach to **object-oriented programming**. Python's elegant syntax and **dynamic typing**, together with its **interpreted nature**, make it an ideal language for scripting and rapid application development in many areas on most platforms."
   ]
  },
  {
   "cell_type": "markdown",
   "metadata": {
    "slideshow": {
     "slide_type": "notes"
    }
   },
   "source": [
    "인터프리트 언어는 컴파일 언어에 비해 실행 속도가 느립니다. 그러나 파이썬 언어의 학습의 용이성과 REPL(Read Eval Print Loop) 기능을 활용한 빠른 속도의 프로토타이핑 개발 능력은 GPU 하드웨어의 도움과 함께 머신러닝 응용 개발에 적합한 언어로 각광받고 있습니다."
   ]
  },
  {
   "cell_type": "markdown",
   "metadata": {
    "slideshow": {
     "slide_type": "slide"
    }
   },
   "source": [
    "## Package Management\n",
    "- Pip\n",
    "    - https://pypi.org/\n",
    "- Anaconda\n",
    "    - https://anaconda.org/"
   ]
  },
  {
   "cell_type": "markdown",
   "metadata": {
    "slideshow": {
     "slide_type": "slide"
    }
   },
   "source": [
    "## Guide\n",
    "\n",
    "The latest version of Python is 3.7, but this tutorial uses version 3.6.\n",
    "\n",
    "Please refer to the documentation [40_tensorflow/41_Introduction.ipynb#Versions](../40_tensorflow/41_Introduction.ipynb#Versions) for versions of Python and Tensorflow."
   ]
  },
  {
   "cell_type": "markdown",
   "metadata": {
    "slideshow": {
     "slide_type": "notes"
    }
   },
   "source": [
    "최신 버전은 이전 버전의 기능을 개선하고 보안 문제를 해결합니다. 그러나 내가 사용하는 패키지가 아직 최신 버전을 지원하지 않을 수 있기 때문에 호환성 여부를 확인해야 합니다."
   ]
  },
  {
   "cell_type": "markdown",
   "metadata": {
    "slideshow": {
     "slide_type": "slide"
    }
   },
   "source": [
    "## Reference\n",
    "- https://www.python.org/\n",
    "- https://en.wikipedia.org/wiki/Python_(programming_language)\n",
    "- https://docs.python.org/3/tutorial/\n",
    "- http://www.ciokorea.com/news/38148"
   ]
  }
 ],
 "metadata": {
  "celltoolbar": "Slideshow",
  "kernelspec": {
   "display_name": "Python 3",
   "language": "python",
   "name": "python3"
  },
  "language_info": {
   "codemirror_mode": {
    "name": "ipython",
    "version": 3
   },
   "file_extension": ".py",
   "mimetype": "text/x-python",
   "name": "python",
   "nbconvert_exporter": "python",
   "pygments_lexer": "ipython3",
   "version": "3.6.8"
  },
  "title": "Python - Introduction"
 },
 "nbformat": 4,
 "nbformat_minor": 4
}
