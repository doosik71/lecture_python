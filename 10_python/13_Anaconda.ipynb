{
 "cells": [
  {
   "cell_type": "markdown",
   "metadata": {},
   "source": [
    "# Anaconda"
   ]
  },
  {
   "cell_type": "raw",
   "metadata": {
    "jupyter": {
     "source_hidden": true
    }
   },
   "source": [
    "</section><section>"
   ]
  },
  {
   "cell_type": "markdown",
   "metadata": {},
   "source": [
    "## About\n",
    "**Anaconda is a free and open-source distribution of the Python and R programming languages** for scientific computing (data science, machine learning applications, large-scale data processing, predictive analytics, etc.), that aims to simplify package management and deployment.\n",
    "**Package versions are managed by the package management system conda**.\n",
    "The Anaconda distribution is used by over 15 million users and includes more than 1500 popular data-science packages suitable for Windows, Linux, and MacOS."
   ]
  },
  {
   "cell_type": "raw",
   "metadata": {
    "jupyter": {
     "source_hidden": true
    }
   },
   "source": [
    "</section><section>"
   ]
  },
  {
   "cell_type": "markdown",
   "metadata": {},
   "source": [
    "## Installation\n",
    "\n",
    "- Download from https://www.anaconda.com/distribution/#download-section\n",
    "- Version: Anaconda 2019.03 for Windows Installer / Python 3.7 version / 64-Bit Graphical Installer (662 MB)\n",
    "- For more information, see https://docs.anaconda.com/anaconda/install/windows/"
   ]
  },
  {
   "cell_type": "raw",
   "metadata": {
    "jupyter": {
     "source_hidden": true
    }
   },
   "source": [
    "</section><section>"
   ]
  },
  {
   "cell_type": "markdown",
   "metadata": {},
   "source": [
    "## Packages\n",
    "\n",
    "| Name | Description |\n",
    "|---------------------|--------------|\n",
    "| 1. NumPy <span style=\"color:red\">★</span> | N-dimensional array for numerical computation |\n",
    "| 2. SciPy <span style=\"color:red\">★</span> | Scientific computing library for Python |\n",
    "| 3. Matplotlib <span style=\"color:red\">★</span> | 2D Plotting library for Python |\n",
    "| 4. Pandas | Powerful Python data structures and data analysis toolkit |\n",
    "| 5. Seaborn | Statistical graphics library for Python |\n",
    "| 6. Bokeh | Interactive web visualization library |\n",
    "| 7. Scikit-Learn <span style=\"color:red\">★</span> | Python modules for machine learning and data mining |\n",
    "| 8. NLTK | Natural language toolkit |\n",
    "| 9. Jupyter Notebook <span style=\"color:red\">★</span> | Web app that allows you to create and share documents that contain live code, equations, visualizations and explanatory text |\n",
    "| 10. R essentials | 80+ of the most used R packages for data science |"
   ]
  },
  {
   "cell_type": "raw",
   "metadata": {
    "jupyter": {
     "source_hidden": true
    }
   },
   "source": [
    "</section><section>"
   ]
  },
  {
   "cell_type": "markdown",
   "metadata": {},
   "source": [
    "## How to Upgrade or Downgrade Python Version\n",
    "\n",
    "pip cannot upgrade or downgrade python itself. Use conda instead if available.\n",
    "\n",
    "```bash\n",
    "conda install python==3.6.8\n",
    "```"
   ]
  },
  {
   "cell_type": "raw",
   "metadata": {
    "jupyter": {
     "source_hidden": true
    }
   },
   "source": [
    "</section><section>"
   ]
  },
  {
   "cell_type": "markdown",
   "metadata": {},
   "source": [
    "## Reference\n",
    "- https://en.wikipedia.org/wiki/Anaconda_(Python_distribution)\n",
    "- https://docs.anaconda.com/anaconda/user-guide/"
   ]
  }
 ],
 "metadata": {
  "kernelspec": {
   "display_name": "Python 3",
   "language": "python",
   "name": "python3"
  },
  "language_info": {
   "codemirror_mode": {
    "name": "ipython",
    "version": 3
   },
   "file_extension": ".py",
   "mimetype": "text/x-python",
   "name": "python",
   "nbconvert_exporter": "python",
   "pygments_lexer": "ipython3",
   "version": "3.6.8"
  }
 },
 "nbformat": 4,
 "nbformat_minor": 4
}
