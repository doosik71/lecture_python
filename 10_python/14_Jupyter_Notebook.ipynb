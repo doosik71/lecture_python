{
 "cells": [
  {
   "cell_type": "markdown",
   "metadata": {
    "slideshow": {
     "slide_type": "slide"
    }
   },
   "source": [
    "# Jupyter Notebook"
   ]
  },
  {
   "cell_type": "markdown",
   "metadata": {
    "slideshow": {
     "slide_type": "slide"
    }
   },
   "source": [
    "## About\n",
    "The Jupyter Notebook is an open-source web application that allows you to create and share documents that contain live code, equations, visualizations and narrative text."
   ]
  },
  {
   "cell_type": "markdown",
   "metadata": {
    "slideshow": {
     "slide_type": "slide"
    }
   },
   "source": [
    "## Installation\n",
    "```bash\n",
    "pip install jupyter\n",
    "pip install jupyterlab\n",
    "```"
   ]
  },
  {
   "cell_type": "markdown",
   "metadata": {
    "slideshow": {
     "slide_type": "slide"
    }
   },
   "source": [
    "## Setting up as remote server\n",
    "\n",
    "```bash\n",
    "# Configuration file will be generated as ~/.jupyter/jupyter_notebook_config.py\n",
    "jupyter notebook --generate-config\n",
    "\n",
    "# Password will be stored in ~/.jupyter/jupyter_notebook_config.json\n",
    "jupyter notebook password\n",
    "```\n",
    "\n",
    "Update c.NotebookApp.ip vairiable in ~/.jupyter/jupyter_notebook_config.py file:\n",
    "\n",
    "```bash\n",
    "#c.NotebookApp.ip = 'localhost'\n",
    "c.NotebookApp.ip = '*'\n",
    "```"
   ]
  },
  {
   "cell_type": "markdown",
   "metadata": {
    "slideshow": {
     "slide_type": "notes"
    }
   },
   "source": [
    "jupyter notebook의 기본값은 로컬에서만 접근이 가능합니다. 원격에서 접근할 수 있도록 설정하려면, 암호를 입력하고 기본 설정값을 변경해야 합니다."
   ]
  },
  {
   "cell_type": "markdown",
   "metadata": {
    "slideshow": {
     "slide_type": "slide"
    }
   },
   "source": [
    "## Running the Jupyter Notebook/Lab\n",
    "```bash\n",
    "jupyter notebook\n",
    "```\n",
    "or\n",
    "```bash\n",
    "jupyter lab\n",
    "```"
   ]
  },
  {
   "cell_type": "markdown",
   "metadata": {
    "slideshow": {
     "slide_type": "slide"
    }
   },
   "source": [
    "## Shortcuts\n",
    "\n",
    "### While in command mode (press Esc to activate):\n",
    "\n",
    "- **Enter** take you into edit mode <span style=\"color:red\">★</span>\n",
    "- **A** insert cell above <span style=\"color:red\">★</span>\n",
    "- **B** insert cell below <span style=\"color:red\">★</span>\n",
    "- **X** cut selected cells <span style=\"color:red\">★</span>\n",
    "- **C** copy selected cells <span style=\"color:red\">★</span>\n",
    "- **V** paste cells below <span style=\"color:red\">★</span>\n",
    "- **Shift + V** paste cells above\n",
    "- **D, D** (press the key twice) delete selected cells <span style=\"color:red\">★</span>\n",
    "- **H** show all shortcuts\n",
    "- **Up** select cell above\n",
    "- **Down** select cell below\n",
    "- **Shift + Up** extend selected cells above\n",
    "- **Shift + Down** extend selected cells below\n",
    "- **Z** undo cell deletion\n",
    "- **S** Save and Checkpoint\n",
    "- **Y** change the cell type to Code\n",
    "- **M** change the cell type to Markdown\n",
    "- **P** open the command palette"
   ]
  },
  {
   "cell_type": "markdown",
   "metadata": {
    "slideshow": {
     "slide_type": "slide"
    }
   },
   "source": [
    "### While in edit mode (press Enter to activate)\n",
    "- **Esc** take you into command mode <span style=\"color:red\">★</span>\n",
    "- **Tab** code completion or indent <span style=\"color:red\">★</span>\n",
    "- **Shift + Tab** tooltip\n",
    "- **Ctrl + \\]** indent\n",
    "- **Ctrl + \\[** dedent\n",
    "- **Ctrl + A** select all\n",
    "- **Ctrl + Z** undo\n",
    "- **Ctrl + Shift + Z** or **Ctrl + Y** redo\n",
    "- **Ctrl + Home** go to cell start\n",
    "- **Ctrl + End** go to cell end\n",
    "- **Ctrl + Left** go one word left\n",
    "- **Ctrl + Right** go one word right\n",
    "- **Ctrl + Shift + P** open the command palette\n",
    "- **Down** move cursor down\n",
    "- **Up** move cursor up"
   ]
  },
  {
   "cell_type": "markdown",
   "metadata": {
    "slideshow": {
     "slide_type": "slide"
    }
   },
   "source": [
    "### Shortcuts in the both modes:\n",
    "\n",
    "- **Shift + Enter** run the current cell, select below <span style=\"color:red\">★</span>\n",
    "- **Ctrl + Enter** run selected cells\n",
    "- **Alt + Enter** run the current cell, insert below <span style=\"color:red\">★</span>\n",
    "- **Ctrl + S** save and checkpoint"
   ]
  },
  {
   "cell_type": "markdown",
   "metadata": {
    "slideshow": {
     "slide_type": "slide"
    }
   },
   "source": [
    "## RISE Extension (optional)\n",
    "\n",
    "### Installation\n",
    "\n",
    "```bash\n",
    "pip install RISE\n",
    "jupyter-nbextension install rise --py --sys-prefix\n",
    "```"
   ]
  },
  {
   "cell_type": "markdown",
   "metadata": {
    "slideshow": {
     "slide_type": "slide"
    }
   },
   "source": [
    "## nbconvert (optional)\n",
    "\n",
    "### Export to HTML\n",
    "\n",
    "```bash\n",
    "jupyter nbconvert --to=slides --output-dir=./slides/10_python/ 10_python/11_Introduction.ipynb\n",
    "```\n",
    "\n",
    "### Export to PDF\n",
    "\n",
    "```bash\n",
    "jupyter nbconvert --to=pdf --template=../templates/article.tplx --output-dir=../pdf/10_python/ 11_Introduction.ipynb\n",
    "```"
   ]
  },
  {
   "cell_type": "markdown",
   "metadata": {
    "slideshow": {
     "slide_type": "notes"
    }
   },
   "source": [
    "노트북 파일을 PDF로 변환하려면 pandoc, latex, ko-tex, graphviz, inkscape 등의 프로그램이 필요할 수 있습니다."
   ]
  },
  {
   "cell_type": "markdown",
   "metadata": {
    "slideshow": {
     "slide_type": "slide"
    }
   },
   "source": [
    "## Reference\n",
    "- https://jupyter-notebook-beginner-guide.readthedocs.io/en/latest/index.html\n",
    "- https://towardsdatascience.com/jypyter-notebook-shortcuts-bf0101a98330\n",
    "- https://rise.readthedocs.io/en/maint-5.5/"
   ]
  }
 ],
 "metadata": {
  "celltoolbar": "Slideshow",
  "kernelspec": {
   "display_name": "Python 3",
   "language": "python",
   "name": "python3"
  },
  "language_info": {
   "codemirror_mode": {
    "name": "ipython",
    "version": 3
   },
   "file_extension": ".py",
   "mimetype": "text/x-python",
   "name": "python",
   "nbconvert_exporter": "python",
   "pygments_lexer": "ipython3",
   "version": "3.6.8"
  },
  "title": "Python - Jupyter Notebook"
 },
 "nbformat": 4,
 "nbformat_minor": 4
}
