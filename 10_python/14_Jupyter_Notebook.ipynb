{
 "cells": [
  {
   "cell_type": "markdown",
   "metadata": {},
   "source": [
    "# Jupyter Notebook"
   ]
  },
  {
   "cell_type": "raw",
   "metadata": {
    "jupyter": {
     "source_hidden": true
    }
   },
   "source": [
    "</section><section>"
   ]
  },
  {
   "cell_type": "markdown",
   "metadata": {},
   "source": [
    "## About\n",
    "The Jupyter Notebook is an open-source web application that allows you to create and share documents that contain live code, equations, visualizations and narrative text."
   ]
  },
  {
   "cell_type": "raw",
   "metadata": {
    "jupyter": {
     "source_hidden": true
    }
   },
   "source": [
    "</section><section>"
   ]
  },
  {
   "cell_type": "markdown",
   "metadata": {},
   "source": [
    "## Installation\n",
    "```bash\n",
    "pip install jupyter\n",
    "pip install jupyterlab\n",
    "```"
   ]
  },
  {
   "cell_type": "raw",
   "metadata": {
    "jupyter": {
     "source_hidden": true
    }
   },
   "source": [
    "</section><section>"
   ]
  },
  {
   "cell_type": "markdown",
   "metadata": {},
   "source": [
    "## Setting up as remote server\n",
    "\n",
    "```bash\n",
    "# Configuration file will be generated as ~/.jupyter/jupyter_notebook_config.py\n",
    "jupyter notebook --generate-config\n",
    "\n",
    "# Password will be stored in ~/.jupyter/jupyter_notebook_config.json\n",
    "jupyter notebook password\n",
    "```\n",
    "\n",
    "Update c.NotebookApp.ip vairiable in ~/.jupyter/jupyter_notebook_config.py file:\n",
    "\n",
    "```bash\n",
    "#c.NotebookApp.ip = 'localhost'\n",
    "c.NotebookApp.ip = '*'\n",
    "```"
   ]
  },
  {
   "cell_type": "raw",
   "metadata": {
    "jupyter": {
     "source_hidden": true
    }
   },
   "source": [
    "</section><section>"
   ]
  },
  {
   "cell_type": "markdown",
   "metadata": {},
   "source": [
    "## Running the Jupyter Notebook/Lab\n",
    "```bash\n",
    "jupyter notebook\n",
    "```\n",
    "or\n",
    "```bash\n",
    "jupyter lab\n",
    "```"
   ]
  },
  {
   "cell_type": "raw",
   "metadata": {
    "jupyter": {
     "source_hidden": true
    }
   },
   "source": [
    "</section><section>"
   ]
  },
  {
   "cell_type": "markdown",
   "metadata": {},
   "source": [
    "## Shortcuts\n",
    "\n",
    "### While in command mode (press Esc to activate):\n",
    "\n",
    "- **Enter** take you into edit mode <span style=\"color:red\">★</span>\n",
    "- **A** insert cell above <span style=\"color:red\">★</span>\n",
    "- **B** insert cell below <span style=\"color:red\">★</span>\n",
    "- **X** cut selected cells <span style=\"color:red\">★</span>\n",
    "- **C** copy selected cells <span style=\"color:red\">★</span>\n",
    "- **V** paste cells below <span style=\"color:red\">★</span>\n",
    "- **Shift + V** paste cells above\n",
    "- **D, D** (press the key twice) delete selected cells <span style=\"color:red\">★</span>\n",
    "- **H** show all shortcuts\n",
    "- **Up** select cell above\n",
    "- **Down** select cell below\n",
    "- **Shift + Up** extend selected cells above\n",
    "- **Shift + Down** extend selected cells below\n",
    "- **Z** undo cell deletion\n",
    "- **S** Save and Checkpoint\n",
    "- **Y** change the cell type to Code\n",
    "- **M** change the cell type to Markdown\n",
    "- **P** open the command palette"
   ]
  },
  {
   "cell_type": "raw",
   "metadata": {
    "jupyter": {
     "source_hidden": true
    }
   },
   "source": [
    "</section><section>"
   ]
  },
  {
   "cell_type": "markdown",
   "metadata": {},
   "source": [
    "### While in edit mode (press Enter to activate)\n",
    "- **Esc** take you into command mode <span style=\"color:red\">★</span>\n",
    "- **Tab** code completion or indent <span style=\"color:red\">★</span>\n",
    "- **Shift + Tab** tooltip\n",
    "- **Ctrl + \\]** indent\n",
    "- **Ctrl + \\[** dedent\n",
    "- **Ctrl + A** select all\n",
    "- **Ctrl + Z** undo\n",
    "- **Ctrl + Shift + Z** or **Ctrl + Y** redo\n",
    "- **Ctrl + Home** go to cell start\n",
    "- **Ctrl + End** go to cell end\n",
    "- **Ctrl + Left** go one word left\n",
    "- **Ctrl + Right** go one word right\n",
    "- **Ctrl + Shift + P** open the command palette\n",
    "- **Down** move cursor down\n",
    "- **Up** move cursor up"
   ]
  },
  {
   "cell_type": "raw",
   "metadata": {
    "jupyter": {
     "source_hidden": true
    }
   },
   "source": [
    "</section><section>"
   ]
  },
  {
   "cell_type": "markdown",
   "metadata": {},
   "source": [
    "### Shortcuts in the both modes:\n",
    "\n",
    "- **Shift + Enter** run the current cell, select below <span style=\"color:red\">★</span>\n",
    "- **Ctrl + Enter** run selected cells\n",
    "- **Alt + Enter** run the current cell, insert below <span style=\"color:red\">★</span>\n",
    "- **Ctrl + S** save and checkpoint"
   ]
  },
  {
   "cell_type": "raw",
   "metadata": {
    "jupyter": {
     "source_hidden": true
    }
   },
   "source": [
    "</section><section>"
   ]
  },
  {
   "cell_type": "markdown",
   "metadata": {},
   "source": [
    "## Reference\n",
    "- https://jupyter-notebook-beginner-guide.readthedocs.io/en/latest/index.html\n",
    "- https://towardsdatascience.com/jypyter-notebook-shortcuts-bf0101a98330"
   ]
  }
 ],
 "metadata": {
  "kernelspec": {
   "display_name": "Python 3",
   "language": "python",
   "name": "python3"
  },
  "language_info": {
   "codemirror_mode": {
    "name": "ipython",
    "version": 3
   },
   "file_extension": ".py",
   "mimetype": "text/x-python",
   "name": "python",
   "nbconvert_exporter": "python",
   "pygments_lexer": "ipython3",
   "version": "3.6.8"
  }
 },
 "nbformat": 4,
 "nbformat_minor": 4
}
