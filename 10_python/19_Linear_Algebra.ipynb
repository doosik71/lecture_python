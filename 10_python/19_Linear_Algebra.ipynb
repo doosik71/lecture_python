{
 "cells": [
  {
   "cell_type": "markdown",
   "metadata": {
    "slideshow": {
     "slide_type": "slide"
    }
   },
   "source": [
    "# Linear Algebra"
   ]
  },
  {
   "cell_type": "code",
   "execution_count": 2,
   "metadata": {
    "slideshow": {
     "slide_type": "slide"
    }
   },
   "outputs": [],
   "source": [
    "%matplotlib inline\n",
    "import numpy as np\n",
    "import matplotlib.pyplot as plt\n",
    "from mpl_toolkits.mplot3d import Axes3D\n",
    "import math"
   ]
  },
  {
   "cell_type": "markdown",
   "metadata": {
    "slideshow": {
     "slide_type": "slide"
    }
   },
   "source": [
    "## Scalar"
   ]
  },
  {
   "cell_type": "code",
   "execution_count": 2,
   "metadata": {
    "scrolled": true
   },
   "outputs": [
    {
     "name": "stdout",
     "output_type": "stream",
     "text": [
      "a + b = 3.0\n",
      "a - b = -1.0\n",
      "a * b = 2.0\n",
      "a / b = 0.5\n"
     ]
    }
   ],
   "source": [
    "a = 1.0\n",
    "b = 2.0\n",
    "print('a + b =', a + b)\n",
    "print('a - b =', a - b)\n",
    "print('a * b =', a * b)\n",
    "print('a / b =', a / b)"
   ]
  },
  {
   "cell_type": "markdown",
   "metadata": {
    "slideshow": {
     "slide_type": "slide"
    }
   },
   "source": [
    "### Scalar properties\n",
    "\n",
    "- Commutative laws\n",
    "$$\n",
    "\\begin{aligned}\n",
    "a + b &= b + a \\\\\n",
    "a \\times b &= b \\times a \\\\\n",
    "a - b &\\neq b - a \\\\\n",
    "{ a \\over b } &\\neq { b \\over a }\n",
    "\\end{aligned}\n",
    "$$"
   ]
  },
  {
   "cell_type": "markdown",
   "metadata": {
    "slideshow": {
     "slide_type": "slide"
    }
   },
   "source": [
    "- Associative laws\n",
    "$$\n",
    "\\begin{aligned}\n",
    "(a + b) + c &= a + (b + c) \\\\\n",
    "(a \\times b) \\times c &= a \\times (b \\times c)\n",
    "\\end{aligned}\n",
    "$$\n",
    "- Distributive laws\n",
    "$$\n",
    "\\begin{aligned}\n",
    "a \\times (b \\pm c) &= a \\times b \\pm a \\times c \\\\\n",
    "{ {a \\pm b} \\over c} &= { a \\over c} \\pm { b \\over c}\n",
    "\\end{aligned}\n",
    "$$"
   ]
  },
  {
   "cell_type": "markdown",
   "metadata": {
    "slideshow": {
     "slide_type": "slide"
    }
   },
   "source": [
    "## Vector\n",
    "- In computer science, a vector is a one-dimensional array.\n",
    "- In mathematics, a vector is an element of a vector space.\n",
    "- A vector have direction and magnitude. Scalar only have magnitude.\n",
    "- The dimension of a vector space V is the cardinality (i.e. the number of vectors) of a basis of V over its base field.\n",
    "\n",
    "$$\n",
    "\\mathbf{v} = \n",
    "\\begin{pmatrix} a_1 \\\\ a_2 \\\\ \\vdots \\\\ a_n \\end{pmatrix}\n",
    "$$"
   ]
  },
  {
   "cell_type": "code",
   "execution_count": 3,
   "metadata": {
    "scrolled": true,
    "slideshow": {
     "slide_type": "slide"
    }
   },
   "outputs": [
    {
     "name": "stdout",
     "output_type": "stream",
     "text": [
      "vec1 = [1 2 3]\n",
      "vec2 = [4 5 6]\n",
      "vec1.shape = (3,)\n",
      "vec2.shape = (3,)\n",
      "vec1[0] = 1\n",
      "vec1[0:2] = [1 2]\n"
     ]
    }
   ],
   "source": [
    "vec1 = np.array([1, 2, 3])\n",
    "vec2 = np.array([4, 5, 6])\n",
    "print('vec1 =', vec1)\n",
    "print('vec2 =', vec2)\n",
    "print('vec1.shape =', vec1.shape)\n",
    "print('vec2.shape =', vec1.shape)\n",
    "print('vec1[0] =', vec1[0])\n",
    "print('vec1[0:2] =', vec1[0:2])"
   ]
  },
  {
   "cell_type": "markdown",
   "metadata": {
    "slideshow": {
     "slide_type": "notes"
    }
   },
   "source": [
    "벡터 $(1,2,3)$은 3-차원 벡터 공간에 속하는 요소이며, 전산학 분야에서는 길이 3을 갖는 1-차원 배열로 표현할 수 있습니다."
   ]
  },
  {
   "cell_type": "markdown",
   "metadata": {
    "slideshow": {
     "slide_type": "slide"
    }
   },
   "source": [
    "### Element-wise vector operations\n",
    "\n",
    "$$\n",
    "\\begin{aligned}\n",
    "& \\mathbf{v} = \\begin{pmatrix} a_1 \\\\ a_2 \\\\ \\vdots \\\\ a_n \\end{pmatrix}, \\mathbf{w} = \\begin{pmatrix} b_1 \\\\ b_2 \\\\ \\vdots \\\\ b_n \\end{pmatrix} \\\\\n",
    "& (\\mathbf{v} * \\mathbf{w})_i = a_i * b_i \\text{ where } * \\in \\{ +, -, \\times, / \\}\n",
    "\\end{aligned}\n",
    "$$"
   ]
  },
  {
   "cell_type": "code",
   "execution_count": 4,
   "metadata": {
    "slideshow": {
     "slide_type": "slide"
    }
   },
   "outputs": [
    {
     "name": "stdout",
     "output_type": "stream",
     "text": [
      "vec1 + vec2 = [5 7 9]\n",
      "vec1 - vec2 = [-3 -3 -3]\n",
      "vec1 * vec2 = [ 4 10 18]\n",
      "vec1 / vec2 = [0.25 0.4  0.5 ]\n"
     ]
    }
   ],
   "source": [
    "print('vec1 + vec2 =', vec1 + vec2)\n",
    "print('vec1 - vec2 =', vec1 - vec2)\n",
    "print('vec1 * vec2 =', vec1 * vec2)  # * is not dot product!\n",
    "print('vec1 / vec2 =', vec1 / vec2)\n"
   ]
  },
  {
   "cell_type": "markdown",
   "metadata": {
    "slideshow": {
     "slide_type": "slide"
    }
   },
   "source": [
    "### Transpose of vector\n",
    "$$\n",
    "\\begin{aligned}\n",
    "\\mathbf{v} &= \\begin{pmatrix} a_1 \\\\ a_2 \\\\ \\vdots \\\\ a_n \\end{pmatrix} \\\\\n",
    "\\mathbf{v}^T &= \\begin{pmatrix} a_1 & a_2 & \\dots & a_n \\end{pmatrix}\n",
    "\\end{aligned}\n",
    "$$\n",
    "\n",
    "- If $\\mathbf{v}$ is a column vector, $\\mathbf{v}^T$ is a row vector, and vice versa."
   ]
  },
  {
   "cell_type": "markdown",
   "metadata": {
    "slideshow": {
     "slide_type": "slide"
    }
   },
   "source": [
    "### Norm (length of a vector)\n",
    "$$\n",
    "\\begin{aligned}\n",
    "\\mathbf{v} &= \\begin{pmatrix} a_1 & a_2 & \\dots & a_n \\end{pmatrix}^T \\\\\n",
    "|\\mathbf{v}| &= \\sqrt { \\sum_{t=1}^n a_t^2 }\n",
    "\\end{aligned}\n",
    "$$"
   ]
  },
  {
   "cell_type": "code",
   "execution_count": 5,
   "metadata": {},
   "outputs": [
    {
     "name": "stdout",
     "output_type": "stream",
     "text": [
      "np.linalg.norm(vec1) = 3.7416573867739413\n"
     ]
    }
   ],
   "source": [
    "vec1 = np.array([1, 2, 3])\n",
    "np.linalg.norm(vec1)\n",
    "print('np.linalg.norm(vec1) =', np.linalg.norm(vec1))"
   ]
  },
  {
   "cell_type": "markdown",
   "metadata": {
    "slideshow": {
     "slide_type": "slide"
    }
   },
   "source": [
    "### Norm property\n",
    "$$\n",
    "\\begin{aligned}\n",
    "|\\mathbf{v}| > 0 & \\quad \\text{when } \\mathbf{v} \\neq \\mathbf{0}. \\\\\n",
    "|\\mathbf{v}| = 0 & \\quad \\text{iff } \\mathbf{v} = \\mathbf{0}. \\\\\n",
    "|p \\mathbf{v}| = |p| |\\mathbf{w}| & \\quad \\text{where } p \\text { is a scalar.} \\\\\n",
    "|\\mathbf{v} + \\mathbf{w}| \\leq |\\mathbf{v}| + |\\mathbf{w}| & \\quad \\text{(triangular inequality)}\n",
    "\\end{aligned}\n",
    "$$"
   ]
  },
  {
   "cell_type": "markdown",
   "metadata": {
    "slideshow": {
     "slide_type": "slide"
    }
   },
   "source": [
    "### Inner product of two vectors\n",
    "\n",
    "$$\n",
    "\\begin{aligned}\n",
    "& \\mathbf{v} = \\begin{pmatrix} a_1 \\\\ a_2 \\\\ \\vdots \\\\ a_n \\end{pmatrix}, \\mathbf{w} = \\begin{pmatrix} b_1 \\\\ b_2 \\\\ \\vdots \\\\ b_n \\end{pmatrix} \\\\\n",
    "& \\langle \\mathbf{v}, \\mathbf{w} \\rangle = \\sum_{i=1}^n a_i b_i\n",
    "\\end{aligned}\n",
    "$$"
   ]
  },
  {
   "cell_type": "code",
   "execution_count": 6,
   "metadata": {
    "scrolled": true
   },
   "outputs": [
    {
     "name": "stdout",
     "output_type": "stream",
     "text": [
      "np.dot(vec1, vec2) = 32\n"
     ]
    }
   ],
   "source": [
    "print('np.dot(vec1, vec2) =', np.dot(vec1, vec2))"
   ]
  },
  {
   "cell_type": "markdown",
   "metadata": {
    "slideshow": {
     "slide_type": "slide"
    }
   },
   "source": [
    "### Vector properties\n",
    "\n",
    "- Commutative laws\n",
    "$$\n",
    "\\begin{aligned}\n",
    "\\mathbf{a} + \\mathbf{b} &= \\mathbf{b} + \\mathbf{a} \\\\\n",
    "p \\times \\mathbf{a} &= \\mathbf{a} \\times p \\\\\n",
    "\\langle \\mathbf{a}, \\mathbf{b} \\rangle &= \\langle \\mathbf{b}, \\mathbf{a} \\rangle\n",
    "\\end{aligned}\n",
    "$$\n",
    "- Associative laws\n",
    "$$\n",
    "\\begin{aligned}\n",
    "(\\mathbf{a} + \\mathbf{b}) + \\mathbf{c} &= \\mathbf{a} + (\\mathbf{b} + \\mathbf{c}) \\\\\n",
    "\\langle \\mathbf{a} , \\mathbf{b} \\rangle \\times \\mathbf{c} &\\neq \\mathbf{a} \\times \\langle \\mathbf{b} , \\mathbf{c} \\rangle\n",
    "\\end{aligned}\n",
    "$$\n",
    "- Distributive laws\n",
    "$$\n",
    "\\begin{aligned}\n",
    "&p \\times (\\mathbf{a} \\pm \\mathbf{b}) = (\\mathbf{a} \\pm \\mathbf{b}) \\times p = p \\times \\mathbf{a} \\pm p \\times \\mathbf{b} \\\\\n",
    "&\\text{where } p \\text{ is a scalar.}\n",
    "\\end{aligned}\n",
    "$$"
   ]
  },
  {
   "cell_type": "markdown",
   "metadata": {
    "slideshow": {
     "slide_type": "notes"
    }
   },
   "source": [
    "내적을 벡터의 곱이라고 표현을 많이 하지만 스칼라의 곱셈과 특성이 다릅니다."
   ]
  },
  {
   "cell_type": "markdown",
   "metadata": {
    "slideshow": {
     "slide_type": "slide"
    }
   },
   "source": [
    "## Matrix\n",
    "\n",
    "$$\n",
    "\\mathbf{M}_{m \\times n} = \\begin{pmatrix}\n",
    "a_{1,1} & a_{1,2} & \\cdots & a_{1,n} \\\\\n",
    "a_{2,1} & a_{2,2} & \\cdots & a_{2,n} \\\\\n",
    "\\vdots & \\vdots & \\ddots & \\vdots \\\\\n",
    "a_{m,1} & a_{m,2} & \\cdots & a_{m,n} \\\\\n",
    "\\end{pmatrix}\n",
    "$$"
   ]
  },
  {
   "cell_type": "markdown",
   "metadata": {
    "slideshow": {
     "slide_type": "slide"
    }
   },
   "source": [
    "### Matrix representation of vectors"
   ]
  },
  {
   "cell_type": "code",
   "execution_count": 7,
   "metadata": {},
   "outputs": [
    {
     "name": "stdout",
     "output_type": "stream",
     "text": [
      "mat1 = [[1 2 3]]\n",
      "mat2 =\n",
      "[[4]\n",
      " [5]\n",
      " [6]]\n",
      "mat1.shape = (1, 3)\n",
      "mat1.shape = (3, 1)\n"
     ]
    }
   ],
   "source": [
    "mat1 = np.array([[1, 2, 3]])  # row vector == 1-row matrix.\n",
    "mat2 = np.array([[4], [5], [6]])  # column vector == 1-column matrix.\n",
    "print('mat1 =', mat1)\n",
    "print('mat2 =', mat2, sep='\\n')\n",
    "print('mat1.shape =', mat1.shape)\n",
    "print('mat1.shape =', mat2.shape)"
   ]
  },
  {
   "cell_type": "markdown",
   "metadata": {
    "slideshow": {
     "slide_type": "slide"
    }
   },
   "source": [
    "### Matrix multiplication\n",
    "\n",
    "$$\n",
    "\\begin{aligned}\n",
    "&\\mathbf{A}_{m \\times p} = \\begin{pmatrix}\n",
    "a_{1,1} & a_{1,2} & \\cdots & a_{1,p} \\\\\n",
    "a_{2,1} & a_{2,2} & \\cdots & a_{2,p} \\\\\n",
    "\\vdots & \\vdots & \\ddots & \\vdots \\\\\n",
    "a_{m,1} & a_{m,2} & \\cdots & a_{m,p} \\\\\n",
    "\\end{pmatrix}\n",
    ",\n",
    "\\mathbf{B}_{p \\times n} = \\begin{pmatrix}\n",
    "b_{1,1} & b_{1,2} & \\cdots & b_{1,n} \\\\\n",
    "b_{2,1} & b_{2,2} & \\cdots & b_{2,n} \\\\\n",
    "\\vdots & \\vdots & \\ddots & \\vdots \\\\\n",
    "b_{p,1} & b_{p,2} & \\cdots & b_{p,n} \\\\\n",
    "\\end{pmatrix}\n",
    "\\\\\n",
    "&\\mathbf{C}_{m \\times n} = \\mathbf{A}_{m \\times p} \\cdot \\mathbf{B}_{p \\times n} =\n",
    "\\begin{pmatrix}\n",
    "c_{1,1} & c_{1,2} & \\cdots & c_{1,n} \\\\\n",
    "c_{2,1} & c_{2,2} & \\cdots & c_{2,n} \\\\\n",
    "\\vdots & \\vdots & \\ddots & \\vdots \\\\\n",
    "c_{m,1} & c_{m,2} & \\cdots & c_{m,n} \\\\\n",
    "\\end{pmatrix}\n",
    "\\\\\n",
    "&\\text{where } c_{i,j} = \\sum_{k=1}^p a_{i,k} b_{k,j} \\text{ for } i = 1, 2, \\dots m \\text{ and }  j = 1, 2, \\dots n.\n",
    "\\end{aligned}\n",
    "$$"
   ]
  },
  {
   "cell_type": "code",
   "execution_count": 8,
   "metadata": {
    "slideshow": {
     "slide_type": "slide"
    }
   },
   "outputs": [
    {
     "name": "stdout",
     "output_type": "stream",
     "text": [
      "mat3 =\n",
      "[[1 2 3]\n",
      " [4 5 6]\n",
      " [7 8 9]]\n",
      "mat4 =\n",
      "[[10 20 30]\n",
      " [40 50 60]\n",
      " [70 80 90]]\n",
      "np.dot(mat3, mat4) =\n",
      "[[ 300  360  420]\n",
      " [ 660  810  960]\n",
      " [1020 1260 1500]]\n"
     ]
    }
   ],
   "source": [
    "mat3 = np.array([[1, 2, 3], [4, 5, 6], [7, 8, 9]])\n",
    "mat4 = np.array([[10, 20, 30], [40, 50, 60], [70, 80, 90]])\n",
    "print('mat3 =', mat3, sep='\\n')\n",
    "print('mat4 =', mat4, sep='\\n')\n",
    "print('np.dot(mat3, mat4) =', np.dot(mat3, mat4), sep='\\n')"
   ]
  },
  {
   "cell_type": "markdown",
   "metadata": {
    "slideshow": {
     "slide_type": "slide"
    }
   },
   "source": [
    "### Matrix representation of vector's inner product\n",
    "\n",
    "$$\n",
    "\\langle \\mathbf{v}_1, \\mathbf{v}_2 \\rangle =\n",
    "\\mathbf{V}_1^T \\cdot \\mathbf{V}_2 =\n",
    "\\begin{pmatrix} a_1 & a_2 & \\dots & a_n \\end{pmatrix}\n",
    "\\cdot\n",
    "\\begin{pmatrix} b_1 \\\\ b_2 \\\\ \\vdots \\\\ b_n \\end{pmatrix}\n",
    "$$"
   ]
  },
  {
   "cell_type": "code",
   "execution_count": 9,
   "metadata": {
    "slideshow": {
     "slide_type": "-"
    }
   },
   "outputs": [
    {
     "name": "stdout",
     "output_type": "stream",
     "text": [
      "np.dot(row_vec, col_vec) = [[32]]\n"
     ]
    }
   ],
   "source": [
    "row_vec = np.array([[1, 2, 3]])\n",
    "col_vec = np.array([[4], [5], [6]])\n",
    "print('np.dot(row_vec, col_vec) =', np.dot(row_vec, col_vec))"
   ]
  },
  {
   "cell_type": "markdown",
   "metadata": {
    "slideshow": {
     "slide_type": "slide"
    }
   },
   "source": [
    "### Matrix representation of vector's outer product\n",
    "\n",
    "$$\n",
    "\\mathbf{v}_1 \\otimes \\mathbf{v}_2 =\n",
    "\\mathbf{V}_1 \\cdot \\mathbf{V}_2^T =\n",
    "\\begin{pmatrix} a_1 \\\\ a_2 \\\\ \\vdots \\\\ a_n \\end{pmatrix}\n",
    "\\cdot\n",
    "\\begin{pmatrix} b_1 & b_2 & \\dots & b_n \\end{pmatrix}\n",
    "$$\n"
   ]
  },
  {
   "cell_type": "code",
   "execution_count": 10,
   "metadata": {
    "slideshow": {
     "slide_type": "-"
    }
   },
   "outputs": [
    {
     "name": "stdout",
     "output_type": "stream",
     "text": [
      "np.dot(col_vec, row_vec) = [[ 4  8 12]\n",
      " [ 5 10 15]\n",
      " [ 6 12 18]]\n"
     ]
    }
   ],
   "source": [
    "col_vec = np.array([[4], [5], [6]])\n",
    "row_vec = np.array([[1, 2, 3]])\n",
    "print('np.dot(col_vec, row_vec) =', np.dot(col_vec, row_vec))"
   ]
  },
  {
   "cell_type": "markdown",
   "metadata": {
    "slideshow": {
     "slide_type": "slide"
    }
   },
   "source": [
    "### Identity matrix\n",
    "$$\n",
    "\\mathbf{A} \\cdot \\mathbf{I} = \\mathbf{I} \\cdot \\mathbf{A} = \\mathbf{A} \\\\\n",
    "\\mathbf{I} =\n",
    "\\begin{pmatrix}\n",
    "1 & 0 & \\cdots & 0 \\\\\n",
    "0 & 1 & \\cdots & 0 \\\\\n",
    "\\vdots & \\vdots & \\ddots & \\vdots \\\\\n",
    "0 & 0 & \\cdots & 1 \\\\\n",
    "\\end{pmatrix}\n",
    "$$"
   ]
  },
  {
   "cell_type": "code",
   "execution_count": 11,
   "metadata": {
    "scrolled": true,
    "slideshow": {
     "slide_type": "slide"
    }
   },
   "outputs": [
    {
     "name": "stdout",
     "output_type": "stream",
     "text": [
      "np.eye(3) =\n",
      "[[1. 0. 0.]\n",
      " [0. 1. 0.]\n",
      " [0. 0. 1.]]\n",
      "np.dot(mat3, np.eye(3)) =\n",
      "[[1. 2. 3.]\n",
      " [4. 5. 6.]\n",
      " [7. 8. 9.]]\n",
      "np.dot(np.eye(3), mat3) =\n",
      "[[1. 2. 3.]\n",
      " [4. 5. 6.]\n",
      " [7. 8. 9.]]\n"
     ]
    }
   ],
   "source": [
    "ident3 = np.eye(3)\n",
    "print('np.eye(3) =', ident3, sep='\\n')\n",
    "print('np.dot(mat3, np.eye(3)) =', np.dot(mat3, ident3), sep='\\n')\n",
    "print('np.dot(np.eye(3), mat3) =', np.dot(ident3, mat3), sep='\\n')"
   ]
  },
  {
   "cell_type": "markdown",
   "metadata": {
    "slideshow": {
     "slide_type": "slide"
    }
   },
   "source": [
    "### Transpose of matrix\n",
    "\n",
    "$$\n",
    "\\begin{aligned}\n",
    "(\\mathbf{A}^T)^T &= \\mathbf{A} \\\\\n",
    "(\\mathbf{A} + \\mathbf{B})^T &= \\mathbf{A}^T + \\mathbf{B}^T \\\\\n",
    "(\\mathbf{A} \\mathbf{B})^T &= \\mathbf{B}^T \\mathbf{A}^T \\\\\n",
    "(k \\mathbf{A})^T &= k \\mathbf{A}^T \\\\\n",
    "\\det \\mathbf{A}^T &= \\det \\mathbf{A} \\\\\n",
    "\\end{aligned}\n",
    "$$"
   ]
  },
  {
   "cell_type": "markdown",
   "metadata": {
    "slideshow": {
     "slide_type": "slide"
    }
   },
   "source": [
    "### Inverse matrix\n",
    "\n",
    "$$\n",
    "\\begin{aligned}\n",
    "\\mathbf{A} \\cdot \\mathbf{A}^{-1} = \\mathbf{A}^{-1} \\cdot \\mathbf{A} &= \\mathbf{I} \\\\\n",
    "(\\mathbf{A}^T)^{-1} &= (\\mathbf{A}^{-1})^T \\\\\n",
    "(\\mathbf{A} \\cdot \\mathbf{B})^{-1} &= \\mathbf{B}^{-1} \\cdot \\mathbf{A}^{-1}\n",
    "\\end{aligned}\n",
    "$$"
   ]
  },
  {
   "cell_type": "markdown",
   "metadata": {
    "slideshow": {
     "slide_type": "slide"
    }
   },
   "source": [
    "### Inverse of $2 \\times 2$ matrix\n",
    "$$\n",
    "\\begin{aligned}\n",
    "& \\text{If }\\mathbf{A} = \\begin{pmatrix}\n",
    "a & b \\\\\n",
    "c & d\n",
    "\\end{pmatrix} \\text{, then; }\\\\\n",
    "& \\mathbf{A}^{-1} = {1 \\over { ad - bc } }\n",
    "\\begin{pmatrix}\n",
    "d & -b \\\\\n",
    "-c & a\n",
    "\\end{pmatrix}\n",
    "\\text{ where } \\det \\mathbf{A} = ad - bc. \\\\\n",
    "& \\mathbf{A}^{-1} \\text{ exist iff }\\det \\mathbf{A} \\neq 0.\n",
    "\\end{aligned}\n",
    "$$"
   ]
  },
  {
   "cell_type": "code",
   "execution_count": 12,
   "metadata": {
    "scrolled": true,
    "slideshow": {
     "slide_type": "slide"
    }
   },
   "outputs": [
    {
     "name": "stdout",
     "output_type": "stream",
     "text": [
      "mat =\n",
      "[[1 2 3]\n",
      " [4 5 5]\n",
      " [7 8 8]]\n",
      "np.linalg.inv(mat) =\n",
      "[[ 5.07530526e-16 -2.66666667e+00  1.66666667e+00]\n",
      " [-1.00000000e+00  4.33333333e+00 -2.33333333e+00]\n",
      " [ 1.00000000e+00 -2.00000000e+00  1.00000000e+00]]\n",
      "np.dot(mat, np.linalg.inv(mat)) =\n",
      "[[ 1.00000000e+00  0.00000000e+00  1.11022302e-16]\n",
      " [-4.44089210e-16  1.00000000e+00 -5.55111512e-16]\n",
      " [ 0.00000000e+00  0.00000000e+00  1.00000000e+00]]\n",
      "np.dot(np.linalg.inv(mat), mat) =\n",
      "[[ 1.00000000e+00 -3.55271368e-15 -3.55271368e-15]\n",
      " [ 3.99680289e-15  1.00000000e+00  3.55271368e-15]\n",
      " [-7.77156117e-16  0.00000000e+00  1.00000000e+00]]\n"
     ]
    }
   ],
   "source": [
    "mat = np.array([[1,2,3], [4,5,5], [7,8,8]])\n",
    "inv = np.linalg.inv(mat)\n",
    "print('mat =', mat, sep='\\n')\n",
    "print('np.linalg.inv(mat) =', inv, sep='\\n')\n",
    "print('np.dot(mat, np.linalg.inv(mat)) =', np.dot(mat, inv), sep='\\n')\n",
    "print('np.dot(np.linalg.inv(mat), mat) =', np.dot(inv, mat), sep='\\n')"
   ]
  },
  {
   "cell_type": "markdown",
   "metadata": {
    "slideshow": {
     "slide_type": "slide"
    }
   },
   "source": [
    "### Linear equation system ($\\mathbf{A} \\cdot \\mathbf{x} = \\mathbf{b}$)\n",
    "- A linear system in three variables determines a collection of planes. The intersection point is the solution.\n",
    "![](linear_system.png)"
   ]
  },
  {
   "cell_type": "markdown",
   "metadata": {
    "slideshow": {
     "slide_type": "notes"
    }
   },
   "source": [
    "$\\mathbf{A}_{i,:}$는 평면 $i$의 방향(법선 벡터; normal vector)을 나타내며, $\\mathbf{b}$는 평면의 원점까지의 거리$\\left( { |b_i| } \\over {|\\mathbf{A}_{i,:} | } \\right)$를 결정합니다.\n"
   ]
  },
  {
   "cell_type": "markdown",
   "metadata": {
    "slideshow": {
     "slide_type": "slide"
    }
   },
   "source": [
    "#### Example\n",
    "$$\n",
    "\\begin{aligned}\n",
    "3x +    2y - \\ \\ z & = \\ \\ 1 \\\\\n",
    "2x -    2y +    4z & =    -1 \\\\\n",
    "-x + \\ \\ y +    3z & = \\ \\ 0\n",
    "\\end{aligned}\n",
    "$$\n",
    "\n",
    "can be represented as\n",
    "$$\n",
    "\\begin{pmatrix}\n",
    "3 \\\\ 2 \\\\ -1\n",
    "\\end{pmatrix}\n",
    "x +\n",
    "\\begin{pmatrix}\n",
    "2 \\\\ -2 \\\\ 1\n",
    "\\end{pmatrix}\n",
    "y +\n",
    "\\begin{pmatrix}\n",
    "-1 \\\\ 4 \\\\ 3\n",
    "\\end{pmatrix}\n",
    "z =\n",
    "\\begin{pmatrix}\n",
    "1 \\\\ -1 \\\\ 0\n",
    "\\end{pmatrix}\n",
    "\\qquad \\text{(vector equation form)}\n",
    "$$\n",
    "\n",
    "or\n",
    "\n",
    "$$\n",
    "\\qquad\n",
    "\\begin{pmatrix}\n",
    "3 & 2 & -1 \\\\ 2 & -2 & 4 \\\\ -1 & 1 & 3\n",
    "\\end{pmatrix}\n",
    "\\cdot\n",
    "\\begin{pmatrix}\n",
    "x \\\\ y \\\\ z\n",
    "\\end{pmatrix}\n",
    "=\n",
    "\\begin{pmatrix}\n",
    "1 \\\\ -1 \\\\ 0\n",
    "\\end{pmatrix}\n",
    "\\qquad \\text{(matrix equation form)}\n",
    "$$"
   ]
  },
  {
   "cell_type": "markdown",
   "metadata": {
    "slideshow": {
     "slide_type": "slide"
    }
   },
   "source": [
    "#### Generic solution of matrix equations of linear system\n",
    "$$\n",
    "\\begin{aligned}\n",
    "\\mathbf{A} \\cdot \\mathbf{x} &= \\mathbf{b} \\\\\n",
    "\\mathbf{A}^{-1} \\cdot \\mathbf{A} \\cdot \\mathbf{x} &= \\mathbf{A}^{-1} \\cdot \\mathbf{b} \\text{ iff } \\det A \\neq 0 \\\\\n",
    "(\\mathbf{A}^{-1} \\cdot \\mathbf{A}) \\cdot \\mathbf{x} &= \\mathbf{A}^{-1} \\cdot \\mathbf{b} \\\\\n",
    "\\mathbf{I} \\cdot \\mathbf{x} &= \\mathbf{A}^{-1} \\cdot \\mathbf{b} \\\\\n",
    "\\mathbf{x} &= \\mathbf{A}^{-1} \\cdot \\mathbf{b}\n",
    "\\end{aligned}\n",
    "$$"
   ]
  },
  {
   "cell_type": "code",
   "execution_count": 13,
   "metadata": {
    "slideshow": {
     "slide_type": "slide"
    }
   },
   "outputs": [
    {
     "name": "stdout",
     "output_type": "stream",
     "text": [
      "A =\n",
      "[[ 3  2 -1]\n",
      " [ 2 -2  4]\n",
      " [-1  1  3]]\n",
      "b =\n",
      "[[ 1]\n",
      " [-1]\n",
      " [ 0]]\n",
      "np.dot(np.linalg.inv(A), b) =\n",
      "[[ 0.06]\n",
      " [ 0.36]\n",
      " [-0.1 ]]\n",
      "np.dot(A, x) =\n",
      "[[ 1.00000000e+00]\n",
      " [-1.00000000e+00]\n",
      " [-1.11022302e-16]]\n"
     ]
    }
   ],
   "source": [
    "A = np.array([[3, 2, -1], [2, -2, 4], [-1, 1, 3]])\n",
    "b = np.array([[1], [-1], [0]])\n",
    "print('A =', A, sep='\\n')\n",
    "print('b =', b, sep='\\n')\n",
    "x = np.dot(np.linalg.inv(A), b)\n",
    "print('np.dot(np.linalg.inv(A), b) =', x, sep='\\n')\n",
    "print('np.dot(A, x) =', np.dot(A, x), sep='\\n')"
   ]
  },
  {
   "cell_type": "code",
   "execution_count": 14,
   "metadata": {
    "scrolled": true,
    "slideshow": {
     "slide_type": "slide"
    }
   },
   "outputs": [
    {
     "name": "stdout",
     "output_type": "stream",
     "text": [
      "np.linalg.solve(A, b) =\n",
      "[[ 0.06]\n",
      " [ 0.36]\n",
      " [-0.1 ]]\n"
     ]
    }
   ],
   "source": [
    "x2 = np.linalg.solve(A, b)\n",
    "# solve is equivalent to np.dot(np.linalg.inv(A), b), but solve is preferred.\n",
    "print('np.linalg.solve(A, b) =', x2, sep='\\n')"
   ]
  },
  {
   "cell_type": "markdown",
   "metadata": {
    "slideshow": {
     "slide_type": "slide"
    }
   },
   "source": [
    "### Matrix transformation ($\\mathbf{A} \\cdot \\mathbf{x} = \\mathbf{y}$)\n"
   ]
  },
  {
   "cell_type": "code",
   "execution_count": 15,
   "metadata": {
    "slideshow": {
     "slide_type": "-"
    }
   },
   "outputs": [
    {
     "data": {
      "image/png": "[encoded data removed]",
      "text/plain": [
       "<Figure size 216x216 with 1 Axes>"
      ]
     },
     "metadata": {
      "needs_background": "light"
     },
     "output_type": "display_data"
    }
   ],
   "source": [
    "def project_rectangle(mat, size=None):\n",
    "    original_points = np.array([[1, 2, 2, 1, 1], [1, 1, 2, 2, 1]])\n",
    "    transformed_points = np.dot(mat, original_points)\n",
    "    if size is not None:\n",
    "        plt.figure(figsize=size)\n",
    "    plt.plot(original_points[0], original_points[1], color='b', alpha=0.3)\n",
    "    plt.plot(transformed_points[0], transformed_points[1], color='r')\n",
    "    plt.grid(b=True, which='major', color='r', linestyle='-', alpha=0.3)\n",
    "    plt.minorticks_on()\n",
    "    plt.grid(b=True, which='minor', color='g', linestyle='-', alpha=0.2)\n",
    "    plt.show()\n",
    "project_rectangle(np.eye(2), size=(3, 3))"
   ]
  },
  {
   "cell_type": "markdown",
   "metadata": {
    "slideshow": {
     "slide_type": "slide"
    }
   },
   "source": [
    "#### Stretching\n",
    "\n",
    "$$\n",
    "\\mathbf{A} = \\begin{pmatrix} k & 0 \\\\ 0 & 1 \\end{pmatrix}\n",
    "\\quad \\text{or} \\quad \n",
    "\\mathbf{A} = \\begin{pmatrix} 1 & 0 \\\\ 0 & k \\end{pmatrix}\n",
    "$$\n",
    "\n",
    "- The vertical and horizontal directions are invariant."
   ]
  },
  {
   "cell_type": "code",
   "execution_count": 16,
   "metadata": {
    "slideshow": {
     "slide_type": "-"
    }
   },
   "outputs": [
    {
     "data": {
      "image/png": "[encoded data removed]",
      "text/plain": [
       "<Figure size 648x216 with 1 Axes>"
      ]
     },
     "metadata": {
      "needs_background": "light"
     },
     "output_type": "display_data"
    }
   ],
   "source": [
    "project_rectangle(np.array([[2, 0], [0, 1]]), size=(9, 3))"
   ]
  },
  {
   "cell_type": "markdown",
   "metadata": {
    "slideshow": {
     "slide_type": "slide"
    }
   },
   "source": [
    "#### Squeezing\n",
    "\n",
    "$$\n",
    "\\mathbf{A} = \\begin{pmatrix} k & 0 \\\\ 0 & 1/k \\end{pmatrix}\n",
    "$$\n",
    "\n",
    "- The area is invariant."
   ]
  },
  {
   "cell_type": "code",
   "execution_count": 17,
   "metadata": {
    "slideshow": {
     "slide_type": "-"
    }
   },
   "outputs": [
    {
     "data": {
      "image/png": "[encoded data removed]",
      "text/plain": [
       "<Figure size 648x324 with 1 Axes>"
      ]
     },
     "metadata": {
      "needs_background": "light"
     },
     "output_type": "display_data"
    }
   ],
   "source": [
    "project_rectangle(np.array([[2, 0], [0, 0.5]]), size=(9, 4.5))"
   ]
  },
  {
   "cell_type": "markdown",
   "metadata": {
    "slideshow": {
     "slide_type": "slide"
    }
   },
   "source": [
    "#### Rotation\n",
    "\n",
    "$$\n",
    "\\mathbf{A} = \\begin{pmatrix} \\cos \\theta & -\\sin \\theta \\\\ \\sin \\theta & \\cos \\theta \\end{pmatrix}\n",
    "$$\n",
    "\n",
    "- The angle(not direction) is invariant."
   ]
  },
  {
   "cell_type": "code",
   "execution_count": 18,
   "metadata": {
    "slideshow": {
     "slide_type": "-"
    }
   },
   "outputs": [
    {
     "data": {
      "image/png": "[encoded data removed]",
      "text/plain": [
       "<Figure size 360x252 with 1 Axes>"
      ]
     },
     "metadata": {
      "needs_background": "light"
     },
     "output_type": "display_data"
    }
   ],
   "source": [
    "theta = math.pi/4\n",
    "co, si = math.cos(theta), math.sin(theta)\n",
    "project_rectangle(np.array([[co, -si], [si, co]]), size=(5, 3.5))"
   ]
  },
  {
   "cell_type": "markdown",
   "metadata": {
    "slideshow": {
     "slide_type": "slide"
    }
   },
   "source": [
    "#### Shearing\n",
    "\n",
    "$$\n",
    "\\mathbf{A} = \\begin{pmatrix} 1 & k \\\\ 0 & 1 \\end{pmatrix}\n",
    "\\quad \\text{or} \\quad \n",
    "\\mathbf{A} = \\begin{pmatrix} 1 & 0 \\\\ k & 1 \\end{pmatrix}\n",
    "$$\n",
    "\n",
    "- The parallelism is invariant."
   ]
  },
  {
   "cell_type": "code",
   "execution_count": 19,
   "metadata": {
    "slideshow": {
     "slide_type": "-"
    }
   },
   "outputs": [
    {
     "data": {
      "image/png": "[encoded data removed]",
      "text/plain": [
       "<Figure size 864x144 with 1 Axes>"
      ]
     },
     "metadata": {
      "needs_background": "light"
     },
     "output_type": "display_data"
    }
   ],
   "source": [
    "project_rectangle(np.array([[1, 2], [0, 1]]), size=(12, 2))"
   ]
  },
  {
   "cell_type": "markdown",
   "metadata": {
    "slideshow": {
     "slide_type": "slide"
    }
   },
   "source": [
    "#### Orthogonal projection\n",
    "\n",
    "$$\n",
    "A = { 1 \\over {|(l_x, l_y)|^2} }\n",
    "\\begin{pmatrix}\n",
    "l_x^2 & l_x l_y \\\\\n",
    "l_x l_y & l_y^2 \\\\\n",
    "\\end{pmatrix}\n",
    "$$\n",
    "\n",
    "- The dimension is reduced."
   ]
  },
  {
   "cell_type": "code",
   "execution_count": 20,
   "metadata": {
    "slideshow": {
     "slide_type": "-"
    }
   },
   "outputs": [
    {
     "data": {
      "image/png": "[encoded data removed]",
      "text/plain": [
       "<Figure size 360x288 with 1 Axes>"
      ]
     },
     "metadata": {
      "needs_background": "light"
     },
     "output_type": "display_data"
    }
   ],
   "source": [
    "x, y = 1, -2\n",
    "d = 1 / (x*x+y*y)\n",
    "project_rectangle(np.array([[x*x*d, x*y*d], [x*y*d, y*y*d]]), size=(5,4))"
   ]
  },
  {
   "cell_type": "markdown",
   "metadata": {
    "slideshow": {
     "slide_type": "slide"
    }
   },
   "source": [
    "#### Reflection\n",
    "\n",
    "$$\n",
    "A = { 1 \\over {|(l_x, l_y)|^2} }\n",
    "\\begin{pmatrix}\n",
    "l_x^2 - l_y^2 & 2 l_x l_y \\\\\n",
    "2 l_x l_y & l_y^2 - l_x^2 \\\\\n",
    "\\end{pmatrix}\n",
    "$$\n",
    "\n",
    "- Angle and distance are preserved."
   ]
  },
  {
   "cell_type": "code",
   "execution_count": 21,
   "metadata": {
    "slideshow": {
     "slide_type": "-"
    }
   },
   "outputs": [
    {
     "data": {
      "image/png": "[encoded data removed]",
      "text/plain": [
       "<Figure size 360x216 with 1 Axes>"
      ]
     },
     "metadata": {
      "needs_background": "light"
     },
     "output_type": "display_data"
    }
   ],
   "source": [
    "x, y = 1, -2\n",
    "d = 1 / (x*x+y*y)\n",
    "reflection = np.array([[(x*x-y*y)*d, 2*x*y*d], [2*x*y*d, (y*y-x*x)*d]])\n",
    "project_rectangle(reflection, size=(5,3))"
   ]
  },
  {
   "cell_type": "markdown",
   "metadata": {
    "slideshow": {
     "slide_type": "slide"
    }
   },
   "source": [
    "#### Affine transformation\n",
    "\n",
    "- Translation + Stretching + Shear + Rotation.\n",
    "- An affine transformation preserves collinearity."
   ]
  },
  {
   "cell_type": "code",
   "execution_count": 22,
   "metadata": {
    "slideshow": {
     "slide_type": "-"
    }
   },
   "outputs": [
    {
     "data": {
      "image/png": "[encoded data removed]",
      "text/plain": [
       "<Figure size 864x144 with 1 Axes>"
      ]
     },
     "metadata": {
      "needs_background": "light"
     },
     "output_type": "display_data"
    }
   ],
   "source": [
    "stretching = np.array([[2, 0], [0, 1]])\n",
    "shear = np.array([[1, 2], [0, 1]])\n",
    "theta = math.pi/4\n",
    "co, si = math.cos(theta), math.sin(theta)\n",
    "rotation = np.array([[co, -si], [si, co]])\n",
    "project_rectangle(stretching.dot(shear).dot(rotation), size=(12, 2))"
   ]
  },
  {
   "cell_type": "markdown",
   "metadata": {
    "slideshow": {
     "slide_type": "slide"
    }
   },
   "source": [
    "## Distance and Inner Product\n",
    "\n",
    "$$\n",
    "\\begin{aligned}\n",
    "|\\mathbf{a}-\\mathbf{b}|^2 &= (\\mathbf{a}-\\mathbf{b})^T(\\mathbf{a}-\\mathbf{b}) \\\\\n",
    "&= |\\mathbf{a}|^2 + |\\mathbf{b}|^2 - 2 \\times \\langle \\mathbf{a}, \\mathbf{b} \\rangle \\\\\n",
    "\\therefore |\\mathbf{a}-\\mathbf{b}|^2 + 2 \\times \\langle \\mathbf{a}, \\mathbf{b} \\rangle &= |\\mathbf{a}|^2 + |\\mathbf{b}|^2 \\\\\n",
    "\\langle \\mathbf{a}, \\mathbf{b} \\rangle &= {|\\mathbf{a}|^2 + |\\mathbf{b}|^2 - |\\mathbf{a}-\\mathbf{b}|^2 \\over 2}\n",
    "\\end{aligned}\n",
    "$$"
   ]
  },
  {
   "cell_type": "code",
   "execution_count": 90,
   "metadata": {},
   "outputs": [
    {
     "data": {
      "image/png": "[encoded data removed]",
      "text/plain": [
       "<Figure size 432x288 with 1 Axes>"
      ]
     },
     "metadata": {
      "needs_background": "light"
     },
     "output_type": "display_data"
    }
   ],
   "source": [
    "original_a = np.array([2, 0])\n",
    "b = np.array([3, 0])\n",
    "\n",
    "angle = np.linspace(0, 360, 361)\n",
    "a_square = np.zeros((361,))\n",
    "b_square = np.zeros((361,))\n",
    "distance = np.zeros((361,))\n",
    "inner_product = np.zeros((361,))\n",
    "\n",
    "for index, step in enumerate(angle):\n",
    "    theta = step * math.pi / 180\n",
    "    co, si = np.cos(theta), np.sin(theta)\n",
    "    a = np.dot(original_a, np.array([[co, -si], [si, co]]))\n",
    "\n",
    "    a_square[index] = np.dot(a, a.T)\n",
    "    b_square[index] = np.dot(b.T, b)\n",
    "    distance[index] = np.dot((a.T - b).T, a.T - b)\n",
    "    inner_product[index] = np.dot(a.T, b)\n",
    "\n",
    "[a_plot] = plt.plot(angle, a_square, color='k', label='$|\\mathbf{a}|^2$')\n",
    "[b_plot] = plt.plot(angle, b_square, color='g', label='$|\\mathbf{b}|^2$')\n",
    "[d_plot] = plt.plot(angle, distance, color='r', label='$|\\mathbf{a}-\\mathbf{b}|^2$')\n",
    "[i_plot] = plt.plot(angle, inner_product, color='b', label='$2 \\langle \\mathbf{a}, \\mathbf{b} \\\\rangle$')\n",
    "plt.legend(handles=[a_plot, b_plot, d_plot, i_plot])\n",
    "plt.show()"
   ]
  },
  {
   "cell_type": "markdown",
   "metadata": {
    "slideshow": {
     "slide_type": "slide"
    }
   },
   "source": [
    "## Reference\n",
    "- https://en.wikipedia.org/wiki/Scalar_(mathematics)\n",
    "- https://en.wikipedia.org/wiki/Vector_(mathematics_and_physics)\n",
    "- https://en.wikipedia.org/wiki/Matrix_(mathematics)\n",
    "- https://en.wikipedia.org/wiki/System_of_linear_equations\n",
    "- https://en.wikipedia.org/wiki/Transformation_matrix\n",
    "- https://www.edwith.org/linearalgebra4ai\n",
    "- https://www.deeplearningbook.org/contents/linear_algebra.html"
   ]
  }
 ],
 "metadata": {
  "celltoolbar": "Slideshow",
  "kernelspec": {
   "display_name": "Python 3",
   "language": "python",
   "name": "python3"
  },
  "language_info": {
   "codemirror_mode": {
    "name": "ipython",
    "version": 3
   },
   "file_extension": ".py",
   "mimetype": "text/x-python",
   "name": "python",
   "nbconvert_exporter": "python",
   "pygments_lexer": "ipython3",
   "version": "3.6.8"
  },
  "title": "Linear Algebra"
 },
 "nbformat": 4,
 "nbformat_minor": 4
}
