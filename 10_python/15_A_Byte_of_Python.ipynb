{
 "cells": [
  {
   "cell_type": "markdown",
   "metadata": {
    "slideshow": {
     "slide_type": "slide"
    }
   },
   "source": [
    "# A Byte of Python"
   ]
  },
  {
   "cell_type": "markdown",
   "metadata": {
    "slideshow": {
     "slide_type": "slide"
    }
   },
   "source": [
    "## First Steps"
   ]
  },
  {
   "cell_type": "code",
   "execution_count": 1,
   "metadata": {},
   "outputs": [
    {
     "name": "stdout",
     "output_type": "stream",
     "text": [
      "Hello World\n"
     ]
    }
   ],
   "source": [
    "print(\"Hello World\")"
   ]
  },
  {
   "cell_type": "markdown",
   "metadata": {
    "slideshow": {
     "slide_type": "slide"
    }
   },
   "source": [
    "## Basics"
   ]
  },
  {
   "cell_type": "code",
   "execution_count": 2,
   "metadata": {},
   "outputs": [
    {
     "name": "stdout",
     "output_type": "stream",
     "text": [
      "Mr. Kim is 20 years old.\n"
     ]
    }
   ],
   "source": [
    "name = 'Mr. Kim'\n",
    "age = 20\n",
    "\n",
    "print('{0} is {1} years old.'.format(name, age))"
   ]
  },
  {
   "cell_type": "code",
   "execution_count": 3,
   "metadata": {},
   "outputs": [
    {
     "name": "stdout",
     "output_type": "stream",
     "text": [
      "0.3333333333333333\n",
      "0.33\n"
     ]
    }
   ],
   "source": [
    "r = 1 / 3\n",
    "print(r)\n",
    "print('{0:.2f}'.format(r))"
   ]
  },
  {
   "cell_type": "code",
   "execution_count": 4,
   "metadata": {
    "slideshow": {
     "slide_type": "slide"
    }
   },
   "outputs": [
    {
     "name": "stdout",
     "output_type": "stream",
     "text": [
      "5\n",
      "6\n"
     ]
    }
   ],
   "source": [
    "i = 5\n",
    "print(i)\n",
    "i = i + 1\n",
    "print(i)"
   ]
  },
  {
   "cell_type": "code",
   "execution_count": 5,
   "metadata": {},
   "outputs": [
    {
     "name": "stdout",
     "output_type": "stream",
     "text": [
      "Area is 10\n",
      "Perimeter is 14\n"
     ]
    }
   ],
   "source": [
    "length = 5\n",
    "breadth = 2\n",
    "area = length * breadth\n",
    "print('Area is', area)\n",
    "print('Perimeter is', 2 * (length + breadth))"
   ]
  },
  {
   "cell_type": "markdown",
   "metadata": {
    "slideshow": {
     "slide_type": "slide"
    }
   },
   "source": [
    "## Control Flow"
   ]
  },
  {
   "cell_type": "code",
   "execution_count": 6,
   "metadata": {},
   "outputs": [
    {
     "name": "stdout",
     "output_type": "stream",
     "text": [
      "23 is odd number.\n"
     ]
    }
   ],
   "source": [
    "number = 23\n",
    "\n",
    "if number % 2 == 0:\n",
    "    print(number, 'is even number.')\n",
    "elif number % 2 == 1:\n",
    "    print(number, 'is odd number.')\n",
    "else:\n",
    "    print(\"I don't know!\")"
   ]
  },
  {
   "cell_type": "code",
   "execution_count": 7,
   "metadata": {
    "slideshow": {
     "slide_type": "slide"
    }
   },
   "outputs": [
    {
     "name": "stdout",
     "output_type": "stream",
     "text": [
      "Total is 5050\n"
     ]
    }
   ],
   "source": [
    "number = 100\n",
    "total = 0\n",
    "\n",
    "while number > 0:\n",
    "    total += number\n",
    "    number -= 1\n",
    "    \n",
    "print('Total is', total)"
   ]
  },
  {
   "cell_type": "code",
   "execution_count": 8,
   "metadata": {
    "slideshow": {
     "slide_type": "slide"
    }
   },
   "outputs": [
    {
     "name": "stdout",
     "output_type": "stream",
     "text": [
      "Total is 5050\n"
     ]
    }
   ],
   "source": [
    "total = 0\n",
    "\n",
    "for i in range(1, 101):\n",
    "    total += i\n",
    "\n",
    "print('Total is', total)"
   ]
  },
  {
   "cell_type": "markdown",
   "metadata": {
    "slideshow": {
     "slide_type": "slide"
    }
   },
   "source": [
    "## Data Structures"
   ]
  },
  {
   "cell_type": "code",
   "execution_count": 9,
   "metadata": {},
   "outputs": [
    {
     "name": "stdout",
     "output_type": "stream",
     "text": [
      "I have 4 items to purchase.\n",
      "These items are apple, mango, carrot, banana, \n",
      "New items are mango, carrot, banana, rice.\n",
      "The last added item is rice.\n"
     ]
    }
   ],
   "source": [
    "shoplist = ['apple', 'mango', 'carrot', 'banana']\n",
    "\n",
    "print('I have', len(shoplist), 'items to purchase.')\n",
    "\n",
    "print('These items are', end=' ')\n",
    "for item in shoplist:\n",
    "    print(item, end=', ')\n",
    "\n",
    "print()\n",
    "\n",
    "shoplist.append('rice')\n",
    "del shoplist[0]\n",
    "\n",
    "print('New items are {}.'.format(', '.join(shoplist)))\n",
    "\n",
    "print('The last added item is {}.'.format(shoplist[-1]))"
   ]
  },
  {
   "cell_type": "code",
   "execution_count": 10,
   "metadata": {
    "slideshow": {
     "slide_type": "slide"
    }
   },
   "outputs": [
    {
     "name": "stdout",
     "output_type": "stream",
     "text": [
      "We have 3 members.\n",
      "Kim is 23 years old\n",
      "Lee is 10 years old\n",
      "Hong is 35 years old\n",
      "We have 4 members now.\n"
     ]
    }
   ],
   "source": [
    "members = {\n",
    "    'Kim': '23',\n",
    "    'Lee': '10',\n",
    "    'Hong': '35'\n",
    "}\n",
    "\n",
    "print(\"We have {} members.\".format(len(members)))\n",
    "\n",
    "for name, age in members.items():\n",
    "    print('{} is {} years old'.format(name, age))\n",
    "      \n",
    "del members['Hong']\n",
    "      \n",
    "members['Park'] = 41\n",
    "members['Choi'] = 56\n",
    "\n",
    "print(\"We have {} members now.\".format(len(members)))"
   ]
  },
  {
   "cell_type": "markdown",
   "metadata": {
    "slideshow": {
     "slide_type": "slide"
    }
   },
   "source": [
    "## Functions"
   ]
  },
  {
   "cell_type": "code",
   "execution_count": 11,
   "metadata": {},
   "outputs": [],
   "source": [
    "def fibonacci(n):\n",
    "    \"\"\"Return fibonacci sequence up to size n.\"\"\"\n",
    "    \n",
    "    if type(n) is not int or n < 0:\n",
    "        return None\n",
    "    elif n == 0:\n",
    "        return []\n",
    "    elif n == 1:\n",
    "        return [0]\n",
    "    elif n == 2:\n",
    "        return [0, 1]\n",
    "    else:\n",
    "        t = fibonacci(n - 1)\n",
    "        t.append(t[-1] + t[-2])\n",
    "        return t"
   ]
  },
  {
   "cell_type": "code",
   "execution_count": 12,
   "metadata": {
    "slideshow": {
     "slide_type": "slide"
    }
   },
   "outputs": [
    {
     "name": "stdout",
     "output_type": "stream",
     "text": [
      "None\n",
      "None\n",
      "0 : []\n",
      "1 : [0]\n",
      "2 : [0, 1]\n",
      "3 : [0, 1, 1]\n",
      "4 : [0, 1, 1, 2]\n",
      "5 : [0, 1, 1, 2, 3]\n",
      "6 : [0, 1, 1, 2, 3, 5]\n",
      "7 : [0, 1, 1, 2, 3, 5, 8]\n",
      "8 : [0, 1, 1, 2, 3, 5, 8, 13]\n",
      "9 : [0, 1, 1, 2, 3, 5, 8, 13, 21]\n",
      "10 : [0, 1, 1, 2, 3, 5, 8, 13, 21, 34]\n",
      "34\n",
      "218922995834555169026\n"
     ]
    }
   ],
   "source": [
    "print(fibonacci('invalid n'))\n",
    "print(fibonacci(-1))\n",
    "\n",
    "for i in range(11):\n",
    "    print(i, ':', fibonacci(i))\n",
    "\n",
    "print(fibonacci(10)[-1])\n",
    "print(fibonacci(100)[-1])"
   ]
  },
  {
   "cell_type": "code",
   "execution_count": 13,
   "metadata": {
    "slideshow": {
     "slide_type": "slide"
    }
   },
   "outputs": [
    {
     "name": "stdout",
     "output_type": "stream",
     "text": [
      "Hello, World!\n",
      "Hello, Kim!\n"
     ]
    }
   ],
   "source": [
    "def print_hello(name='World'):\n",
    "    print('Hello, {}!'.format(name))\n",
    "\n",
    "print_hello()\n",
    "print_hello('Kim')"
   ]
  },
  {
   "cell_type": "markdown",
   "metadata": {
    "slideshow": {
     "slide_type": "slide"
    }
   },
   "source": [
    "## Modules"
   ]
  },
  {
   "cell_type": "code",
   "execution_count": 14,
   "metadata": {},
   "outputs": [
    {
     "name": "stdout",
     "output_type": "stream",
     "text": [
      "__doc__, __file__, __loader__, __name__, __package__, __spec__, acos, acosh, asin, asinh, atan, atan2, atanh, ceil, copysign, cos, cosh, degrees, e, erf, erfc, exp, expm1, fabs, factorial, floor, fmod, frexp, fsum, gamma, gcd, hypot, inf, isclose, isfinite, isinf, isnan, ldexp, lgamma, log, log10, log1p, log2, modf, nan, pi, pow, radians, remainder, sin, sinh, sqrt, tan, tanh, tau, trunc\n"
     ]
    }
   ],
   "source": [
    "import math\n",
    "\n",
    "print(', '.join(dir(math)))"
   ]
  },
  {
   "cell_type": "code",
   "execution_count": 15,
   "metadata": {},
   "outputs": [
    {
     "name": "stdout",
     "output_type": "stream",
     "text": [
      "Help on built-in function sqrt in module math:\n",
      "\n",
      "sqrt(x, /)\n",
      "    Return the square root of x.\n",
      "\n"
     ]
    }
   ],
   "source": [
    "help(math.sqrt)"
   ]
  },
  {
   "cell_type": "code",
   "execution_count": 16,
   "metadata": {
    "slideshow": {
     "slide_type": "slide"
    }
   },
   "outputs": [
    {
     "name": "stdout",
     "output_type": "stream",
     "text": [
      "Square root of 16 is 4.0\n"
     ]
    }
   ],
   "source": [
    "from math import sqrt\n",
    "\n",
    "print(\"Square root of 16 is\", sqrt(16))"
   ]
  },
  {
   "cell_type": "markdown",
   "metadata": {
    "slideshow": {
     "slide_type": "slide"
    }
   },
   "source": [
    "## Object Oriented Programming"
   ]
  },
  {
   "cell_type": "code",
   "execution_count": 17,
   "metadata": {},
   "outputs": [
    {
     "name": "stdout",
     "output_type": "stream",
     "text": [
      "Hello, my name is Jone Doe.\n"
     ]
    }
   ],
   "source": [
    "class Person:\n",
    "    def __init__(self, name):\n",
    "        self.name = name\n",
    "\n",
    "    def say_hi(self):\n",
    "        print('Hello, my name is {}.'.format(self.name))\n",
    "\n",
    "person = Person('Jone Doe')\n",
    "person.say_hi()"
   ]
  },
  {
   "cell_type": "code",
   "execution_count": 18,
   "metadata": {
    "slideshow": {
     "slide_type": "slide"
    }
   },
   "outputs": [
    {
     "name": "stdout",
     "output_type": "stream",
     "text": [
      "Hello, my name is James Kim.\n",
      "My subject is Mathematics.\n"
     ]
    }
   ],
   "source": [
    "class Teacher(Person):\n",
    "    def __init__(self, name, subject):\n",
    "        super().__init__(name)\n",
    "        self.subject = subject\n",
    "        \n",
    "    def say_hi(self):\n",
    "        super().say_hi()\n",
    "        print('My subject is {}.'.format(self.subject))\n",
    "\n",
    "teacher = Teacher('James Kim', 'Mathematics')\n",
    "teacher.say_hi()"
   ]
  },
  {
   "cell_type": "code",
   "execution_count": 19,
   "metadata": {
    "slideshow": {
     "slide_type": "slide"
    }
   },
   "outputs": [
    {
     "name": "stdout",
     "output_type": "stream",
     "text": [
      "0 => Hello, my name is Jone Doe.\n",
      "1 => Hello, my name is James Kim.\n",
      "My subject is Mathematics.\n"
     ]
    }
   ],
   "source": [
    "def introduce(i, p):\n",
    "    print(i, '=> ', end='')\n",
    "    p.say_hi()\n",
    "    \n",
    "for i, p in enumerate([person, teacher]):\n",
    "    introduce(i, p)"
   ]
  },
  {
   "cell_type": "markdown",
   "metadata": {
    "slideshow": {
     "slide_type": "slide"
    }
   },
   "source": [
    "## Reference\n",
    "- https://python.swaroopch.com/"
   ]
  }
 ],
 "metadata": {
  "celltoolbar": "Slideshow",
  "kernelspec": {
   "display_name": "Python 3",
   "language": "python",
   "name": "python3"
  },
  "language_info": {
   "codemirror_mode": {
    "name": "ipython",
    "version": 3
   },
   "file_extension": ".py",
   "mimetype": "text/x-python",
   "name": "python",
   "nbconvert_exporter": "python",
   "pygments_lexer": "ipython3",
   "version": "3.6.8"
  }
 },
 "nbformat": 4,
 "nbformat_minor": 4
}
