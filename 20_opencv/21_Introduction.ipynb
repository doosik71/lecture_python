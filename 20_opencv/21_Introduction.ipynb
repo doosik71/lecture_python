{
 "cells": [
  {
   "cell_type": "markdown",
   "metadata": {
    "slideshow": {
     "slide_type": "slide"
    }
   },
   "source": [
    "# OpenCV - Introduction"
   ]
  },
  {
   "cell_type": "markdown",
   "metadata": {
    "slideshow": {
     "slide_type": "slide"
    }
   },
   "source": [
    "## About\n",
    "OpenCV (Open Source Computer Vision Library) is an **open source computer vision and machine learning software library**. OpenCV was built to provide a common infrastructure for computer vision applications and to accelerate the use of machine perception in the commercial products. Being a **BSD-licensed product**, OpenCV makes it easy for businesses to utilize and modify the code."
   ]
  },
  {
   "cell_type": "markdown",
   "metadata": {
    "slideshow": {
     "slide_type": "notes"
    }
   },
   "source": [
    "OpenCV는 C++ 언어의 개발 환경에서도 많이 사용되고 있습니다. 파이썬 언어 환경에서 OpenCV를 사용하면 실시간 고속 처리가 필요한 응용 분야에는 한계가 있지만, 영상 처리 알고리즘을 간단히 시험해보는 빠른 프로토타이핑에는 도움이 됩니다. "
   ]
  },
  {
   "cell_type": "markdown",
   "metadata": {
    "slideshow": {
     "slide_type": "slide"
    }
   },
   "source": [
    "## Applications\n",
    "\n",
    "- Object identification <span style=\"color:red\">★</span>\n",
    "- Segmentation and recognition <span style=\"color:red\">★</span>\n",
    "- Motion tracking <span style=\"color:red\">★</span>\n",
    "- Egomotion estimation\n",
    "- Facial recognition system\n",
    "- Gesture recognition\n",
    "- Human–computer interaction (HCI)\n",
    "- Mobile robotics\n",
    "- Motion understanding\n",
    "- Stereopsis stereo vision: depth perception from 2 cameras\n",
    "- Structure from motion (SFM)\n",
    "- Augmented reality"
   ]
  },
  {
   "cell_type": "markdown",
   "metadata": {
    "slideshow": {
     "slide_type": "slide"
    }
   },
   "source": [
    "## Installation\n",
    "```bash\n",
    "pip install opencv-python\n",
    "pip install opencv-contrib-python\n",
    "```\n",
    "or\n",
    "```bash\n",
    "conda install -c pkgs/main opencv\n",
    "```"
   ]
  },
  {
   "cell_type": "markdown",
   "metadata": {
    "slideshow": {
     "slide_type": "slide"
    }
   },
   "source": [
    "## Reference\n",
    "- https://en.wikipedia.org/wiki/OpenCV\n",
    "- https://opencv.org/about/\n",
    "- https://anaconda.org/conda-forge/opencv"
   ]
  }
 ],
 "metadata": {
  "celltoolbar": "Slideshow",
  "kernelspec": {
   "display_name": "Python 3",
   "language": "python",
   "name": "python3"
  },
  "language_info": {
   "codemirror_mode": {
    "name": "ipython",
    "version": 3
   },
   "file_extension": ".py",
   "mimetype": "text/x-python",
   "name": "python",
   "nbconvert_exporter": "python",
   "pygments_lexer": "ipython3",
   "version": "3.6.8"
  },
  "title": "OpenCV - Introduction"
 },
 "nbformat": 4,
 "nbformat_minor": 4
}
