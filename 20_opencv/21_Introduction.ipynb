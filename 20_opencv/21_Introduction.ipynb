{
 "cells": [
  {
   "cell_type": "markdown",
   "metadata": {},
   "source": [
    "# OpenCV - Introduction"
   ]
  },
  {
   "cell_type": "raw",
   "metadata": {
    "jupyter": {
     "source_hidden": true
    }
   },
   "source": [
    "</section><section>"
   ]
  },
  {
   "cell_type": "markdown",
   "metadata": {},
   "source": [
    "## About\n",
    "OpenCV (Open Source Computer Vision Library) is an **open source computer vision and machine learning software library**. OpenCV was built to provide a common infrastructure for computer vision applications and to accelerate the use of machine perception in the commercial products. Being a **BSD-licensed product**, OpenCV makes it easy for businesses to utilize and modify the code."
   ]
  },
  {
   "cell_type": "raw",
   "metadata": {
    "jupyter": {
     "source_hidden": true
    }
   },
   "source": [
    "</section><section>"
   ]
  },
  {
   "cell_type": "markdown",
   "metadata": {},
   "source": [
    "## Applications\n",
    "\n",
    "- Object identification <span style=\"color:red\">★</span>\n",
    "- Segmentation and recognition <span style=\"color:red\">★</span>\n",
    "- Motion tracking <span style=\"color:red\">★</span>\n",
    "- Egomotion estimation\n",
    "- Facial recognition system\n",
    "- Gesture recognition\n",
    "- Human–computer interaction (HCI)\n",
    "- Mobile robotics\n",
    "- Motion understanding\n",
    "- Stereopsis stereo vision: depth perception from 2 cameras\n",
    "- Structure from motion (SFM)\n",
    "- Augmented reality"
   ]
  },
  {
   "cell_type": "raw",
   "metadata": {
    "jupyter": {
     "source_hidden": true
    }
   },
   "source": [
    "</section><section>"
   ]
  },
  {
   "cell_type": "markdown",
   "metadata": {},
   "source": [
    "## Installation\n",
    "```bash\n",
    "pip install opencv-python\n",
    "pip install opencv-contrib-python\n",
    "```\n",
    "or\n",
    "```bash\n",
    "conda install -c pkgs/main opencv\n",
    "```"
   ]
  },
  {
   "cell_type": "raw",
   "metadata": {
    "jupyter": {
     "source_hidden": true
    }
   },
   "source": [
    "</section><section>"
   ]
  },
  {
   "cell_type": "markdown",
   "metadata": {},
   "source": [
    "## Reference\n",
    "- https://en.wikipedia.org/wiki/OpenCV\n",
    "- https://opencv.org/about/\n",
    "- https://anaconda.org/conda-forge/opencv"
   ]
  }
 ],
 "metadata": {
  "kernelspec": {
   "display_name": "Python 3",
   "language": "python",
   "name": "python3"
  },
  "language_info": {
   "codemirror_mode": {
    "name": "ipython",
    "version": 3
   },
   "file_extension": ".py",
   "mimetype": "text/x-python",
   "name": "python",
   "nbconvert_exporter": "python",
   "pygments_lexer": "ipython3",
   "version": "3.6.8"
  }
 },
 "nbformat": 4,
 "nbformat_minor": 4
}
