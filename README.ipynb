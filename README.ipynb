{
 "cells": [
  {
   "cell_type": "markdown",
   "metadata": {},
   "source": [
    "# Python으로 배우는 영상 처리와 딥 러닝 기술\n",
    "## 한국전자통신연구원\n",
    "### 대경권연구센터\n",
    "#### 인공지능응용연구실\n",
    "##### 2019년 8월 16일"
   ]
  },
  {
   "cell_type": "raw",
   "metadata": {},
   "source": [
    "</section><section>"
   ]
  },
  {
   "cell_type": "markdown",
   "metadata": {},
   "source": [
    "## 1. Python 기초\n",
    "\n",
    "1. [파이썬 소개](10_python/11_Introduction.ipynb) | [slide](11_Introduction.slides.html) | [pdf](11_Introduction.pdf)\n",
    "2. [pip를 이용한 패키지 관리](10_python/12_pip.ipynb) | [slide](12_pip.slides.html) | [pdf](12_pip.pdf)\n",
    "3. [Anaconda를 이용한 패키지 관리](10_python/13_Anaconda.ipynb) | [slide](13_Anaconda.slides.html) | [pdf](13_Anaconda.pdf)\n",
    "4. [Jupyter Notebook 사용법](10_python/14_Jupyter_Notebook.ipynb) | [slide](14_Jupyter_Notebook.slides.html) | [pdf](14_Jupyter_Notebook.pdf)\n",
    "5. [Python 언어 기초 문법](10_python/15_A_Byte_of_Python.ipynb) | [slide](15_A_Byte_of_Python.slides.html) | [pdf](15_A_Byte_of_Python.pdf)\n",
    "6. [Numpy 패키지 활용 실습](10_python/16_Numpy.ipynb) | [slide](16_Numpy.slides.html) | [pdf](16_Numpy.pdf)\n",
    "7. [Matplotlib 패키지 활용 실습](10_python/17_Matplotlib.ipynb) | [slide](17_Matplotlib.slides.html) | [pdf](17_Matplotlib.pdf)\n",
    "8. [Scikit-learn 패키지 활용 사례](10_python/18_Scikit_learn.ipynb) | [slide](18_Scikit_learn.slides.html) | [pdf](18_Scikit_learn.pdf)"
   ]
  },
  {
   "cell_type": "raw",
   "metadata": {},
   "source": [
    "</section><section>"
   ]
  },
  {
   "cell_type": "markdown",
   "metadata": {},
   "source": [
    "## 2. OpenCV\n",
    "\n",
    "1. [Open CV 소개 및 설치](20_opencv/21_Introduction.ipynb) | [slide](21_Introduction.slides.html) | [pdf](21_Introduction.pdf)\n",
    "2. [OpenCV를 이용한 영상 처리 기초 이해](20_opencv/22_Image_Processing.ipynb) | [slide](22_Image_Processing.slides.html) | [pdf](22_Image_Processing.pdf)\n",
    "3. [OpenCV를 이용한 도형 그리기](20_opencv/23_Drawing_Functions.ipynb) | [slide](23_Drawing_Functions.slides.html) | [pdf](23_Drawing_Functions.pdf)\n",
    "4. [OpenCV를 이용한 특징 추출](20_opencv/24_Feature_Detection.ipynb) | [slide](24_Feature_Detection.slides.html) | [pdf](24_Feature_Detection.pdf)\n",
    "5. [OpenCV를 이용한 동영상 분석](20_opencv/25_Video_Processing.ipynb) | [slide](25_Video_Processing.slides.html) | [pdf](25_Video_Processing.pdf)\n",
    "6. [OpenCV를 이용한 기계 학습](26_opencv/26_Machine_Learning.ipynb) | [slide](26_Machine_Learning.slides.html) | [pdf](26_Machine_Learning.pdf)"
   ]
  },
  {
   "cell_type": "raw",
   "metadata": {},
   "source": [
    "</section><section>"
   ]
  },
  {
   "cell_type": "markdown",
   "metadata": {},
   "source": [
    "## 3. 딥 러닝 기초\n",
    "\n",
    "1. [Bayesian inference](30_deep_learning/31_Bayesian_Inference.ipynb) | [slide](31_Bayesian_Inference.slides.html) | [pdf](31_Bayesian_Inference.pdf)\n",
    "2. [Linear classification](30_deep_learning/32_Linear_Classification.ipynb) | [slide](32_Linear_Classification.slides.html) | [pdf](32_Linear_Classification.pdf)\n",
    "3. [Multi-layered perceptron (MLP)](30_deep_learning/33_MLP.ipynb) | [slide](33_MLP.slides.html) | [pdf](33_MLP.pdf)\n",
    "4. [Convolutional neural networks (CNN)](30_deep_learning/34_CNN.ipynb) | [slide](34_CNN.slides.html) | [pdf](34_CNN.pdf)\n",
    "5. [Supervised learning의 기본 개념 및 학습 전략](30_deep_learning/35_Supervised_Learning.ipynb) | [slide](35_Supervised_Learning.slides.html) | [pdf](35_Supervised_Learning.pdf)\n",
    "6. [딥러닝 기술의 응용 사례](30_deep_learning/36_Applications.ipynb) | [slide](36_Applications.slides.html) | [pdf](36_Applications.pdf)"
   ]
  },
  {
   "cell_type": "raw",
   "metadata": {},
   "source": [
    "</section><section>"
   ]
  },
  {
   "cell_type": "markdown",
   "metadata": {},
   "source": [
    "## 4. Tensorflow\n",
    "\n",
    "1. [Tensorflow 설치 및 CUDA 환경 설정](40_tensorflow/41_Introduction.ipynb) | [slide](41_Introduction.slides.html) | [pdf](41_Introduction.pdf)\n",
    "2. [Tensorflow 기초 개념 및 기본 기능](40_tensorflow/42_Basics.ipynb) | [slide](42_Basics.slides.html) | [pdf](42_Basics.pdf)\n",
    "3. [Keras 패키지 활용 실습](40_tensorflow/43_Keras.ipynb) | [slide](43_Keras.slides.html) | [pdf](43_Keras.pdf)\n",
    "4. [다양한 학습 모델들의 활용 사례](40_tensorflow/44_Models.ipynb) | [slide](44_Models.slides.html) | [pdf](44_Models.pdf)\n",
    "5. [Tensor Board 활용 실습](40_tensorflow/45_TensorBoard.ipynb) | [slide](45_TensorBoard.slides.html) | [pdf](45_TensorBoard.pdf)"
   ]
  }
 ],
 "metadata": {
  "kernelspec": {
   "display_name": "Python 3",
   "language": "python",
   "name": "python3"
  },
  "language_info": {
   "codemirror_mode": {
    "name": "ipython",
    "version": 3
   },
   "file_extension": ".py",
   "mimetype": "text/x-python",
   "name": "python",
   "nbconvert_exporter": "python",
   "pygments_lexer": "ipython3",
   "version": "3.6.8"
  }
 },
 "nbformat": 4,
 "nbformat_minor": 4
}
