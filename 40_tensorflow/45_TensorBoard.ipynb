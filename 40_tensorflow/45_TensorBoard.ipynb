{
 "cells": [
  {
   "cell_type": "markdown",
   "metadata": {},
   "source": [
    "# Tensorflow - TensorBoard"
   ]
  },
  {
   "cell_type": "code",
   "execution_count": 2,
   "metadata": {},
   "outputs": [
    {
     "name": "stderr",
     "output_type": "stream",
     "text": [
      "C:\\Users\\Doosik\\Anaconda3\\lib\\site-packages\\tensorflow\\python\\framework\\dtypes.py:523: FutureWarning: Passing (type, 1) or '1type' as a synonym of type is deprecated; in a future version of numpy, it will be understood as (type, (1,)) / '(1,)type'.\n",
      "  _np_qint8 = np.dtype([(\"qint8\", np.int8, 1)])\n",
      "C:\\Users\\Doosik\\Anaconda3\\lib\\site-packages\\tensorflow\\python\\framework\\dtypes.py:524: FutureWarning: Passing (type, 1) or '1type' as a synonym of type is deprecated; in a future version of numpy, it will be understood as (type, (1,)) / '(1,)type'.\n",
      "  _np_quint8 = np.dtype([(\"quint8\", np.uint8, 1)])\n",
      "C:\\Users\\Doosik\\Anaconda3\\lib\\site-packages\\tensorflow\\python\\framework\\dtypes.py:525: FutureWarning: Passing (type, 1) or '1type' as a synonym of type is deprecated; in a future version of numpy, it will be understood as (type, (1,)) / '(1,)type'.\n",
      "  _np_qint16 = np.dtype([(\"qint16\", np.int16, 1)])\n",
      "C:\\Users\\Doosik\\Anaconda3\\lib\\site-packages\\tensorflow\\python\\framework\\dtypes.py:526: FutureWarning: Passing (type, 1) or '1type' as a synonym of type is deprecated; in a future version of numpy, it will be understood as (type, (1,)) / '(1,)type'.\n",
      "  _np_quint16 = np.dtype([(\"quint16\", np.uint16, 1)])\n",
      "C:\\Users\\Doosik\\Anaconda3\\lib\\site-packages\\tensorflow\\python\\framework\\dtypes.py:527: FutureWarning: Passing (type, 1) or '1type' as a synonym of type is deprecated; in a future version of numpy, it will be understood as (type, (1,)) / '(1,)type'.\n",
      "  _np_qint32 = np.dtype([(\"qint32\", np.int32, 1)])\n",
      "C:\\Users\\Doosik\\Anaconda3\\lib\\site-packages\\tensorflow\\python\\framework\\dtypes.py:532: FutureWarning: Passing (type, 1) or '1type' as a synonym of type is deprecated; in a future version of numpy, it will be understood as (type, (1,)) / '(1,)type'.\n",
      "  np_resource = np.dtype([(\"resource\", np.ubyte, 1)])\n"
     ]
    }
   ],
   "source": [
    "import matplotlib.pyplot as plt\n",
    "import numpy as np\n",
    "import tensorflow as tf"
   ]
  },
  {
   "cell_type": "raw",
   "metadata": {
    "jupyter": {
     "source_hidden": true
    }
   },
   "source": [
    "</section><section>"
   ]
  },
  {
   "cell_type": "markdown",
   "metadata": {},
   "source": [
    "### Reinstall protobuf with C++ implementation\n",
    "\n",
    "To prevent error in protobuf while running tensorboard, protobuf of C++ implementation should be reinstalled.\n",
    "See https://github.com/tensorflow/tensorboard/issues/1566 for more information.\n",
    "\n",
    "```bash\n",
    "set PROTOCOL_BUFFERS_PYTHON_IMPLEMENTATION=cpp\n",
    "pip install --upgrade --force-reinstall protobuf==3.9.0\n",
    "```"
   ]
  },
  {
   "cell_type": "raw",
   "metadata": {
    "jupyter": {
     "source_hidden": true
    }
   },
   "source": [
    "</section><section>"
   ]
  },
  {
   "cell_type": "code",
   "execution_count": 38,
   "metadata": {
    "scrolled": false
   },
   "outputs": [],
   "source": [
    "import tensorflow as tf\n",
    "from tensorflow.examples.tutorials.mnist import input_data"
   ]
  },
  {
   "cell_type": "raw",
   "metadata": {
    "jupyter": {
     "source_hidden": true
    },
    "slideshow": {
     "slide_type": "-"
    }
   },
   "source": [
    "</section><section>"
   ]
  },
  {
   "cell_type": "code",
   "execution_count": 39,
   "metadata": {},
   "outputs": [],
   "source": [
    "def weight_variable(shape):\n",
    "    \"\"\"Create a weight variable with appropriate initialization.\"\"\"\n",
    "    initial = tf.random.truncated_normal(shape, stddev=0.1)\n",
    "    return tf.Variable(initial)\n",
    "\n",
    "def bias_variable(shape):\n",
    "    \"\"\"Create a bias variable with appropriate initialization.\"\"\"\n",
    "    initial = tf.constant(0.1, shape=shape)\n",
    "    return tf.Variable(initial)\n",
    "\n",
    "def variable_summaries(var):\n",
    "    \"\"\"Attach a lot of summaries to a Tensor (for TensorBoard visualization).\"\"\"\n",
    "    with tf.name_scope('summaries'):\n",
    "        mean = tf.reduce_mean(input_tensor=var)\n",
    "        \n",
    "        # Add summaries.\n",
    "        tf.summary.scalar('mean', mean)\n",
    "        with tf.name_scope('stddev'):\n",
    "            stddev = tf.sqrt(tf.reduce_mean(input_tensor=tf.square(var - mean)))\n",
    "        tf.summary.scalar('stddev', stddev)\n",
    "        tf.summary.scalar('max', tf.reduce_max(input_tensor=var))\n",
    "        tf.summary.scalar('min', tf.reduce_min(input_tensor=var))\n",
    "        tf.summary.histogram('histogram', var)"
   ]
  },
  {
   "cell_type": "raw",
   "metadata": {
    "jupyter": {
     "source_hidden": true
    },
    "slideshow": {
     "slide_type": "-"
    }
   },
   "source": [
    "</section><section>"
   ]
  },
  {
   "cell_type": "code",
   "execution_count": 40,
   "metadata": {},
   "outputs": [],
   "source": [
    "def nn_layer(input_tensor, input_dim, output_dim, layer_name, act=tf.nn.relu):\n",
    "    \"\"\"Reusable code for making a simple neural net layer.\n",
    "\n",
    "    It does a matrix multiply, bias add, and then uses ReLU to nonlinearize.\n",
    "    It also sets up name scoping so that the resultant graph is easy to read,\n",
    "    and adds a number of summary ops.\n",
    "    \"\"\"\n",
    "    # Adding a name scope ensures logical grouping of the layers in the graph.\n",
    "    with tf.name_scope(layer_name):\n",
    "        # This Variable will hold the state of the weights for the layer\n",
    "        with tf.name_scope('weights'):\n",
    "            weights = weight_variable([input_dim, output_dim])\n",
    "            variable_summaries(weights)  # Add weights summary.\n",
    "        with tf.name_scope('biases'):\n",
    "            biases = bias_variable([output_dim])\n",
    "            variable_summaries(biases)  # Add biases summary.\n",
    "        with tf.name_scope('Wx_plus_b'):\n",
    "            preactivate = tf.matmul(input_tensor, weights) + biases\n",
    "            tf.summary.histogram('pre_activations', preactivate)  # Add histogram summary.\n",
    "        activations = act(preactivate, name='activation')\n",
    "        tf.summary.histogram('activations', activations)  # Add histogram summary.\n",
    "        return activations"
   ]
  },
  {
   "cell_type": "raw",
   "metadata": {
    "jupyter": {
     "source_hidden": true
    },
    "slideshow": {
     "slide_type": "-"
    }
   },
   "source": [
    "</section><section>"
   ]
  },
  {
   "cell_type": "code",
   "execution_count": 41,
   "metadata": {},
   "outputs": [],
   "source": [
    "# Build model.\n",
    "def train(data_dir, fake_data, max_steps, learning_rate, dropout, log_dir):\n",
    "    # Import data\n",
    "    mnist = input_data.read_data_sets(data_dir, fake_data=fake_data)\n",
    "\n",
    "    sess = tf.InteractiveSession()\n",
    "\n",
    "    # Create a multilayer model.\n",
    "\n",
    "    # Input placeholders\n",
    "    with tf.name_scope('input'):\n",
    "        x = tf.placeholder(tf.float32, [None, 784], name='x-input')\n",
    "        y_ = tf.placeholder(tf.int64, [None], name='y-input')\n",
    "\n",
    "    with tf.name_scope('input_reshape'):\n",
    "        image_shaped_input = tf.reshape(x, [-1, 28, 28, 1])\n",
    "        tf.summary.image('input', image_shaped_input, max_outputs=10)  # Add image to summary\n",
    "\n",
    "    hidden1 = nn_layer(x, 784, 500, layer_name='layer1')\n",
    "\n",
    "    with tf.name_scope('dropout'):\n",
    "        keep_prob = tf.placeholder(tf.float32)\n",
    "        tf.summary.scalar('dropout_keep_probability', keep_prob)\n",
    "        dropped = tf.nn.dropout(hidden1, keep_prob=keep_prob)\n",
    "\n",
    "    # Do not apply softmax activation yet, see below.\n",
    "    y = nn_layer(dropped, 500, 10, layer_name='layer2', act=tf.identity)\n",
    "\n",
    "    with tf.name_scope('cross_entropy'):\n",
    "        # The raw formulation of cross-entropy,\n",
    "        #\n",
    "        # tf.reduce_mean(-tf.reduce_sum(y_ * tf.math.log(tf.softmax(y)), reduction_indices=[1]))\n",
    "        #\n",
    "        # can be numerically unstable.\n",
    "        #\n",
    "        # So here we use tf.losses.sparse_softmax_cross_entropy on the\n",
    "        # raw logit outputs of the nn_layer above, and then average across\n",
    "        # the batch.\n",
    "        with tf.name_scope('total'):\n",
    "            cross_entropy = tf.losses.sparse_softmax_cross_entropy(\n",
    "                    labels=y_, logits=y)\n",
    "    tf.summary.scalar('cross_entropy', cross_entropy)\n",
    "\n",
    "    with tf.name_scope('train'):\n",
    "        train_step = tf.train.AdamOptimizer(learning_rate).minimize(\n",
    "            cross_entropy)\n",
    "\n",
    "    with tf.name_scope('accuracy'):\n",
    "        with tf.name_scope('correct_prediction'):\n",
    "            correct_prediction = tf.equal(tf.argmax(input=y, axis=1), y_)\n",
    "        with tf.name_scope('accuracy'):\n",
    "            accuracy = tf.reduce_mean(input_tensor=tf.cast(correct_prediction, tf.float32))\n",
    "    tf.summary.scalar('accuracy', accuracy)\n",
    "\n",
    "    # Merge all the summaries and write them out to\n",
    "    # /tmp/tensorflow/mnist/logs/mnist_with_summaries (by default)\n",
    "    merged = tf.summary.merge_all()\n",
    "    train_writer = tf.summary.FileWriter(log_dir + '/train', sess.graph)\n",
    "    test_writer = tf.summary.FileWriter(log_dir + '/test')\n",
    "    tf.global_variables_initializer().run()\n",
    "\n",
    "    # Train the model, and also write summaries.\n",
    "    # Every 10th step, measure test-set accuracy, and write test summaries\n",
    "    # All other steps, run train_step on training data, & add training summaries\n",
    "\n",
    "    def feed_dict(train):\n",
    "        \"\"\"Make a TensorFlow feed_dict: maps data onto Tensor placeholders.\"\"\"\n",
    "        if train or fake_data:\n",
    "            xs, ys = mnist.train.next_batch(100, fake_data=fake_data)\n",
    "            k = dropout\n",
    "        else:\n",
    "            xs, ys = mnist.test.images, mnist.test.labels\n",
    "            k = 1.0\n",
    "        return {x: xs, y_: ys, keep_prob: k}\n",
    "\n",
    "    for i in range(max_steps):\n",
    "        if i % 10 == 0:    # Record summaries and test-set accuracy\n",
    "            summary, acc = sess.run([merged, accuracy], feed_dict=feed_dict(False))\n",
    "            test_writer.add_summary(summary, i)\n",
    "            print('Accuracy at step %s: %s' % (i, acc))\n",
    "        else:    # Record train set summaries, and train\n",
    "            if i % 100 == 99:    # Record execution stats\n",
    "                run_options = tf.RunOptions(\n",
    "                        trace_level=tf.RunOptions.FULL_TRACE)\n",
    "                run_metadata = tf.RunMetadata()\n",
    "                summary, _ = sess.run([merged, train_step],\n",
    "                                      feed_dict=feed_dict(True),\n",
    "                                      options=run_options,\n",
    "                                      run_metadata=run_metadata)\n",
    "                train_writer.add_run_metadata(run_metadata, 'step%03d' % i)\n",
    "                train_writer.add_summary(summary, i)\n",
    "                print('Adding run metadata for', i)\n",
    "            else:    # Record a summary\n",
    "                summary, _ = sess.run([merged, train_step], feed_dict=feed_dict(True))\n",
    "                train_writer.add_summary(summary, i)\n",
    "    train_writer.close()\n",
    "    test_writer.close()"
   ]
  },
  {
   "cell_type": "raw",
   "metadata": {
    "jupyter": {
     "source_hidden": true
    },
    "slideshow": {
     "slide_type": "-"
    }
   },
   "source": [
    "</section><section>"
   ]
  },
  {
   "cell_type": "code",
   "execution_count": 42,
   "metadata": {},
   "outputs": [],
   "source": [
    "# Prepare MNIST.\n",
    "image_files = tf.keras.utils.get_file(\n",
    "    \"train-images-idx3-ubyte.gz\",\n",
    "    \"http://yann.lecun.com/exdb/mnist/train-images-idx3-ubyte.gz\")\n",
    "label_files = tf.keras.utils.get_file(\n",
    "    \"train-labels-idx1-ubyte.gz\",\n",
    "    \"http://yann.lecun.com/exdb/mnist/train-labels-idx1-ubyte.gz\")"
   ]
  },
  {
   "cell_type": "raw",
   "metadata": {
    "jupyter": {
     "source_hidden": true
    },
    "slideshow": {
     "slide_type": "-"
    }
   },
   "source": [
    "</section><section>"
   ]
  },
  {
   "cell_type": "code",
   "execution_count": 43,
   "metadata": {
    "scrolled": false
   },
   "outputs": [
    {
     "name": "stdout",
     "output_type": "stream",
     "text": [
      "WARNING:tensorflow:From <ipython-input-41-44b0a1b16583>:4: read_data_sets (from tensorflow.contrib.learn.python.learn.datasets.mnist) is deprecated and will be removed in a future version.\n",
      "Instructions for updating:\n",
      "Please use alternatives such as official/mnist/dataset.py from tensorflow/models.\n",
      "WARNING:tensorflow:From /mnt/2ce1d30e-9805-44ab-9067-196fda7f55c5/venv/3.6/lib/python3.6/site-packages/tensorflow/contrib/learn/python/learn/datasets/mnist.py:260: maybe_download (from tensorflow.contrib.learn.python.learn.datasets.base) is deprecated and will be removed in a future version.\n",
      "Instructions for updating:\n",
      "Please write your own downloading logic.\n",
      "WARNING:tensorflow:From /mnt/2ce1d30e-9805-44ab-9067-196fda7f55c5/venv/3.6/lib/python3.6/site-packages/tensorflow/contrib/learn/python/learn/datasets/mnist.py:262: extract_images (from tensorflow.contrib.learn.python.learn.datasets.mnist) is deprecated and will be removed in a future version.\n",
      "Instructions for updating:\n",
      "Please use tf.data to implement this functionality.\n",
      "Extracting /home/doosik/.keras/datasets/train-images-idx3-ubyte.gz\n",
      "WARNING:tensorflow:From /mnt/2ce1d30e-9805-44ab-9067-196fda7f55c5/venv/3.6/lib/python3.6/site-packages/tensorflow/contrib/learn/python/learn/datasets/mnist.py:267: extract_labels (from tensorflow.contrib.learn.python.learn.datasets.mnist) is deprecated and will be removed in a future version.\n",
      "Instructions for updating:\n",
      "Please use tf.data to implement this functionality.\n",
      "Extracting /home/doosik/.keras/datasets/train-labels-idx1-ubyte.gz\n",
      "Extracting /home/doosik/.keras/datasets/t10k-images-idx3-ubyte.gz\n",
      "Extracting /home/doosik/.keras/datasets/t10k-labels-idx1-ubyte.gz\n",
      "WARNING:tensorflow:From /mnt/2ce1d30e-9805-44ab-9067-196fda7f55c5/venv/3.6/lib/python3.6/site-packages/tensorflow/contrib/learn/python/learn/datasets/mnist.py:290: DataSet.__init__ (from tensorflow.contrib.learn.python.learn.datasets.mnist) is deprecated and will be removed in a future version.\n",
      "Instructions for updating:\n",
      "Please use alternatives such as official/mnist/dataset.py from tensorflow/models.\n",
      "Accuracy at step 0: 0.0786\n",
      "Accuracy at step 10: 0.7074\n",
      "Accuracy at step 20: 0.8325\n",
      "Accuracy at step 30: 0.846\n",
      "Accuracy at step 40: 0.8822\n",
      "Accuracy at step 50: 0.8871\n",
      "Accuracy at step 60: 0.9021\n",
      "Accuracy at step 70: 0.9098\n",
      "Accuracy at step 80: 0.9149\n",
      "Accuracy at step 90: 0.915\n",
      "Adding run metadata for 99\n",
      "Accuracy at step 100: 0.9186\n",
      "Accuracy at step 110: 0.9163\n",
      "Accuracy at step 120: 0.9252\n",
      "Accuracy at step 130: 0.9195\n",
      "Accuracy at step 140: 0.9254\n",
      "Accuracy at step 150: 0.923\n",
      "Accuracy at step 160: 0.9239\n",
      "Accuracy at step 170: 0.9282\n",
      "Accuracy at step 180: 0.9294\n",
      "Accuracy at step 190: 0.9218\n",
      "Adding run metadata for 199\n",
      "Accuracy at step 200: 0.9332\n",
      "Accuracy at step 210: 0.9368\n",
      "Accuracy at step 220: 0.936\n",
      "Accuracy at step 230: 0.9352\n",
      "Accuracy at step 240: 0.9381\n",
      "Accuracy at step 250: 0.9405\n",
      "Accuracy at step 260: 0.9389\n",
      "Accuracy at step 270: 0.9409\n",
      "Accuracy at step 280: 0.9429\n",
      "Accuracy at step 290: 0.9383\n",
      "Adding run metadata for 299\n",
      "Accuracy at step 300: 0.9427\n",
      "Accuracy at step 310: 0.9451\n",
      "Accuracy at step 320: 0.9434\n",
      "Accuracy at step 330: 0.9451\n",
      "Accuracy at step 340: 0.9476\n",
      "Accuracy at step 350: 0.9495\n",
      "Accuracy at step 360: 0.9459\n",
      "Accuracy at step 370: 0.948\n",
      "Accuracy at step 380: 0.9511\n",
      "Accuracy at step 390: 0.9509\n",
      "Adding run metadata for 399\n",
      "Accuracy at step 400: 0.9529\n",
      "Accuracy at step 410: 0.9498\n",
      "Accuracy at step 420: 0.9526\n",
      "Accuracy at step 430: 0.9509\n",
      "Accuracy at step 440: 0.9507\n",
      "Accuracy at step 450: 0.9546\n",
      "Accuracy at step 460: 0.9525\n",
      "Accuracy at step 470: 0.9533\n",
      "Accuracy at step 480: 0.9564\n",
      "Accuracy at step 490: 0.9576\n",
      "Adding run metadata for 499\n",
      "Accuracy at step 500: 0.9566\n",
      "Accuracy at step 510: 0.9556\n",
      "Accuracy at step 520: 0.9574\n",
      "Accuracy at step 530: 0.9592\n",
      "Accuracy at step 540: 0.9541\n",
      "Accuracy at step 550: 0.9572\n",
      "Accuracy at step 560: 0.9573\n",
      "Accuracy at step 570: 0.9584\n",
      "Accuracy at step 580: 0.9592\n",
      "Accuracy at step 590: 0.959\n",
      "Adding run metadata for 599\n",
      "Accuracy at step 600: 0.9587\n",
      "Accuracy at step 610: 0.9615\n",
      "Accuracy at step 620: 0.9592\n",
      "Accuracy at step 630: 0.9593\n",
      "Accuracy at step 640: 0.9613\n",
      "Accuracy at step 650: 0.9614\n",
      "Accuracy at step 660: 0.9564\n",
      "Accuracy at step 670: 0.961\n",
      "Accuracy at step 680: 0.9636\n",
      "Accuracy at step 690: 0.9614\n",
      "Adding run metadata for 699\n",
      "Accuracy at step 700: 0.9602\n",
      "Accuracy at step 710: 0.9616\n",
      "Accuracy at step 720: 0.9598\n",
      "Accuracy at step 730: 0.9627\n",
      "Accuracy at step 740: 0.9621\n",
      "Accuracy at step 750: 0.9624\n",
      "Accuracy at step 760: 0.9622\n",
      "Accuracy at step 770: 0.9639\n",
      "Accuracy at step 780: 0.9653\n",
      "Accuracy at step 790: 0.9672\n",
      "Adding run metadata for 799\n",
      "Accuracy at step 800: 0.9646\n",
      "Accuracy at step 810: 0.9645\n",
      "Accuracy at step 820: 0.9642\n",
      "Accuracy at step 830: 0.9633\n",
      "Accuracy at step 840: 0.9647\n",
      "Accuracy at step 850: 0.9645\n",
      "Accuracy at step 860: 0.9645\n",
      "Accuracy at step 870: 0.9675\n",
      "Accuracy at step 880: 0.9669\n",
      "Accuracy at step 890: 0.9649\n",
      "Adding run metadata for 899\n",
      "Accuracy at step 900: 0.9661\n",
      "Accuracy at step 910: 0.9635\n",
      "Accuracy at step 920: 0.967\n",
      "Accuracy at step 930: 0.9688\n",
      "Accuracy at step 940: 0.9678\n",
      "Accuracy at step 950: 0.9651\n",
      "Accuracy at step 960: 0.9676\n",
      "Accuracy at step 970: 0.9672\n",
      "Accuracy at step 980: 0.9678\n",
      "Accuracy at step 990: 0.9689\n",
      "Adding run metadata for 999\n"
     ]
    }
   ],
   "source": [
    "import os\n",
    "\n",
    "data_dir = os.path.split(image_files)[0]\n",
    "fake_data = False\n",
    "max_steps = 1000\n",
    "learning_rate = 0.001\n",
    "dropout = 0.9\n",
    "log_dir = '../temp/tensorboard'\n",
    "\n",
    "# Start training.\n",
    "with tf.Graph().as_default():\n",
    "    train(data_dir, fake_data, max_steps, learning_rate, dropout, log_dir)"
   ]
  },
  {
   "cell_type": "raw",
   "metadata": {
    "jupyter": {
     "source_hidden": true
    },
    "slideshow": {
     "slide_type": "-"
    }
   },
   "source": [
    "</section><section>"
   ]
  },
  {
   "cell_type": "markdown",
   "metadata": {},
   "source": [
    "### Run tensorboard\n",
    "```bash\n",
    "tensorboard --logdir=./temp/tensorboard\n",
    "\n",
    "```\n",
    "### Open web browser (with Chrome or FireFox)\n",
    "Microsoft Internet Explorer and Microsoft Edge browser does not work correctly!\n",
    "- http://localhost:6006/"
   ]
  },
  {
   "cell_type": "raw",
   "metadata": {
    "jupyter": {
     "source_hidden": true
    },
    "slideshow": {
     "slide_type": "-"
    }
   },
   "source": [
    "</section><section>"
   ]
  },
  {
   "cell_type": "markdown",
   "metadata": {},
   "source": [
    "## Example: Linear Regression Problem (revised for TensorBoard)"
   ]
  },
  {
   "cell_type": "code",
   "execution_count": 44,
   "metadata": {},
   "outputs": [],
   "source": [
    "import numpy as np\n",
    "import tensorflow as tf"
   ]
  },
  {
   "cell_type": "code",
   "execution_count": 74,
   "metadata": {},
   "outputs": [],
   "source": [
    "# Genrating random linear data\n",
    "# There will be 50 data points ranging from 0 to 50\n",
    "x = np.linspace(0, 50, 50)\n",
    "y = np.linspace(20, 50, 50)\n",
    "\n",
    "# Adding noise to the random linear data\n",
    "x += np.random.uniform(-4, 4, 50)\n",
    "y += np.random.uniform(-4, 4, 50)\n",
    "n = len(x) # Number of data points"
   ]
  },
  {
   "cell_type": "raw",
   "metadata": {
    "jupyter": {
     "source_hidden": true
    }
   },
   "source": [
    "</section><section>"
   ]
  },
  {
   "cell_type": "code",
   "execution_count": 92,
   "metadata": {},
   "outputs": [],
   "source": [
    "tf.reset_default_graph()\n",
    "\n",
    "learning_rate = 0.01\n",
    "training_epochs = 500"
   ]
  },
  {
   "cell_type": "code",
   "execution_count": 93,
   "metadata": {},
   "outputs": [],
   "source": [
    "# Start the Tensorflow Session.\n",
    "sess = tf.Session()\n",
    "\n",
    "with tf.name_scope('linear_regression'):\n",
    "    with tf.name_scope('input'):\n",
    "        X = tf.placeholder(tf.float32, name=\"X\")\n",
    "    with tf.name_scope('output'):\n",
    "        Y = tf.placeholder(tf.float32, name=\"Y\")\n",
    "    with tf.name_scope('learning_parameters'):\n",
    "        W = tf.Variable(np.random.randn(), name=\"W\")\n",
    "        tf.summary.scalar('W', W)\n",
    "        b = tf.Variable(np.random.randn(), name=\"b\")\n",
    "        tf.summary.scalar('b', b)\n",
    "    with tf.name_scope('linear_function'):\n",
    "        y_pred = X * W + b\n",
    "    with tf.name_scope('cost_function'):\n",
    "        cost = tf.reduce_sum(tf.pow(y_pred - Y, 2)) / (2 * n)\n",
    "        tf.summary.scalar('cost', cost)\n",
    "\n",
    "optimizer = tf.train.GradientDescentOptimizer(learning_rate).minimize(cost)\n",
    "merged = tf.summary.merge_all()\n",
    "init = tf.global_variables_initializer()\n",
    "sess.run(init)"
   ]
  },
  {
   "cell_type": "raw",
   "metadata": {
    "jupyter": {
     "source_hidden": true
    },
    "slideshow": {
     "slide_type": "-"
    }
   },
   "source": [
    "</section><section>"
   ]
  },
  {
   "cell_type": "code",
   "execution_count": 94,
   "metadata": {
    "scrolled": false
   },
   "outputs": [
    {
     "name": "stdout",
     "output_type": "stream",
     "text": [
      "Epoch 50 : cost = 0.00014310163 W = 0.9094262 b = 4.9180245\n",
      "Epoch 100 : cost = 0.0001637479 W = 0.8711955 b = 6.7411556\n",
      "Epoch 150 : cost = 0.00018325623 W = 0.8371787 b = 8.363329\n",
      "Epoch 200 : cost = 0.00020157015 W = 0.80691093 b = 9.806725\n",
      "Epoch 250 : cost = 0.00021859632 W = 0.77998 b = 11.090996\n",
      "Epoch 300 : cost = 0.00023431146 W = 0.7560177 b = 12.233698\n",
      "Epoch 350 : cost = 0.00024876377 W = 0.7346968 b = 13.250439\n",
      "Epoch 400 : cost = 0.00026197883 W = 0.7157259 b = 14.155114\n",
      "Epoch 450 : cost = 0.0002740309 W = 0.69884634 b = 14.960059\n",
      "Epoch 500 : cost = 0.00028497423 W = 0.68382716 b = 15.676287\n",
      "0.68382716 15.676287\n"
     ]
    }
   ],
   "source": [
    "with tf.summary.FileWriter( '../temp/linear', sess.graph) as train_writer:\n",
    "    # Iterate through all the epochs.\n",
    "    for epoch in range(training_epochs):\n",
    "        # Feed each data point into the optimizer using Feed Dictionary.\n",
    "        for (_x, _y) in zip(x, y):\n",
    "            sess.run(optimizer, feed_dict={X: _x, Y: _y})\n",
    "\n",
    "        # Display the result after every 50 epochs.\n",
    "        if (epoch + 1) % 50 == 0:\n",
    "            # Calculate the cost.\n",
    "            [summary, c] = sess.run([merged, cost], feed_dict={X: _x, Y: _y})\n",
    "            print(\"Epoch\", (epoch + 1), \": cost =\", c, \"W =\", sess.run(W), \"b =\", sess.run(b))\n",
    "            train_writer.add_summary(summary, epoch)  # Write summary.\n",
    "\n",
    "print(sess.run(W), sess.run(b))\n",
    "sess.close()"
   ]
  },
  {
   "cell_type": "raw",
   "metadata": {
    "jupyter": {
     "source_hidden": true
    },
    "slideshow": {
     "slide_type": "-"
    }
   },
   "source": [
    "</section><section>"
   ]
  },
  {
   "cell_type": "markdown",
   "metadata": {},
   "source": [
    "### Run tensorboard\n",
    "```bash\n",
    "tensorboard --logdir=./temp/linear\n",
    "\n",
    "```\n",
    "### Open web browser (with Chrome or FireFox)\n",
    "Microsoft Internet Explorer and Microsoft Edge browser does not work correctly!\n",
    "\n",
    "- http://localhost:6006/"
   ]
  },
  {
   "cell_type": "raw",
   "metadata": {
    "jupyter": {
     "source_hidden": true
    },
    "slideshow": {
     "slide_type": "-"
    }
   },
   "source": [
    "</section><section>"
   ]
  },
  {
   "cell_type": "markdown",
   "metadata": {},
   "source": [
    "## Reference\n",
    "- https://www.tensorflow.org/guide/summaries_and_tensorboard\n",
    "- https://jhui.github.io/2017/03/12/TensorBoard-visualize-your-learning/"
   ]
  }
 ],
 "metadata": {
  "kernelspec": {
   "display_name": "Python 3",
   "language": "python",
   "name": "python3"
  },
  "language_info": {
   "codemirror_mode": {
    "name": "ipython",
    "version": 3
   },
   "file_extension": ".py",
   "mimetype": "text/x-python",
   "name": "python",
   "nbconvert_exporter": "python",
   "pygments_lexer": "ipython3",
   "version": "3.6.8"
  }
 },
 "nbformat": 4,
 "nbformat_minor": 4
}
