{
 "cells": [
  {
   "cell_type": "markdown",
   "metadata": {
    "slideshow": {
     "slide_type": "slide"
    }
   },
   "source": [
    "# Tensorflow - Keras"
   ]
  },
  {
   "cell_type": "markdown",
   "metadata": {
    "slideshow": {
     "slide_type": "slide"
    }
   },
   "source": [
    "## About\n",
    "\n",
    "Keras is a high-level neural networks API, written in Python and capable of running on top of **TensorFlow**, **CNTK**, or **Theano**. It was developed with a focus on enabling fast experimentation."
   ]
  },
  {
   "cell_type": "markdown",
   "metadata": {
    "slideshow": {
     "slide_type": "slide"
    }
   },
   "source": [
    "## Layers\n",
    "\n",
    "### Input Layer\n",
    "\n",
    "```python\n",
    "keras.engine.input_layer.Input(shape=None,\n",
    "                               batch_shape=None,\n",
    "                               name=None,\n",
    "                               dtype=None,\n",
    "                               sparse=False,\n",
    "                               tensor=None)\n",
    "```"
   ]
  },
  {
   "cell_type": "markdown",
   "metadata": {
    "slideshow": {
     "slide_type": "slide"
    }
   },
   "source": [
    "### Dense Layer\n",
    "\n",
    "```python\n",
    "keras.layers.Dense(units,\n",
    "                   activation=None,\n",
    "                   use_bias=True,\n",
    "                   kernel_initializer='glorot_uniform',\n",
    "                   bias_initializer='zeros',\n",
    "                   kernel_regularizer=None,\n",
    "                   bias_regularizer=None,\n",
    "                   activity_regularizer=None,\n",
    "                   kernel_constraint=None,\n",
    "                   bias_constraint=None)\n",
    "```"
   ]
  },
  {
   "cell_type": "markdown",
   "metadata": {
    "slideshow": {
     "slide_type": "slide"
    }
   },
   "source": [
    "### Convolutional Layers\n",
    "\n",
    "```python\n",
    "keras.layers.Conv2D(filters,\n",
    "                    kernel_size,\n",
    "                    strides=(1, 1),\n",
    "                    padding='valid',\n",
    "                    data_format=None,\n",
    "                    dilation_rate=(1, 1),\n",
    "                    activation=None,\n",
    "                    use_bias=True,\n",
    "                    kernel_initializer='glorot_uniform',\n",
    "                    bias_initializer='zeros',\n",
    "                    kernel_regularizer=None,\n",
    "                    bias_regularizer=None,\n",
    "                    activity_regularizer=None,\n",
    "                    kernel_constraint=None,\n",
    "                    bias_constraint=None)\n",
    "```"
   ]
  },
  {
   "cell_type": "markdown",
   "metadata": {
    "slideshow": {
     "slide_type": "-"
    }
   },
   "source": [
    "### Flatten Layer\n",
    "\n",
    "```python\n",
    "keras.layers.Flatten(data_format=None)\n",
    "```"
   ]
  },
  {
   "cell_type": "markdown",
   "metadata": {
    "slideshow": {
     "slide_type": "slide"
    }
   },
   "source": [
    "### Pooling Layer\n",
    "\n",
    "```python\n",
    "keras.layers.MaxPooling2D(pool_size=(2, 2),\n",
    "                          strides=None,\n",
    "                          padding='valid',\n",
    "                          data_format=None)\n",
    "```\n",
    "\n",
    "![](../images/Maxpooling.png)"
   ]
  },
  {
   "cell_type": "markdown",
   "metadata": {
    "slideshow": {
     "slide_type": "slide"
    }
   },
   "source": [
    "### Recurrent Layers\n",
    "\n",
    "```python\n",
    "keras.layers.RNN(cell,\n",
    "                 return_sequences=False,\n",
    "                 return_state=False,\n",
    "                 go_backwards=False,\n",
    "                 stateful=False,\n",
    "                 unroll=False)\n",
    "```\n",
    "\n",
    "![](../images/rnn_layer.png)"
   ]
  },
  {
   "cell_type": "markdown",
   "metadata": {
    "slideshow": {
     "slide_type": "slide"
    }
   },
   "source": [
    "### Add Layer\n",
    "\n",
    "```python\n",
    "keras.layers.Add()\n",
    "```"
   ]
  },
  {
   "cell_type": "markdown",
   "metadata": {},
   "source": [
    "### Subtract Layer\n",
    "\n",
    "```python\n",
    "keras.layers.Subtract()\n",
    "```"
   ]
  },
  {
   "cell_type": "markdown",
   "metadata": {
    "slideshow": {
     "slide_type": "slide"
    }
   },
   "source": [
    "### Activation Layers\n",
    "\n",
    "#### ReLU\n",
    "\n",
    "```python\n",
    "keras.layers.ReLU(max_value=None,\n",
    "                  negative_slope=0.0,\n",
    "                  threshold=0.0)\n",
    "```\n",
    "\n",
    "![](../images/relu.png)"
   ]
  },
  {
   "cell_type": "markdown",
   "metadata": {
    "slideshow": {
     "slide_type": "slide"
    }
   },
   "source": [
    "#### Softmax\n",
    "\n",
    "```python\n",
    "keras.layers.Softmax(axis=-1)\n",
    "```"
   ]
  },
  {
   "cell_type": "markdown",
   "metadata": {
    "slideshow": {
     "slide_type": "slide"
    }
   },
   "source": [
    "### Normalization Layer\n",
    "\n",
    "```python\n",
    "keras.layers.BatchNormalization(axis=-1,\n",
    "                                momentum=0.99,\n",
    "                                epsilon=0.001,\n",
    "                                center=True,\n",
    "                                scale=True,\n",
    "                                beta_initializer='zeros',\n",
    "                                gamma_initializer='ones',\n",
    "                                moving_mean_initializer='zeros',\n",
    "                                moving_variance_initializer='ones',\n",
    "                                beta_regularizer=None,\n",
    "                                gamma_regularizer=None,\n",
    "                                beta_constraint=None,\n",
    "                                gamma_constraint=None)\n",
    "```"
   ]
  },
  {
   "cell_type": "markdown",
   "metadata": {
    "slideshow": {
     "slide_type": "slide"
    }
   },
   "source": [
    "## Optimizers\n",
    "\n",
    "![](../images/optimizers.gif)"
   ]
  },
  {
   "cell_type": "markdown",
   "metadata": {
    "slideshow": {
     "slide_type": "slide"
    }
   },
   "source": [
    "### Adam\n",
    "\n",
    "```python\n",
    "keras.optimizers.Adam(lr=0.001,\n",
    "                      beta_1=0.9,\n",
    "                      beta_2=0.999,\n",
    "                      epsilon=None,\n",
    "                      decay=0.0,\n",
    "                      amsgrad=False)\n",
    "```\n",
    "\n",
    "### RMSprop\n",
    "\n",
    "```python\n",
    "keras.optimizers.RMSprop(lr=0.001,\n",
    "                         rho=0.9,\n",
    "                         epsilon=None,\n",
    "                         decay=0.0)\n",
    "```\n",
    "\n",
    "### SGD\n",
    "\n",
    "```python\n",
    "keras.optimizers.SGD(lr=0.01,\n",
    "                     momentum=0.0,\n",
    "                     decay=0.0,\n",
    "                     nesterov=False)\n",
    "```"
   ]
  },
  {
   "cell_type": "markdown",
   "metadata": {
    "slideshow": {
     "slide_type": "slide"
    }
   },
   "source": [
    "## Model Methods\n",
    "\n",
    "### compile\n",
    "\n",
    "```python\n",
    "tf.keras.Model.compile(optimizer,\n",
    "                       loss=None,\n",
    "                       metrics=None,\n",
    "                       loss_weights=None,\n",
    "                       sample_weight_mode=None,\n",
    "                       weighted_metrics=None,\n",
    "                       target_tensors=None)\n",
    "```"
   ]
  },
  {
   "cell_type": "markdown",
   "metadata": {},
   "source": [
    "### summary\n",
    "\n",
    "```python\n",
    "tf.keras.Model.summary(line_length=None,\n",
    "                       positions=None,\n",
    "                       print_fn=None)\n",
    "```"
   ]
  },
  {
   "cell_type": "markdown",
   "metadata": {
    "slideshow": {
     "slide_type": "slide"
    }
   },
   "source": [
    "### fit\n",
    "\n",
    "```python\n",
    "tf.keras.Model.fit(x=None,\n",
    "                   y=None,\n",
    "                   batch_size=None,\n",
    "                   epochs=1,\n",
    "                   verbose=1,\n",
    "                   callbacks=None,\n",
    "                   validation_split=0.0,\n",
    "                   validation_data=None,\n",
    "                   shuffle=True,\n",
    "                   class_weight=None,\n",
    "                   sample_weight=None,\n",
    "                   initial_epoch=0,\n",
    "                   steps_per_epoch=None,\n",
    "                   validation_steps=None,\n",
    "                   validation_freq=1)\n",
    "```"
   ]
  },
  {
   "cell_type": "markdown",
   "metadata": {
    "slideshow": {
     "slide_type": "slide"
    }
   },
   "source": [
    "### evaluate\n",
    "\n",
    "```python\n",
    "tf.keras.Model.evaluate(x=None,\n",
    "                        y=None,\n",
    "                        batch_size=None,\n",
    "                        verbose=1,\n",
    "                        sample_weight=None,\n",
    "                        steps=None,\n",
    "                        callbacks=None)\n",
    "```"
   ]
  },
  {
   "cell_type": "markdown",
   "metadata": {},
   "source": [
    "### predict\n",
    "\n",
    "```python\n",
    "tf.keras.Model.predict(x,\n",
    "                       batch_size=None,\n",
    "                       verbose=0,\n",
    "                       steps=None,\n",
    "                       callbacks=None)\n",
    "```"
   ]
  },
  {
   "cell_type": "markdown",
   "metadata": {
    "slideshow": {
     "slide_type": "slide"
    }
   },
   "source": [
    "## Example: XOR Problem (Keras version)"
   ]
  },
  {
   "cell_type": "code",
   "execution_count": 22,
   "metadata": {},
   "outputs": [],
   "source": [
    "%matplotlib inline\n",
    "import numpy as np\n",
    "import matplotlib.pyplot as plt\n",
    "import cv2\n",
    "import tensorflow as tf\n",
    "from tensorflow.keras.models import Sequential\n",
    "from tensorflow.keras.layers import Activation, Dense\n",
    "import time"
   ]
  },
  {
   "cell_type": "code",
   "execution_count": 23,
   "metadata": {
    "slideshow": {
     "slide_type": "slide"
    }
   },
   "outputs": [
    {
     "name": "stdout",
     "output_type": "stream",
     "text": [
      "_________________________________________________________________\n",
      "Layer (type)                 Output Shape              Param #   \n",
      "=================================================================\n",
      "dense_11 (Dense)             (None, 4)                 12        \n",
      "_________________________________________________________________\n",
      "dense_12 (Dense)             (None, 1)                 5         \n",
      "=================================================================\n",
      "Total params: 17\n",
      "Trainable params: 17\n",
      "Non-trainable params: 0\n",
      "_________________________________________________________________\n"
     ]
    }
   ],
   "source": [
    "# Set training data.\n",
    "training_data = np.array([[0,0], [0,1], [1,0], [1,1]], np.float32)\n",
    "target_data = np.array([[0], [1], [1], [0]], np.float32)\n",
    "\n",
    "# Define hidden and output layer.\n",
    "model_xor = Sequential()\n",
    "model_xor.add(Dense(4, input_dim=2, activation='relu'))  # weight and bias are inherent.\n",
    "model_xor.add(Dense(1, activation='sigmoid'))\n",
    "\n",
    "# Select loss function and optimizer.\n",
    "model_xor.compile(loss='mean_squared_error', optimizer='adam', metrics=['binary_accuracy'])\n",
    "model_xor.summary()"
   ]
  },
  {
   "cell_type": "code",
   "execution_count": 21,
   "metadata": {
    "slideshow": {
     "slide_type": "slide"
    }
   },
   "outputs": [
    {
     "name": "stdout",
     "output_type": "stream",
     "text": [
      "Elapsed time = 36.96934199333191\n"
     ]
    }
   ],
   "source": [
    "start_time = time.time()\n",
    "\n",
    "# Start training.\n",
    "model_xor.fit(training_data, target_data, epochs=10000, verbose=0)\n",
    "\n",
    "print('Elapsed time =', time.time() - start_time)"
   ]
  },
  {
   "cell_type": "code",
   "execution_count": 24,
   "metadata": {},
   "outputs": [
    {
     "name": "stdout",
     "output_type": "stream",
     "text": [
      "[0. 0.] => 0.000301079\n",
      "[0. 1.] => 0.9997074\n",
      "[1. 0.] => 0.99972683\n",
      "[1. 1.] => 0.0002741845\n"
     ]
    }
   ],
   "source": [
    "result = model_xor.predict(training_data)\n",
    "for index in range(len(training_data)):\n",
    "    print(training_data[index], '=>', result[index][0])"
   ]
  },
  {
   "cell_type": "markdown",
   "metadata": {},
   "source": [
    "&#x261b; Compare with Tensorflow version in [40_tensorflow/42_Basics.ipynb](../40_tensorflow/42_Basics.ipynb#Example--XOR-Problem)"
   ]
  },
  {
   "cell_type": "markdown",
   "metadata": {
    "slideshow": {
     "slide_type": "slide"
    }
   },
   "source": [
    "## Example: MNIST OCR Problem (MLP version)"
   ]
  },
  {
   "cell_type": "code",
   "execution_count": 5,
   "metadata": {},
   "outputs": [],
   "source": [
    "%matplotlib inline\n",
    "import numpy as np\n",
    "import matplotlib.pyplot as plt\n",
    "import cv2\n",
    "import tensorflow as tf\n",
    "from tensorflow.keras.models import Sequential\n",
    "from tensorflow.keras.layers import Dense, Flatten"
   ]
  },
  {
   "cell_type": "code",
   "execution_count": 6,
   "metadata": {},
   "outputs": [
    {
     "name": "stdout",
     "output_type": "stream",
     "text": [
      "(60000, 28, 28) (60000,) (10000, 28, 28) (10000,)\n"
     ]
    }
   ],
   "source": [
    "(x_train, y_train), (x_test, y_test) = tf.keras.datasets.mnist.load_data()\n",
    "print(x_train.shape, y_train.shape, x_test.shape, y_test.shape)"
   ]
  },
  {
   "cell_type": "code",
   "execution_count": 7,
   "metadata": {
    "slideshow": {
     "slide_type": "slide"
    }
   },
   "outputs": [
    {
     "data": {
      "image/png": "[encoded data removed]",
      "text/plain": [
       "<Figure size 1080x288 with 20 Axes>"
      ]
     },
     "metadata": {},
     "output_type": "display_data"
    }
   ],
   "source": [
    "plt.figure(figsize=(15, 4))\n",
    "for digit in range(20):\n",
    "    plt.subplot(2, 10, digit + 1)\n",
    "    plt.xticks([]); plt.yticks([])\n",
    "    plt.title(y_train[digit])\n",
    "    plt.imshow(x_train[digit], cmap='Greys')"
   ]
  },
  {
   "cell_type": "code",
   "execution_count": 8,
   "metadata": {
    "slideshow": {
     "slide_type": "slide"
    }
   },
   "outputs": [
    {
     "name": "stdout",
     "output_type": "stream",
     "text": [
      "x_train shape: (60000, 1, 28, 28)\n",
      "Number of images in x_train = 60000\n",
      "Number of images in x_test = 10000\n"
     ]
    }
   ],
   "source": [
    "# Reshaping the array to 4-dims so that it can work with the Keras API\n",
    "# [samples, channels, width, height]\n",
    "x_train = x_train.reshape(x_train.shape[0], 1, 28, 28)\n",
    "x_test = x_test.reshape(x_test.shape[0], 1, 28, 28)\n",
    "\n",
    "# Making sure that the values are float so that we can get decimal points after division\n",
    "x_train = x_train.astype('float32')\n",
    "x_test = x_test.astype('float32')\n",
    "\n",
    "# Normalizing the RGB codes by dividing it to the max RGB value.\n",
    "x_train /= 255\n",
    "x_test /= 255\n",
    "\n",
    "print('x_train shape:', x_train.shape)\n",
    "print('Number of images in x_train =', x_train.shape[0])\n",
    "print('Number of images in x_test =', x_test.shape[0])"
   ]
  },
  {
   "cell_type": "code",
   "execution_count": 10,
   "metadata": {
    "slideshow": {
     "slide_type": "slide"
    }
   },
   "outputs": [],
   "source": [
    "# Create networks.\n",
    "model_mlp = Sequential()\n",
    "model_mlp.add(Flatten()) # Flattening the 2D arrays for fully connected layers\n",
    "model_mlp.add(Dense(128, activation=tf.nn.relu))\n",
    "model_mlp.add(Dense(64, activation=tf.nn.relu))\n",
    "model_mlp.add(Dense(10, activation=tf.nn.softmax))\n",
    "model_mlp.compile(optimizer='adam', \n",
    "                  loss='sparse_categorical_crossentropy', \n",
    "                  metrics=['accuracy'])"
   ]
  },
  {
   "cell_type": "code",
   "execution_count": 10,
   "metadata": {
    "slideshow": {
     "slide_type": "slide"
    }
   },
   "outputs": [
    {
     "name": "stdout",
     "output_type": "stream",
     "text": [
      "Epoch 1/10\n",
      "60000/60000 [==============================] - 8s 140us/step - loss: 0.2448 - acc: 0.9290\n",
      "Epoch 2/10\n",
      "60000/60000 [==============================] - 8s 137us/step - loss: 0.1048 - acc: 0.9682\n",
      "Epoch 3/10\n",
      "60000/60000 [==============================] - 8s 137us/step - loss: 0.0743 - acc: 0.9768\n",
      "Epoch 4/10\n",
      "60000/60000 [==============================] - 8s 137us/step - loss: 0.0564 - acc: 0.9828\n",
      "Epoch 5/10\n",
      "60000/60000 [==============================] - 8s 138us/step - loss: 0.0437 - acc: 0.9860\n",
      "Epoch 6/10\n",
      "60000/60000 [==============================] - 8s 136us/step - loss: 0.0358 - acc: 0.9882\n",
      "Epoch 7/10\n",
      "60000/60000 [==============================] - 8s 137us/step - loss: 0.0293 - acc: 0.9905\n",
      "Epoch 8/10\n",
      "60000/60000 [==============================] - 8s 138us/step - loss: 0.0245 - acc: 0.9918\n",
      "Epoch 9/10\n",
      "60000/60000 [==============================] - 8s 136us/step - loss: 0.0214 - acc: 0.9931\n",
      "Epoch 10/10\n",
      "60000/60000 [==============================] - 8s 137us/step - loss: 0.0192 - acc: 0.9940\n"
     ]
    },
    {
     "data": {
      "text/plain": [
       "<tensorflow.python.keras.callbacks.History at 0x7f8210738f98>"
      ]
     },
     "execution_count": 10,
     "metadata": {},
     "output_type": "execute_result"
    }
   ],
   "source": [
    "# Train networks.\n",
    "model_mlp.fit(x=x_train, y=y_train, epochs=10)"
   ]
  },
  {
   "cell_type": "code",
   "execution_count": 11,
   "metadata": {
    "slideshow": {
     "slide_type": "slide"
    }
   },
   "outputs": [
    {
     "name": "stdout",
     "output_type": "stream",
     "text": [
      "10000/10000 [==============================] - 1s 64us/step\n",
      "loss = 0.0874801150770989\n",
      "metrics = 0.9781\n"
     ]
    }
   ],
   "source": [
    "# Test networks\n",
    "loss, metrics = model_mlp.evaluate(x_test, y_test)\n",
    "print('loss =', loss)\n",
    "print('metrics =', metrics)"
   ]
  },
  {
   "cell_type": "code",
   "execution_count": 20,
   "metadata": {
    "slideshow": {
     "slide_type": "slide"
    }
   },
   "outputs": [
    {
     "name": "stdout",
     "output_type": "stream",
     "text": [
      "_________________________________________________________________\n",
      "Layer (type)                 Output Shape              Param #   \n",
      "=================================================================\n",
      "flatten (Flatten)            multiple                  0         \n",
      "_________________________________________________________________\n",
      "dense_2 (Dense)              multiple                  100480    \n",
      "_________________________________________________________________\n",
      "dense_3 (Dense)              multiple                  8256      \n",
      "_________________________________________________________________\n",
      "dense_4 (Dense)              multiple                  650       \n",
      "=================================================================\n",
      "Total params: 109,386\n",
      "Trainable params: 109,386\n",
      "Non-trainable params: 0\n",
      "_________________________________________________________________\n"
     ]
    }
   ],
   "source": [
    "model_mlp.summary()"
   ]
  },
  {
   "cell_type": "markdown",
   "metadata": {
    "slideshow": {
     "slide_type": "slide"
    }
   },
   "source": [
    "## Example: MNIST OCR Problem (CNN version)"
   ]
  },
  {
   "cell_type": "code",
   "execution_count": 3,
   "metadata": {},
   "outputs": [],
   "source": [
    "%matplotlib inline\n",
    "import numpy as np\n",
    "import matplotlib.pyplot as plt\n",
    "import cv2\n",
    "import tensorflow as tf\n",
    "from tensorflow.keras.models import Sequential\n",
    "from tensorflow.keras.layers import Dense, Flatten, Conv2D, MaxPooling2D, Dropout\n",
    "from tensorflow.keras import backend\n",
    "\n",
    "backend.set_image_data_format('channels_first')"
   ]
  },
  {
   "cell_type": "code",
   "execution_count": 4,
   "metadata": {},
   "outputs": [],
   "source": [
    "# Create networks.\n",
    "model_cnn = Sequential()\n",
    "model_cnn.add(Conv2D(filters=32, kernel_size=(5, 5), input_shape=(1, 28, 28), activation='relu'))\n",
    "model_cnn.add(MaxPooling2D(pool_size=(2, 2)))\n",
    "model_cnn.add(Conv2D(15, (3, 3), activation='relu'))\n",
    "model_cnn.add(MaxPooling2D(pool_size=(2, 2)))\n",
    "model_cnn.add(Dropout(0.2))\n",
    "model_cnn.add(Flatten())\n",
    "model_cnn.add(Dense(128, activation='relu'))\n",
    "model_cnn.add(Dense(50, activation='relu'))\n",
    "model_cnn.add(Dense(10, activation='softmax'))\n",
    "model_cnn.compile(optimizer='adam', \n",
    "                  loss='sparse_categorical_crossentropy', \n",
    "                  metrics=['accuracy'])"
   ]
  },
  {
   "cell_type": "code",
   "execution_count": 15,
   "metadata": {
    "slideshow": {
     "slide_type": "slide"
    }
   },
   "outputs": [
    {
     "name": "stdout",
     "output_type": "stream",
     "text": [
      "Epoch 1/10\n",
      "60000/60000 [==============================] - 13s 216us/step - loss: 0.1943 - acc: 0.9390\n",
      "Epoch 2/10\n",
      "60000/60000 [==============================] - 12s 199us/step - loss: 0.0686 - acc: 0.9789\n",
      "Epoch 3/10\n",
      "60000/60000 [==============================] - 12s 199us/step - loss: 0.0521 - acc: 0.9842\n",
      "Epoch 4/10\n",
      "60000/60000 [==============================] - 12s 199us/step - loss: 0.0432 - acc: 0.9862\n",
      "Epoch 5/10\n",
      "60000/60000 [==============================] - 12s 201us/step - loss: 0.0382 - acc: 0.9879\n",
      "Epoch 6/10\n",
      "60000/60000 [==============================] - 12s 200us/step - loss: 0.0334 - acc: 0.9895\n",
      "Epoch 7/10\n",
      "60000/60000 [==============================] - 12s 200us/step - loss: 0.0288 - acc: 0.9908\n",
      "Epoch 8/10\n",
      "60000/60000 [==============================] - 12s 199us/step - loss: 0.0258 - acc: 0.9913\n",
      "Epoch 9/10\n",
      "60000/60000 [==============================] - 12s 200us/step - loss: 0.0226 - acc: 0.9926\n",
      "Epoch 10/10\n",
      "60000/60000 [==============================] - 12s 201us/step - loss: 0.0207 - acc: 0.9932\n"
     ]
    },
    {
     "data": {
      "text/plain": [
       "<tensorflow.python.keras.callbacks.History at 0x7f82101e9d68>"
      ]
     },
     "execution_count": 15,
     "metadata": {},
     "output_type": "execute_result"
    }
   ],
   "source": [
    "# Train networks.\n",
    "model_cnn.fit(x=x_train, y=y_train, epochs=10)"
   ]
  },
  {
   "cell_type": "code",
   "execution_count": 16,
   "metadata": {
    "slideshow": {
     "slide_type": "slide"
    }
   },
   "outputs": [
    {
     "name": "stdout",
     "output_type": "stream",
     "text": [
      "10000/10000 [==============================] - 1s 82us/step\n",
      "loss = 0.029972269386977134\n",
      "metrics = 0.9911\n"
     ]
    }
   ],
   "source": [
    "# Test networks\n",
    "loss, metrics = model_cnn.evaluate(x_test, y_test)\n",
    "print('loss =', loss)\n",
    "print('metrics =', metrics)"
   ]
  },
  {
   "cell_type": "code",
   "execution_count": 19,
   "metadata": {
    "slideshow": {
     "slide_type": "slide"
    }
   },
   "outputs": [
    {
     "name": "stdout",
     "output_type": "stream",
     "text": [
      "_________________________________________________________________\n",
      "Layer (type)                 Output Shape              Param #   \n",
      "=================================================================\n",
      "conv2d (Conv2D)              (None, 32, 24, 24)        832       \n",
      "_________________________________________________________________\n",
      "max_pooling2d (MaxPooling2D) (None, 32, 12, 12)        0         \n",
      "_________________________________________________________________\n",
      "conv2d_1 (Conv2D)            (None, 15, 10, 10)        4335      \n",
      "_________________________________________________________________\n",
      "max_pooling2d_1 (MaxPooling2 (None, 15, 5, 5)          0         \n",
      "_________________________________________________________________\n",
      "dropout (Dropout)            (None, 15, 5, 5)          0         \n",
      "_________________________________________________________________\n",
      "flatten_1 (Flatten)          (None, 375)               0         \n",
      "_________________________________________________________________\n",
      "dense_5 (Dense)              (None, 128)               48128     \n",
      "_________________________________________________________________\n",
      "dense_6 (Dense)              (None, 50)                6450      \n",
      "_________________________________________________________________\n",
      "dense_7 (Dense)              (None, 10)                510       \n",
      "=================================================================\n",
      "Total params: 60,255\n",
      "Trainable params: 60,255\n",
      "Non-trainable params: 0\n",
      "_________________________________________________________________\n"
     ]
    }
   ],
   "source": [
    "model_cnn.summary()"
   ]
  },
  {
   "cell_type": "markdown",
   "metadata": {
    "slideshow": {
     "slide_type": "slide"
    }
   },
   "source": [
    "## MLP vs. CNN\n",
    "\n",
    "|                | MLP |    | CNN |\n",
    "|----------------|-----|----|-----|\n",
    "| Layers         |     | << |     |\n",
    "| Parameters     |     | >> |     |\n",
    "| Learning speed |     | << |     |\n",
    "| Accurary       |     | << |     |\n",
    "| Generalization |     | << |     |"
   ]
  },
  {
   "cell_type": "markdown",
   "metadata": {
    "slideshow": {
     "slide_type": "slide"
    }
   },
   "source": [
    "## Save and Restore Model"
   ]
  },
  {
   "cell_type": "code",
   "execution_count": 31,
   "metadata": {},
   "outputs": [],
   "source": [
    "# Save model.\n",
    "model_xor.save('../temp/model_xor.h5')"
   ]
  },
  {
   "cell_type": "code",
   "execution_count": 34,
   "metadata": {},
   "outputs": [
    {
     "name": "stdout",
     "output_type": "stream",
     "text": [
      "_________________________________________________________________\n",
      "Layer (type)                 Output Shape              Param #   \n",
      "=================================================================\n",
      "dense_9 (Dense)              (None, 4)                 12        \n",
      "_________________________________________________________________\n",
      "dense_10 (Dense)             (None, 1)                 5         \n",
      "=================================================================\n",
      "Total params: 17\n",
      "Trainable params: 17\n",
      "Non-trainable params: 0\n",
      "_________________________________________________________________\n"
     ]
    }
   ],
   "source": [
    "import tensorflow.keras.models\n",
    "\n",
    "# Restore model.\n",
    "new_model = tensorflow.keras.models.load_model('../temp/model_xor.h5')\n",
    "new_model.summary()"
   ]
  },
  {
   "cell_type": "markdown",
   "metadata": {
    "slideshow": {
     "slide_type": "slide"
    }
   },
   "source": [
    "## Save and Restore Weights"
   ]
  },
  {
   "cell_type": "code",
   "execution_count": 36,
   "metadata": {},
   "outputs": [],
   "source": [
    "# Save config.\n",
    "json_config = model_xor.to_json()\n",
    "\n",
    "with open('../temp/xor.json', 'w') as json_file:\n",
    "    json_file.write(json_config)\n",
    "    \n",
    "# Save weights.\n",
    "model_xor.save_weights('../temp/weights_xor.h5')"
   ]
  },
  {
   "cell_type": "code",
   "execution_count": 40,
   "metadata": {},
   "outputs": [],
   "source": [
    "# Restore config.\n",
    "with open('../temp/xor.json') as json_file:\n",
    "    json_config = json_file.read()\n",
    "    \n",
    "new_model = tensorflow.keras.models.model_from_json(json_config)\n",
    "\n",
    "# Restore weights.\n",
    "new_model.load_weights('../temp/weights_xor.h5')"
   ]
  },
  {
   "cell_type": "markdown",
   "metadata": {
    "slideshow": {
     "slide_type": "slide"
    }
   },
   "source": [
    "## Reference\n",
    "- https://www.tensorflow.org/guide/keras\n",
    "- https://gist.github.com/cburgdorf/e2fb46e5ad61ed7b9a29029c5cc30134\n",
    "- https://machinelearningmastery.com/handwritten-digit-recognition-using-convolutional-neural-networks-python-keras/"
   ]
  }
 ],
 "metadata": {
  "celltoolbar": "Slideshow",
  "kernelspec": {
   "display_name": "Python 3",
   "language": "python",
   "name": "python3"
  },
  "language_info": {
   "codemirror_mode": {
    "name": "ipython",
    "version": 3
   },
   "file_extension": ".py",
   "mimetype": "text/x-python",
   "name": "python",
   "nbconvert_exporter": "python",
   "pygments_lexer": "ipython3",
   "version": "3.6.8"
  }
 },
 "nbformat": 4,
 "nbformat_minor": 4
}
