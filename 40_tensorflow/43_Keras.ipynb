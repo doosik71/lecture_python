{
 "cells": [
  {
   "cell_type": "markdown",
   "metadata": {},
   "source": [
    "# Tensorflow - Keras\n",
    "\n",
    "## About\n",
    "\n",
    "Keras is a high-level neural networks API, written in Python and capable of running on top of **TensorFlow**, **CNTK**, or **Theano**. It was developed with a focus on enabling fast experimentation."
   ]
  },
  {
   "cell_type": "raw",
   "metadata": {
    "jupyter": {
     "source_hidden": true
    }
   },
   "source": [
    "</section><section>"
   ]
  },
  {
   "cell_type": "markdown",
   "metadata": {},
   "source": [
    "## Layers\n",
    "\n",
    "### Input Layer\n",
    "\n",
    "```python\n",
    "keras.engine.input_layer.Input(shape=None,\n",
    "                               batch_shape=None,\n",
    "                               name=None,\n",
    "                               dtype=None,\n",
    "                               sparse=False,\n",
    "                               tensor=None)\n",
    "```"
   ]
  },
  {
   "cell_type": "markdown",
   "metadata": {},
   "source": [
    "### Dense Layer\n",
    "\n",
    "```python\n",
    "keras.layers.Dense(units,\n",
    "                   activation=None,\n",
    "                   use_bias=True,\n",
    "                   kernel_initializer='glorot_uniform',\n",
    "                   bias_initializer='zeros',\n",
    "                   kernel_regularizer=None,\n",
    "                   bias_regularizer=None,\n",
    "                   activity_regularizer=None,\n",
    "                   kernel_constraint=None,\n",
    "                   bias_constraint=None)\n",
    "```"
   ]
  },
  {
   "cell_type": "raw",
   "metadata": {
    "jupyter": {
     "source_hidden": true
    }
   },
   "source": [
    "</section><section>"
   ]
  },
  {
   "cell_type": "markdown",
   "metadata": {},
   "source": [
    "### Flatten Layer\n",
    "\n",
    "```python\n",
    "keras.layers.Flatten(data_format=None)\n",
    "```"
   ]
  },
  {
   "cell_type": "markdown",
   "metadata": {},
   "source": [
    "### Convolutional Layers\n",
    "\n",
    "```python\n",
    "keras.layers.Conv2D(filters,\n",
    "                    kernel_size,\n",
    "                    strides=(1, 1),\n",
    "                    padding='valid',\n",
    "                    data_format=None,\n",
    "                    dilation_rate=(1, 1),\n",
    "                    activation=None,\n",
    "                    use_bias=True,\n",
    "                    kernel_initializer='glorot_uniform',\n",
    "                    bias_initializer='zeros',\n",
    "                    kernel_regularizer=None,\n",
    "                    bias_regularizer=None,\n",
    "                    activity_regularizer=None,\n",
    "                    kernel_constraint=None,\n",
    "                    bias_constraint=None)\n",
    "```"
   ]
  },
  {
   "cell_type": "raw",
   "metadata": {
    "jupyter": {
     "source_hidden": true
    }
   },
   "source": [
    "</section><section>"
   ]
  },
  {
   "cell_type": "markdown",
   "metadata": {},
   "source": [
    "### Pooling Layer\n",
    "\n",
    "```python\n",
    "keras.layers.MaxPooling2D(pool_size=(2, 2),\n",
    "                          strides=None,\n",
    "                          padding='valid',\n",
    "                          data_format=None)\n",
    "```\n",
    "\n",
    "![](../images/Maxpooling.png)"
   ]
  },
  {
   "cell_type": "raw",
   "metadata": {
    "jupyter": {
     "source_hidden": true
    }
   },
   "source": [
    "</section><section>"
   ]
  },
  {
   "cell_type": "markdown",
   "metadata": {},
   "source": [
    "### Recurrent Layers\n",
    "\n",
    "```python\n",
    "keras.layers.RNN(cell,\n",
    "                 return_sequences=False,\n",
    "                 return_state=False,\n",
    "                 go_backwards=False,\n",
    "                 stateful=False,\n",
    "                 unroll=False)\n",
    "```\n",
    "\n",
    "![](../images/rnn_layer.png)"
   ]
  },
  {
   "cell_type": "raw",
   "metadata": {
    "jupyter": {
     "source_hidden": true
    }
   },
   "source": [
    "</section><section>"
   ]
  },
  {
   "cell_type": "markdown",
   "metadata": {},
   "source": [
    "### Add Layer\n",
    "\n",
    "```python\n",
    "keras.layers.Add()\n",
    "```"
   ]
  },
  {
   "cell_type": "markdown",
   "metadata": {},
   "source": [
    "### Subtract Layer\n",
    "\n",
    "```python\n",
    "keras.layers.Subtract()\n",
    "```"
   ]
  },
  {
   "cell_type": "raw",
   "metadata": {
    "jupyter": {
     "source_hidden": true
    }
   },
   "source": [
    "</section><section>"
   ]
  },
  {
   "cell_type": "markdown",
   "metadata": {},
   "source": [
    "### Activation Layers\n",
    "\n",
    "#### ReLU\n",
    "\n",
    "```python\n",
    "keras.layers.ReLU(max_value=None,\n",
    "                  negative_slope=0.0,\n",
    "                  threshold=0.0)\n",
    "```\n",
    "\n",
    "![](../images/relu.png)"
   ]
  },
  {
   "cell_type": "raw",
   "metadata": {
    "jupyter": {
     "source_hidden": true
    }
   },
   "source": [
    "</section><section>"
   ]
  },
  {
   "cell_type": "markdown",
   "metadata": {},
   "source": [
    "#### Softmax\n",
    "\n",
    "```python\n",
    "keras.layers.Softmax(axis=-1)\n",
    "```"
   ]
  },
  {
   "cell_type": "raw",
   "metadata": {
    "jupyter": {
     "source_hidden": true
    }
   },
   "source": [
    "</section><section>"
   ]
  },
  {
   "cell_type": "markdown",
   "metadata": {},
   "source": [
    "### Normalization Layer\n",
    "\n",
    "```python\n",
    "keras.layers.BatchNormalization(axis=-1,\n",
    "                                momentum=0.99,\n",
    "                                epsilon=0.001,\n",
    "                                center=True,\n",
    "                                scale=True,\n",
    "                                beta_initializer='zeros',\n",
    "                                gamma_initializer='ones',\n",
    "                                moving_mean_initializer='zeros',\n",
    "                                moving_variance_initializer='ones',\n",
    "                                beta_regularizer=None,\n",
    "                                gamma_regularizer=None,\n",
    "                                beta_constraint=None,\n",
    "                                gamma_constraint=None)\n",
    "```"
   ]
  },
  {
   "cell_type": "raw",
   "metadata": {
    "jupyter": {
     "source_hidden": true
    }
   },
   "source": [
    "</section><section>"
   ]
  },
  {
   "cell_type": "markdown",
   "metadata": {},
   "source": [
    "## Optimizers\n",
    "\n",
    "![](../images/optimizers.gif)"
   ]
  },
  {
   "cell_type": "raw",
   "metadata": {
    "jupyter": {
     "source_hidden": true
    }
   },
   "source": [
    "</section><section>"
   ]
  },
  {
   "cell_type": "markdown",
   "metadata": {},
   "source": [
    "### Adam\n",
    "\n",
    "```python\n",
    "keras.optimizers.Adam(lr=0.001,\n",
    "                      beta_1=0.9,\n",
    "                      beta_2=0.999,\n",
    "                      epsilon=None,\n",
    "                      decay=0.0,\n",
    "                      amsgrad=False)\n",
    "```\n",
    "\n",
    "### RMSprop\n",
    "\n",
    "```python\n",
    "keras.optimizers.RMSprop(lr=0.001,\n",
    "                         rho=0.9,\n",
    "                         epsilon=None,\n",
    "                         decay=0.0)\n",
    "```\n",
    "\n",
    "### SGD\n",
    "\n",
    "```python\n",
    "keras.optimizers.SGD(lr=0.01,\n",
    "                     momentum=0.0,\n",
    "                     decay=0.0,\n",
    "                     nesterov=False)\n",
    "```"
   ]
  },
  {
   "cell_type": "raw",
   "metadata": {
    "jupyter": {
     "source_hidden": true
    }
   },
   "source": [
    "</section><section>"
   ]
  },
  {
   "cell_type": "markdown",
   "metadata": {},
   "source": [
    "## Model Methods\n",
    "\n",
    "### compile\n",
    "\n",
    "```python\n",
    "tf.keras.Model.compile(optimizer,\n",
    "                       loss=None,\n",
    "                       metrics=None,\n",
    "                       loss_weights=None,\n",
    "                       sample_weight_mode=None,\n",
    "                       weighted_metrics=None,\n",
    "                       target_tensors=None)\n",
    "```"
   ]
  },
  {
   "cell_type": "raw",
   "metadata": {
    "jupyter": {
     "source_hidden": true
    }
   },
   "source": [
    "</section><section>"
   ]
  },
  {
   "cell_type": "markdown",
   "metadata": {},
   "source": [
    "### fit\n",
    "\n",
    "```python\n",
    "tf.keras.Model.fit(x=None,\n",
    "                   y=None,\n",
    "                   batch_size=None,\n",
    "                   epochs=1,\n",
    "                   verbose=1,\n",
    "                   callbacks=None,\n",
    "                   validation_split=0.0,\n",
    "                   validation_data=None,\n",
    "                   shuffle=True,\n",
    "                   class_weight=None,\n",
    "                   sample_weight=None,\n",
    "                   initial_epoch=0,\n",
    "                   steps_per_epoch=None,\n",
    "                   validation_steps=None,\n",
    "                   validation_freq=1)\n",
    "```"
   ]
  },
  {
   "cell_type": "raw",
   "metadata": {
    "jupyter": {
     "source_hidden": true
    }
   },
   "source": [
    "</section><section>"
   ]
  },
  {
   "cell_type": "markdown",
   "metadata": {},
   "source": [
    "### evaluate\n",
    "\n",
    "```python\n",
    "tf.keras.Model.evaluate(x=None,\n",
    "                        y=None,\n",
    "                        batch_size=None,\n",
    "                        verbose=1,\n",
    "                        sample_weight=None,\n",
    "                        steps=None,\n",
    "                        callbacks=None)\n",
    "```"
   ]
  },
  {
   "cell_type": "markdown",
   "metadata": {},
   "source": [
    "### predict\n",
    "\n",
    "```python\n",
    "tf.keras.Model.predict(x,\n",
    "                       batch_size=None,\n",
    "                       verbose=0,\n",
    "                       steps=None,\n",
    "                       callbacks=None)\n",
    "```"
   ]
  },
  {
   "cell_type": "markdown",
   "metadata": {},
   "source": [
    "### summary\n",
    "\n",
    "```python\n",
    "tf.keras.Model.summary(line_length=None,\n",
    "                       positions=None,\n",
    "                       print_fn=None)\n",
    "```"
   ]
  },
  {
   "cell_type": "raw",
   "metadata": {
    "jupyter": {
     "source_hidden": true
    }
   },
   "source": [
    "</section><section>"
   ]
  },
  {
   "cell_type": "markdown",
   "metadata": {},
   "source": [
    "## XOR Problem Example (Keras version)"
   ]
  },
  {
   "cell_type": "code",
   "execution_count": 1,
   "metadata": {},
   "outputs": [
    {
     "name": "stderr",
     "output_type": "stream",
     "text": [
      "/mnt/2ce1d30e-9805-44ab-9067-196fda7f55c5/venv/3.6/lib/python3.6/site-packages/tensorflow/python/framework/dtypes.py:523: FutureWarning: Passing (type, 1) or '1type' as a synonym of type is deprecated; in a future version of numpy, it will be understood as (type, (1,)) / '(1,)type'.\n",
      "  _np_qint8 = np.dtype([(\"qint8\", np.int8, 1)])\n",
      "/mnt/2ce1d30e-9805-44ab-9067-196fda7f55c5/venv/3.6/lib/python3.6/site-packages/tensorflow/python/framework/dtypes.py:524: FutureWarning: Passing (type, 1) or '1type' as a synonym of type is deprecated; in a future version of numpy, it will be understood as (type, (1,)) / '(1,)type'.\n",
      "  _np_quint8 = np.dtype([(\"quint8\", np.uint8, 1)])\n",
      "/mnt/2ce1d30e-9805-44ab-9067-196fda7f55c5/venv/3.6/lib/python3.6/site-packages/tensorflow/python/framework/dtypes.py:525: FutureWarning: Passing (type, 1) or '1type' as a synonym of type is deprecated; in a future version of numpy, it will be understood as (type, (1,)) / '(1,)type'.\n",
      "  _np_qint16 = np.dtype([(\"qint16\", np.int16, 1)])\n",
      "/mnt/2ce1d30e-9805-44ab-9067-196fda7f55c5/venv/3.6/lib/python3.6/site-packages/tensorflow/python/framework/dtypes.py:526: FutureWarning: Passing (type, 1) or '1type' as a synonym of type is deprecated; in a future version of numpy, it will be understood as (type, (1,)) / '(1,)type'.\n",
      "  _np_quint16 = np.dtype([(\"quint16\", np.uint16, 1)])\n",
      "/mnt/2ce1d30e-9805-44ab-9067-196fda7f55c5/venv/3.6/lib/python3.6/site-packages/tensorflow/python/framework/dtypes.py:527: FutureWarning: Passing (type, 1) or '1type' as a synonym of type is deprecated; in a future version of numpy, it will be understood as (type, (1,)) / '(1,)type'.\n",
      "  _np_qint32 = np.dtype([(\"qint32\", np.int32, 1)])\n",
      "/mnt/2ce1d30e-9805-44ab-9067-196fda7f55c5/venv/3.6/lib/python3.6/site-packages/tensorflow/python/framework/dtypes.py:532: FutureWarning: Passing (type, 1) or '1type' as a synonym of type is deprecated; in a future version of numpy, it will be understood as (type, (1,)) / '(1,)type'.\n",
      "  np_resource = np.dtype([(\"resource\", np.ubyte, 1)])\n"
     ]
    }
   ],
   "source": [
    "%matplotlib inline\n",
    "import numpy as np\n",
    "import matplotlib.pyplot as plt\n",
    "import cv2\n",
    "import tensorflow as tf\n",
    "from tensorflow.keras.models import Sequential\n",
    "from tensorflow.keras.layers import Activation, Dense\n",
    "import time"
   ]
  },
  {
   "cell_type": "raw",
   "metadata": {
    "jupyter": {
     "source_hidden": true
    }
   },
   "source": [
    "</section><section>"
   ]
  },
  {
   "cell_type": "code",
   "execution_count": 2,
   "metadata": {},
   "outputs": [
    {
     "name": "stdout",
     "output_type": "stream",
     "text": [
      "_________________________________________________________________\n",
      "Layer (type)                 Output Shape              Param #   \n",
      "=================================================================\n",
      "dense (Dense)                (None, 4)                 12        \n",
      "_________________________________________________________________\n",
      "dense_1 (Dense)              (None, 1)                 5         \n",
      "=================================================================\n",
      "Total params: 17\n",
      "Trainable params: 17\n",
      "Non-trainable params: 0\n",
      "_________________________________________________________________\n"
     ]
    }
   ],
   "source": [
    "# Set training data.\n",
    "training_data = np.array([[0,0], [0,1], [1,0], [1,1]], np.float32)\n",
    "target_data = np.array([[0], [1], [1], [0]], np.float32)\n",
    "\n",
    "# Define hidden and output layer.\n",
    "model = Sequential()\n",
    "model.add(Dense(4, input_dim=2, activation='relu'))  # weight and bias are inherent.\n",
    "model.add(Dense(1, activation='sigmoid'))\n",
    "\n",
    "# Select loss function and optimizer.\n",
    "model.compile(loss='mean_squared_error', optimizer='adam', metrics=['binary_accuracy'])\n",
    "model.summary()"
   ]
  },
  {
   "cell_type": "raw",
   "metadata": {
    "jupyter": {
     "source_hidden": true
    }
   },
   "source": [
    "</section><section>"
   ]
  },
  {
   "cell_type": "code",
   "execution_count": 3,
   "metadata": {},
   "outputs": [
    {
     "name": "stdout",
     "output_type": "stream",
     "text": [
      "Elapsed time = 35.01331377029419\n"
     ]
    }
   ],
   "source": [
    "start_time = time.time()\n",
    "\n",
    "# Start training.\n",
    "model.fit(training_data, target_data, epochs=10000, verbose=0)\n",
    "\n",
    "print('Elapsed time =', time.time() - start_time)"
   ]
  },
  {
   "cell_type": "code",
   "execution_count": 4,
   "metadata": {},
   "outputs": [
    {
     "name": "stdout",
     "output_type": "stream",
     "text": [
      "[0. 0.] => 0.005871453\n",
      "[0. 1.] => 0.99568933\n",
      "[1. 0.] => 0.9938285\n",
      "[1. 1.] => 0.0058713024\n"
     ]
    }
   ],
   "source": [
    "result = model.predict(training_data)\n",
    "for index in range(len(training_data)):\n",
    "    print(training_data[index], '=>', result[index][0])"
   ]
  },
  {
   "cell_type": "markdown",
   "metadata": {},
   "source": [
    "&#x261b; Compare with Tensorflow version in [30_deep_learning/33_MLP.ipynb](../30_deep_learning/33_MLP.ipynb#XOR-Problem-Example)"
   ]
  },
  {
   "cell_type": "raw",
   "metadata": {
    "jupyter": {
     "source_hidden": true
    }
   },
   "source": [
    "</section><section>"
   ]
  },
  {
   "cell_type": "markdown",
   "metadata": {},
   "source": [
    "## Reference\n",
    "- https://www.tensorflow.org/guide/keras\n",
    "- https://gist.github.com/cburgdorf/e2fb46e5ad61ed7b9a29029c5cc30134"
   ]
  }
 ],
 "metadata": {
  "kernelspec": {
   "display_name": "Python 3",
   "language": "python",
   "name": "python3"
  },
  "language_info": {
   "codemirror_mode": {
    "name": "ipython",
    "version": 3
   },
   "file_extension": ".py",
   "mimetype": "text/x-python",
   "name": "python",
   "nbconvert_exporter": "python",
   "pygments_lexer": "ipython3",
   "version": "3.6.8"
  }
 },
 "nbformat": 4,
 "nbformat_minor": 4
}
