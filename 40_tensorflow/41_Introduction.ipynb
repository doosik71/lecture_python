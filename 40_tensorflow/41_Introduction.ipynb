{
 "cells": [
  {
   "cell_type": "markdown",
   "metadata": {
    "slideshow": {
     "slide_type": "slide"
    }
   },
   "source": [
    "# Tensorflow - Introduction"
   ]
  },
  {
   "cell_type": "markdown",
   "metadata": {
    "slideshow": {
     "slide_type": "slide"
    }
   },
   "source": [
    "## About\n",
    "TensorFlow is a free and open-source software library for dataflow and differentiable programming across a range of tasks.\n",
    "It is a symbolic math library, and is also used for machine learning applications such as neural networks.\n",
    "It is used for both research and production at Google."
   ]
  },
  {
   "cell_type": "markdown",
   "metadata": {
    "slideshow": {
     "slide_type": "slide"
    }
   },
   "source": [
    "## CPU vs. GPU\n",
    "\n",
    "![](cpu_vs_gpu.png)"
   ]
  },
  {
   "cell_type": "markdown",
   "metadata": {
    "slideshow": {
     "slide_type": "slide"
    }
   },
   "source": [
    "## CUDA\n",
    "CUDA is a **parallel computing platform** and **application programming interface(API) model** created by Nvidia.\n",
    "It allows software developers and software engineers to use a CUDA-enabled graphics processing unit(GPU) for general purpose processing."
   ]
  },
  {
   "cell_type": "markdown",
   "metadata": {
    "slideshow": {
     "slide_type": "slide"
    }
   },
   "source": [
    "## Installation\n",
    "\n",
    "### GPU-supported Graphic Cards\n",
    "\n",
    "![Nvidia Titan V](nvidia_titan_v.jpg)"
   ]
  },
  {
   "cell_type": "markdown",
   "metadata": {
    "slideshow": {
     "slide_type": "slide"
    }
   },
   "source": [
    "### GPU Driver\n",
    "- https://www.nvidia.com/Download/index.aspx?lang=en-us\n",
    "\n",
    "### CUDA Toolkit\n",
    "\n",
    "```bash\n",
    "sudo apt install nvidia-cuda-toolkit  # for linux.\n",
    "```\n",
    "\n",
    "- https://developer.nvidia.com/cuda-toolkit\n",
    "\n",
    "### CUDNN Library\n",
    "\n",
    "- https://docs.nvidia.com/deeplearning/sdk/cudnn-install/index.html"
   ]
  },
  {
   "cell_type": "markdown",
   "metadata": {
    "slideshow": {
     "slide_type": "slide"
    }
   },
   "source": [
    "### Tensorflow Python Package\n",
    "```bash\n",
    "pip install tensorflow  # for CPU version.\n",
    "```\n",
    "or\n",
    "```bash\n",
    "pip install tensorflow-gpu==1.9.0  # for GPU version on Windows.\n",
    "```\n",
    "or\n",
    "```bash\n",
    "pip install tensorflow-gpu==1.12.3  # for GPU version on Ubuntu.\n",
    "```"
   ]
  },
  {
   "cell_type": "markdown",
   "metadata": {
    "slideshow": {
     "slide_type": "slide"
    }
   },
   "source": [
    "### Versions\n",
    "\n",
    "| OS      | Python | CUDA | cuDNN | Tensorflow |          |\n",
    "|---------|--------|------|-------|------------|----------|\n",
    "| Ubuntu  | 3.7.x  | 10.0 | 7.4   | 1.14.x     | Latest   |\n",
    "| Ubuntu  | 3.7.x  | 10.0 | 7.4   | 1.13.x     |          |\n",
    "| Ubuntu  | 3.6.x  | 9.0  | 7.0   | 1.12.3     | <span style=\"color:red\">★</span> |\n",
    "| Ubuntu  | 3.6.x  | 9.0  | 7.0   | 1.11.x     |          |\n",
    "| Windows | 3.6.x  | 9.2  | 7.2   | 1.13.1     | <span style=\"color:red\">★</span> |\n",
    "| Windows | 3.6.x  | 9.0  | 7.0   | 1.12.x     |          |\n",
    "| Windows | 3.6.x  | 9.0  | 7.0   | 1.11.x     |          |"
   ]
  },
  {
   "cell_type": "markdown",
   "metadata": {
    "slideshow": {
     "slide_type": "slide"
    }
   },
   "source": [
    "### Installation Example: Ubuntu + CUDA 9.0 + cuDNN 7.0.5 + Tensorflow 1.12.3\n",
    "\n",
    "```bash\n",
    "# If cuda toolkit was already installed, we need to uninstall it.\n",
    "sudo apt-get remove --auto-remove nvidia-cuda-toolkit\n",
    "# Install nvidia driver.\n",
    "sudo apt install nvidia-384 nvidia-modprobe nvidia-smi\n",
    "# Download cuda toolkit install script.\n",
    "wget https://developer.nvidia.com/compute/cuda/9.0/Prod/local_installers/cuda_9.0.176_384.81_linux-run\n",
    "chmod +x cuda_9.0.176_384.81_linux-run\n",
    "# Extract installer.\n",
    "./cuda_9.0.176_384.81_linux-run --extract=/tmp\n",
    "# Install cuda toolkit only.\n",
    "sudo /tmp/cuda-linux.9.0.176_22781540.run\n",
    "# Add environment variables to .bashrc\n",
    "echo \"export PATH=\\$PATH:/usr/local/cuda-9.0/bin\" >> ~/.bashrc\n",
    "echo \"export LD_LIBRARY_PATH=\\$LD_LIBRARY_PATH:/usr/local/cuda-9.0/lib64:/usr/local/cuda-9.0/extras/CUPTI/lib64\" >> ~/.bashrc\n",
    "# Download cuDNN library compressed file.\n",
    "wget https://developer.nvidia.com/compute/machine-learning/cudnn/secure/v7.6.1.34/prod/9.0_20190620/cudnn-9.0-linux-x64-v7.6.1.34.tgz\n",
    "# Unzip cuDNN library files.\n",
    "tar -xvzf cudnn-9.0-linux-x64-v7.6.1.34.tgz\n",
    "# Copy cuDNN to system folder.\n",
    "sudo cp cudnn-9.0-linux-x64-v7.6.1.34/cuda/include/* /usr/local/cuda/include/\n",
    "sudo cp cudnn-9.0-linux-x64-v7.6.1.34/cuda/lib64/* /usr/local/cuda/lib64/\n",
    "```"
   ]
  },
  {
   "cell_type": "markdown",
   "metadata": {
    "slideshow": {
     "slide_type": "slide"
    }
   },
   "source": [
    "## Reference\n",
    "- https://en.wikipedia.org/wiki/CUDA\n",
    "- https://www.tensorflow.org/"
   ]
  }
 ],
 "metadata": {
  "celltoolbar": "Slideshow",
  "kernelspec": {
   "display_name": "Python 3",
   "language": "python",
   "name": "python3"
  },
  "language_info": {
   "codemirror_mode": {
    "name": "ipython",
    "version": 3
   },
   "file_extension": ".py",
   "mimetype": "text/x-python",
   "name": "python",
   "nbconvert_exporter": "python",
   "pygments_lexer": "ipython3",
   "version": "3.6.8"
  },
  "title": "Tensorflow - Introduction"
 },
 "nbformat": 4,
 "nbformat_minor": 4
}
