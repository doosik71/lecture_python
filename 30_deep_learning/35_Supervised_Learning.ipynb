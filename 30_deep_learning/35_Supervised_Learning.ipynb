{
 "cells": [
  {
   "cell_type": "markdown",
   "metadata": {
    "slideshow": {
     "slide_type": "slide"
    }
   },
   "source": [
    "# Deep Learning - Supervised Learning"
   ]
  },
  {
   "cell_type": "markdown",
   "metadata": {
    "slideshow": {
     "slide_type": "slide"
    }
   },
   "source": [
    "## Overfitting Problem\n",
    "\n",
    "![Overfitted line](overfitted_line.png)\n",
    "\n",
    "![Overfitted curve](overfitted_curve.png)"
   ]
  },
  {
   "cell_type": "markdown",
   "metadata": {
    "slideshow": {
     "slide_type": "slide"
    }
   },
   "source": [
    "## Learning Curve\n",
    "\n",
    "![Learning curve](learning_curve.png)"
   ]
  },
  {
   "cell_type": "markdown",
   "metadata": {
    "slideshow": {
     "slide_type": "slide"
    }
   },
   "source": [
    "## Train, Validation and Test Sets\n",
    "### Training Set\n",
    "The sample of data used to fit the model.\n",
    "The actual dataset that we use to train the model.\n",
    "The model sees and learns from this data.\n",
    "\n",
    "### Test Set\n",
    "The sample of data used to provide an unbiased evaluation of a final model fit on the training dataset."
   ]
  },
  {
   "cell_type": "markdown",
   "metadata": {
    "slideshow": {
     "slide_type": "slide"
    }
   },
   "source": [
    "### Validation Set\n",
    "The sample of data used to provide an unbiased evaluation of a model fit on the training dataset while tuning model hyperparameters.\n",
    "The evaluation becomes more biased as skill on the validation dataset is incorporated into the model configuration.\n",
    "The validation set is used to evaluate a given model, but this is for frequent evaluation.\n",
    "\n",
    "![Validation set](validation_set.png)"
   ]
  },
  {
   "cell_type": "markdown",
   "metadata": {
    "slideshow": {
     "slide_type": "slide"
    }
   },
   "source": [
    "## Reference\n",
    "- https://en.wikipedia.org/wiki/Supervised_learning\n",
    "- https://en.wikipedia.org/wiki/Overfitting\n",
    "- https://towardsdatascience.com/train-validation-and-test-sets-72cb40cba9e7\n",
    "- https://www.analyticsvidhya.com/blog/2018/04/fundamentals-deep-learning-regularization-techniques/"
   ]
  }
 ],
 "metadata": {
  "celltoolbar": "Slideshow",
  "kernelspec": {
   "display_name": "Python 3",
   "language": "python",
   "name": "python3"
  },
  "language_info": {
   "codemirror_mode": {
    "name": "ipython",
    "version": 3
   },
   "file_extension": ".py",
   "mimetype": "text/x-python",
   "name": "python",
   "nbconvert_exporter": "python",
   "pygments_lexer": "ipython3",
   "version": "3.6.8"
  },
  "title": "Deep Learning - Supervised Learning"
 },
 "nbformat": 4,
 "nbformat_minor": 4
}
