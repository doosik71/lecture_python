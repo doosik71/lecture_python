{
 "cells": [
  {
   "cell_type": "markdown",
   "metadata": {
    "slideshow": {
     "slide_type": "slide"
    }
   },
   "source": [
    "# Deep Learning - Multilayer Perceptron(MLP)"
   ]
  },
  {
   "cell_type": "markdown",
   "metadata": {
    "slideshow": {
     "slide_type": "slide"
    }
   },
   "source": [
    "## About\n",
    "A multilayer perceptron(MLP) is a class of feedforward artificial neural network. A MLP consists of at least three layers of nodes: an **input layer**, a **hidden layer** and an **output layer**. Except for the input nodes, each node is a neuron that uses a nonlinear **activation function**."
   ]
  },
  {
   "cell_type": "markdown",
   "metadata": {
    "slideshow": {
     "slide_type": "slide"
    }
   },
   "source": [
    "## Linear Regression, Logistic Regression, and MLP\n",
    "![](logistic_regression_vs_mlp.png)"
   ]
  },
  {
   "cell_type": "markdown",
   "metadata": {
    "slideshow": {
     "slide_type": "slide"
    }
   },
   "source": [
    "### Linear Regression\n",
    "\n",
    "$$f: \\mathbf{X} \\rightarrow y, \\text{where } \\mathbf{X} \\in \\mathbb{R}^N \\text{ and } y \\in \\mathbb{R},\\\\\n",
    "y = a_0 + \\sum_{i=1}^N a_i x_i$$\n",
    "\n",
    "- 예: 키, 나이, 몸무게, 흡연여부, 혈압 등의 값이 제시되고 평균 수명(수치)을 예측하는 문제.\n",
    "\n",
    "### Logistic Regression\n",
    "\n",
    "$$f: \\mathbf{X} \\rightarrow y, \\text{where } \\mathbf{X} \\in \\mathbb{R}^N \\text{ and } y \\in (0,1),\\\\\n",
    "y = \\sigma(a_0 + \\sum_{i=1}^N a_i x_i),\n",
    "\\text{ where } \\sigma(t) = { 1 \\over { 1 + e^{-t}}} = { e^{t} \\over { e^{t} + 1 }}$$\n",
    "\n",
    "- 예: 키, 나이, 몸무게, 흡연여부, 혈압 등의 값이 제시되고 폐암 발병 여부(True or False)를 예측하는 문제.\n",
    "\n",
    "### MLP\n",
    "\n",
    "$$\n",
    "\\begin{aligned}\n",
    "f &: \\mathbf{X} \\rightarrow \\mathbf{Z}, \\text{where } \\mathbf{X} \\in \\mathbb{R}^N , \\mathbf{Y} \\in (0,1)^L \\dots, \\text{, and } \\mathbf{Z} \\in (0,1)^M,\\\\\n",
    "y_j &= \\sigma(a_0^j + \\sum_{i=1}^N a_i^j x_i), \\dots,  z^k = \\sigma(b_0^k + \\sum_{j=1}^L b_j^k y_j)\n",
    "\\end{aligned}\n",
    "$$\n",
    "\n",
    "- 예: 키, 나이, 몸무게, 흡연여부, 혈압 등의 값이 제시되고 폐암, 간암, 위암 등 각각의 발병 여부(True or False, ...)를 예측하는 문제.\n"
   ]
  },
  {
   "cell_type": "markdown",
   "metadata": {
    "slideshow": {
     "slide_type": "notes"
    }
   },
   "source": [
    "Logistic Regression 문제에서 logistic function을 step function으로 대체하면 MLP를 태동시킨 퍼셉트론(Perceptron)이 됩니다."
   ]
  },
  {
   "cell_type": "markdown",
   "metadata": {
    "slideshow": {
     "slide_type": "slide"
    }
   },
   "source": [
    "## Backpropagation\n",
    "Backpropagation algorithms are a family of methods used to efficiently train artificial neural networks (ANNs) following a **gradient descent approach** that exploits the **chain rule**. The main feature of backpropagation is its iterative, recursive and efficient method for calculating the weights updates to improve the network until it is able to perform the task for which it is being trained.\n",
    "\n",
    "![](backpropagation.png)"
   ]
  },
  {
   "cell_type": "markdown",
   "metadata": {
    "slideshow": {
     "slide_type": "notes"
    }
   },
   "source": [
    "전통적인 MLP 구조에서는 hidden layer가 많아지면 입력층에 가까울수록 gradient 값이 감소하여 학습이 잘 안되는 문제(vanishing gradient problem)가 발생합니다."
   ]
  },
  {
   "cell_type": "markdown",
   "metadata": {
    "slideshow": {
     "slide_type": "slide"
    }
   },
   "source": [
    "## Reference\n",
    "- https://en.wikipedia.org/wiki/Multilayer_perceptron\n",
    "- https://skymind.ai/wiki/multilayer-perceptron\n",
    "- https://en.wikipedia.org/wiki/Backpropagation\n",
    "- https://towardsdatascience.com/image-classification-in-10-minutes-with-mnist-dataset-54c35b77a38d\n",
    "- http://introtodeeplearning.com/\n",
    "- https://medium.com/@claude.coulombe/the-revenge-of-perceptron-learning-xor-with-tensorflow-eb52cbdf6c60"
   ]
  }
 ],
 "metadata": {
  "celltoolbar": "Slideshow",
  "kernelspec": {
   "display_name": "Python 3",
   "language": "python",
   "name": "python3"
  },
  "language_info": {
   "codemirror_mode": {
    "name": "ipython",
    "version": 3
   },
   "file_extension": ".py",
   "mimetype": "text/x-python",
   "name": "python",
   "nbconvert_exporter": "python",
   "pygments_lexer": "ipython3",
   "version": "3.6.8"
  },
  "title": "Deep Learning - MLP"
 },
 "nbformat": 4,
 "nbformat_minor": 4
}
