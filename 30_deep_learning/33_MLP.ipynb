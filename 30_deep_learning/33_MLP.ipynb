{
 "cells": [
  {
   "cell_type": "markdown",
   "metadata": {},
   "source": [
    "# Deep Learning - Multilayer Perceptron(MLP)\n",
    "## About\n",
    "A multilayer perceptron(MLP) is a class of feedforward artificial neural network. A MLP consists of at least three layers of nodes: an **input layer**, a **hidden layer** and an **output layer**. Except for the input nodes, each node is a neuron that uses a nonlinear **activation function**.\n",
    "\n",
    "## Linear Regression, Logistic Regression, and MLP\n",
    "![](../images/Logistic_regression_vs_MLP.png)"
   ]
  },
  {
   "cell_type": "raw",
   "metadata": {
    "jupyter": {
     "source_hidden": true
    }
   },
   "source": [
    "</section><section>"
   ]
  },
  {
   "cell_type": "markdown",
   "metadata": {},
   "source": [
    "## Backpropagation\n",
    "Backpropagation algorithms are a family of methods used to efficiently train artificial neural networks (ANNs) following a **gradient descent approach** that exploits the **chain rule**. The main feature of backpropagation is its iterative, recursive and efficient method for calculating the weights updates to improve the network until it is able to perform the task for which it is being trained.\n",
    "\n",
    "![](https://www.guru99.com/images/1/030819_0937_BackPropaga1.png)"
   ]
  },
  {
   "cell_type": "raw",
   "metadata": {
    "jupyter": {
     "source_hidden": true
    }
   },
   "source": [
    "</section><section>"
   ]
  },
  {
   "cell_type": "markdown",
   "metadata": {},
   "source": [
    "## MNIST OCR Example"
   ]
  },
  {
   "cell_type": "code",
   "execution_count": 37,
   "metadata": {},
   "outputs": [],
   "source": [
    "%matplotlib inline\n",
    "import numpy as np\n",
    "import matplotlib.pyplot as plt\n",
    "import cv2\n",
    "import tensorflow as tf\n",
    "from keras.models import Sequential\n",
    "from keras.layers import Dense, Flatten"
   ]
  },
  {
   "cell_type": "code",
   "execution_count": 2,
   "metadata": {},
   "outputs": [
    {
     "name": "stdout",
     "output_type": "stream",
     "text": [
      "(60000, 28, 28) (60000,) (10000, 28, 28) (10000,)\n"
     ]
    }
   ],
   "source": [
    "(x_train, y_train), (x_test, y_test) = tf.keras.datasets.mnist.load_data()\n",
    "print(x_train.shape, y_train.shape, x_test.shape, y_test.shape)"
   ]
  },
  {
   "cell_type": "raw",
   "metadata": {
    "jupyter": {
     "source_hidden": true
    }
   },
   "source": [
    "</section><section>"
   ]
  },
  {
   "cell_type": "code",
   "execution_count": 28,
   "metadata": {},
   "outputs": [
    {
     "data": {
      "image/png": "[encoded data removed]",
      "text/plain": [
       "<Figure size 1080x288 with 20 Axes>"
      ]
     },
     "metadata": {},
     "output_type": "display_data"
    }
   ],
   "source": [
    "plt.figure(figsize=(15, 4))\n",
    "for digit in range(20):\n",
    "    plt.subplot(2, 10, digit + 1)\n",
    "    plt.xticks([]); plt.yticks([])\n",
    "    plt.title(y_train[digit])\n",
    "    plt.imshow(x_train[digit], cmap='Greys')"
   ]
  },
  {
   "cell_type": "raw",
   "metadata": {
    "jupyter": {
     "source_hidden": true
    }
   },
   "source": [
    "</section><section>"
   ]
  },
  {
   "cell_type": "code",
   "execution_count": 30,
   "metadata": {},
   "outputs": [
    {
     "name": "stdout",
     "output_type": "stream",
     "text": [
      "x_train shape: (60000, 28, 28, 1)\n",
      "Number of images in x_train = 60000\n",
      "Number of images in x_test = 10000\n"
     ]
    }
   ],
   "source": [
    "# Reshaping the array to 4-dims so that it can work with the Keras API\n",
    "x_train = x_train.reshape(x_train.shape[0], 28, 28, 1)\n",
    "x_test = x_test.reshape(x_test.shape[0], 28, 28, 1)\n",
    "\n",
    "input_shape = (28, 28, 1)\n",
    "\n",
    "# Making sure that the values are float so that we can get decimal points after division\n",
    "x_train = x_train.astype('float32')\n",
    "x_test = x_test.astype('float32')\n",
    "\n",
    "# Normalizing the RGB codes by dividing it to the max RGB value.\n",
    "x_train /= 255\n",
    "x_test /= 255\n",
    "\n",
    "print('x_train shape:', x_train.shape)\n",
    "print('Number of images in x_train =', x_train.shape[0])\n",
    "print('Number of images in x_test =', x_test.shape[0])"
   ]
  },
  {
   "cell_type": "raw",
   "metadata": {
    "jupyter": {
     "source_hidden": true
    }
   },
   "source": [
    "</section><section>"
   ]
  },
  {
   "cell_type": "code",
   "execution_count": 43,
   "metadata": {},
   "outputs": [],
   "source": [
    "# Create networks.\n",
    "model = Sequential()\n",
    "model.add(Flatten()) # Flattening the 2D arrays for fully connected layers\n",
    "model.add(Dense(128, activation=tf.nn.relu))\n",
    "model.add(Dense(64, activation=tf.nn.relu))\n",
    "model.add(Dense(10, activation=tf.nn.softmax))\n",
    "model.compile(optimizer='adam', \n",
    "              loss='sparse_categorical_crossentropy', \n",
    "              metrics=['accuracy'])"
   ]
  },
  {
   "cell_type": "raw",
   "metadata": {
    "jupyter": {
     "source_hidden": true
    }
   },
   "source": [
    "</section><section>"
   ]
  },
  {
   "cell_type": "code",
   "execution_count": 44,
   "metadata": {},
   "outputs": [
    {
     "name": "stdout",
     "output_type": "stream",
     "text": [
      "Epoch 1/10\n",
      "60000/60000 [==============================] - 5s 88us/step - loss: 0.8113 - acc: 0.7584\n",
      "Epoch 2/10\n",
      "60000/60000 [==============================] - 5s 85us/step - loss: 0.3815 - acc: 0.8890\n",
      "Epoch 3/10\n",
      "60000/60000 [==============================] - 5s 85us/step - loss: 0.3203 - acc: 0.9073\n",
      "Epoch 4/10\n",
      "60000/60000 [==============================] - 5s 84us/step - loss: 0.2777 - acc: 0.9191\n",
      "Epoch 5/10\n",
      "60000/60000 [==============================] - 5s 84us/step - loss: 0.2447 - acc: 0.9287\n",
      "Epoch 6/10\n",
      "60000/60000 [==============================] - 5s 84us/step - loss: 0.2167 - acc: 0.9376\n",
      "Epoch 7/10\n",
      "60000/60000 [==============================] - 5s 84us/step - loss: 0.1928 - acc: 0.9437\n",
      "Epoch 8/10\n",
      "60000/60000 [==============================] - 5s 84us/step - loss: 0.1732 - acc: 0.9494\n",
      "Epoch 9/10\n",
      "60000/60000 [==============================] - 5s 84us/step - loss: 0.1578 - acc: 0.9538\n",
      "Epoch 10/10\n",
      "60000/60000 [==============================] - 5s 84us/step - loss: 0.1434 - acc: 0.9571\n"
     ]
    },
    {
     "data": {
      "text/plain": [
       "<keras.callbacks.History at 0x7f69e58cfc18>"
      ]
     },
     "execution_count": 44,
     "metadata": {},
     "output_type": "execute_result"
    }
   ],
   "source": [
    "# Train networks.\n",
    "model.fit(x=x_train, y=y_train, epochs=10)"
   ]
  },
  {
   "cell_type": "raw",
   "metadata": {
    "jupyter": {
     "source_hidden": true
    }
   },
   "source": [
    "</section><section>"
   ]
  },
  {
   "cell_type": "code",
   "execution_count": 45,
   "metadata": {},
   "outputs": [
    {
     "name": "stdout",
     "output_type": "stream",
     "text": [
      "10000/10000 [==============================] - 0s 28us/step\n",
      "loss = 0.15031773093417286\n",
      "metrics = 0.9552\n"
     ]
    }
   ],
   "source": [
    "# Test networks\n",
    "loss, metrics = model.evaluate(x_test, y_test)\n",
    "print('loss =', loss)\n",
    "print('metrics =', metrics)"
   ]
  },
  {
   "cell_type": "raw",
   "metadata": {
    "jupyter": {
     "source_hidden": true
    }
   },
   "source": [
    "</section><section>"
   ]
  },
  {
   "cell_type": "markdown",
   "metadata": {},
   "source": [
    "## XOR Problem Example"
   ]
  },
  {
   "cell_type": "code",
   "execution_count": 1,
   "metadata": {},
   "outputs": [
    {
     "data": {
      "image/svg+xml": [
       "<?xml version=\"1.0\" encoding=\"UTF-8\" standalone=\"no\"?>\n",
       "<!DOCTYPE svg PUBLIC \"-//W3C//DTD SVG 1.1//EN\"\n",
       " \"http://www.w3.org/Graphics/SVG/1.1/DTD/svg11.dtd\">\n",
       "<!-- Generated by graphviz version 2.40.1 (20161225.0304)\n",
       " -->\n",
       "<!-- Title: %3 Pages: 1 -->\n",
       "<svg width=\"242pt\" height=\"206pt\"\n",
       " viewBox=\"0.00 0.00 242.00 206.00\" xmlns=\"http://www.w3.org/2000/svg\" xmlns:xlink=\"http://www.w3.org/1999/xlink\">\n",
       "<g id=\"graph0\" class=\"graph\" transform=\"scale(1 1) rotate(0) translate(4 202)\">\n",
       "<title>%3</title>\n",
       "<polygon fill=\"#ffffff\" stroke=\"transparent\" points=\"-4,4 -4,-202 238,-202 238,4 -4,4\"/>\n",
       "<!-- x_1 -->\n",
       "<g id=\"node1\" class=\"node\">\n",
       "<title>x_1</title>\n",
       "<ellipse fill=\"none\" stroke=\"#000000\" cx=\"27\" cy=\"-180\" rx=\"27\" ry=\"18\"/>\n",
       "<text text-anchor=\"middle\" x=\"27\" y=\"-176.3\" font-family=\"Times,serif\" font-size=\"14.00\" fill=\"#000000\">x_1</text>\n",
       "</g>\n",
       "<!-- h_1 -->\n",
       "<g id=\"node2\" class=\"node\">\n",
       "<title>h_1</title>\n",
       "<ellipse fill=\"none\" stroke=\"#000000\" cx=\"117\" cy=\"-180\" rx=\"27\" ry=\"18\"/>\n",
       "<text text-anchor=\"middle\" x=\"117\" y=\"-176.3\" font-family=\"Times,serif\" font-size=\"14.00\" fill=\"#000000\">h_1</text>\n",
       "</g>\n",
       "<!-- x_1&#45;&gt;h_1 -->\n",
       "<g id=\"edge1\" class=\"edge\">\n",
       "<title>x_1&#45;&gt;h_1</title>\n",
       "<path fill=\"none\" stroke=\"#000000\" d=\"M54.003,-180C62.0277,-180 70.9665,-180 79.5309,-180\"/>\n",
       "<polygon fill=\"#000000\" stroke=\"#000000\" points=\"79.7051,-183.5001 89.705,-180 79.705,-176.5001 79.7051,-183.5001\"/>\n",
       "</g>\n",
       "<!-- h_2 -->\n",
       "<g id=\"node3\" class=\"node\">\n",
       "<title>h_2</title>\n",
       "<ellipse fill=\"none\" stroke=\"#000000\" cx=\"117\" cy=\"-126\" rx=\"27\" ry=\"18\"/>\n",
       "<text text-anchor=\"middle\" x=\"117\" y=\"-122.3\" font-family=\"Times,serif\" font-size=\"14.00\" fill=\"#000000\">h_2</text>\n",
       "</g>\n",
       "<!-- x_1&#45;&gt;h_2 -->\n",
       "<g id=\"edge2\" class=\"edge\">\n",
       "<title>x_1&#45;&gt;h_2</title>\n",
       "<path fill=\"none\" stroke=\"#000000\" d=\"M47.4224,-167.7466C59.3897,-160.5662 74.7024,-151.3785 87.9143,-143.4514\"/>\n",
       "<polygon fill=\"#000000\" stroke=\"#000000\" points=\"89.8842,-146.3512 96.6584,-138.2049 86.2827,-140.3487 89.8842,-146.3512\"/>\n",
       "</g>\n",
       "<!-- h_3 -->\n",
       "<g id=\"node4\" class=\"node\">\n",
       "<title>h_3</title>\n",
       "<ellipse fill=\"none\" stroke=\"#000000\" cx=\"117\" cy=\"-72\" rx=\"27\" ry=\"18\"/>\n",
       "<text text-anchor=\"middle\" x=\"117\" y=\"-68.3\" font-family=\"Times,serif\" font-size=\"14.00\" fill=\"#000000\">h_3</text>\n",
       "</g>\n",
       "<!-- x_1&#45;&gt;h_3 -->\n",
       "<g id=\"edge3\" class=\"edge\">\n",
       "<title>x_1&#45;&gt;h_3</title>\n",
       "<path fill=\"none\" stroke=\"#000000\" d=\"M42.9703,-165.0777C46.7402,-161.276 50.6378,-157.1013 54,-153 72.287,-130.6934 71.713,-121.3066 90,-99 91.2608,-97.462 92.597,-95.9137 93.9734,-94.3786\"/>\n",
       "<polygon fill=\"#000000\" stroke=\"#000000\" points=\"96.6983,-96.5913 101.0297,-86.9223 91.614,-91.7798 96.6983,-96.5913\"/>\n",
       "</g>\n",
       "<!-- y -->\n",
       "<g id=\"node7\" class=\"node\">\n",
       "<title>y</title>\n",
       "<ellipse fill=\"none\" stroke=\"#000000\" cx=\"207\" cy=\"-99\" rx=\"27\" ry=\"18\"/>\n",
       "<text text-anchor=\"middle\" x=\"207\" y=\"-95.3\" font-family=\"Times,serif\" font-size=\"14.00\" fill=\"#000000\">y</text>\n",
       "</g>\n",
       "<!-- h_1&#45;&gt;y -->\n",
       "<g id=\"edge10\" class=\"edge\">\n",
       "<title>h_1&#45;&gt;y</title>\n",
       "<path fill=\"none\" stroke=\"#000000\" d=\"M133.0902,-165.5188C146.9542,-153.0413 167.1669,-134.8498 182.9519,-120.6433\"/>\n",
       "<polygon fill=\"#000000\" stroke=\"#000000\" points=\"185.6541,-122.9201 190.7457,-113.6289 180.9713,-117.717 185.6541,-122.9201\"/>\n",
       "</g>\n",
       "<!-- h_2&#45;&gt;y -->\n",
       "<g id=\"edge11\" class=\"edge\">\n",
       "<title>h_2&#45;&gt;y</title>\n",
       "<path fill=\"none\" stroke=\"#000000\" d=\"M142.07,-118.479C151.5102,-115.6469 162.4169,-112.3749 172.564,-109.3308\"/>\n",
       "<polygon fill=\"#000000\" stroke=\"#000000\" points=\"173.803,-112.6133 182.3755,-106.3874 171.7915,-105.9085 173.803,-112.6133\"/>\n",
       "</g>\n",
       "<!-- h_3&#45;&gt;y -->\n",
       "<g id=\"edge12\" class=\"edge\">\n",
       "<title>h_3&#45;&gt;y</title>\n",
       "<path fill=\"none\" stroke=\"#000000\" d=\"M142.07,-79.521C151.5102,-82.3531 162.4169,-85.6251 172.564,-88.6692\"/>\n",
       "<polygon fill=\"#000000\" stroke=\"#000000\" points=\"171.7915,-92.0915 182.3755,-91.6126 173.803,-85.3867 171.7915,-92.0915\"/>\n",
       "</g>\n",
       "<!-- x_2 -->\n",
       "<g id=\"node5\" class=\"node\">\n",
       "<title>x_2</title>\n",
       "<ellipse fill=\"none\" stroke=\"#000000\" cx=\"27\" cy=\"-126\" rx=\"27\" ry=\"18\"/>\n",
       "<text text-anchor=\"middle\" x=\"27\" y=\"-122.3\" font-family=\"Times,serif\" font-size=\"14.00\" fill=\"#000000\">x_2</text>\n",
       "</g>\n",
       "<!-- x_2&#45;&gt;h_1 -->\n",
       "<g id=\"edge4\" class=\"edge\">\n",
       "<title>x_2&#45;&gt;h_1</title>\n",
       "<path fill=\"none\" stroke=\"#000000\" d=\"M47.4224,-138.2534C59.3897,-145.4338 74.7024,-154.6215 87.9143,-162.5486\"/>\n",
       "<polygon fill=\"#000000\" stroke=\"#000000\" points=\"86.2827,-165.6513 96.6584,-167.7951 89.8842,-159.6488 86.2827,-165.6513\"/>\n",
       "</g>\n",
       "<!-- x_2&#45;&gt;h_2 -->\n",
       "<g id=\"edge5\" class=\"edge\">\n",
       "<title>x_2&#45;&gt;h_2</title>\n",
       "<path fill=\"none\" stroke=\"#000000\" d=\"M54.003,-126C62.0277,-126 70.9665,-126 79.5309,-126\"/>\n",
       "<polygon fill=\"#000000\" stroke=\"#000000\" points=\"79.7051,-129.5001 89.705,-126 79.705,-122.5001 79.7051,-129.5001\"/>\n",
       "</g>\n",
       "<!-- x_2&#45;&gt;h_3 -->\n",
       "<g id=\"edge6\" class=\"edge\">\n",
       "<title>x_2&#45;&gt;h_3</title>\n",
       "<path fill=\"none\" stroke=\"#000000\" d=\"M47.4224,-113.7466C59.3897,-106.5662 74.7024,-97.3785 87.9143,-89.4514\"/>\n",
       "<polygon fill=\"#000000\" stroke=\"#000000\" points=\"89.8842,-92.3512 96.6584,-84.2049 86.2827,-86.3487 89.8842,-92.3512\"/>\n",
       "</g>\n",
       "<!-- b_h -->\n",
       "<g id=\"node6\" class=\"node\">\n",
       "<title>b_h</title>\n",
       "<ellipse fill=\"none\" stroke=\"#000000\" cx=\"27\" cy=\"-72\" rx=\"27\" ry=\"18\"/>\n",
       "<text text-anchor=\"middle\" x=\"27\" y=\"-68.3\" font-family=\"Times,serif\" font-size=\"14.00\" fill=\"#000000\">b_h</text>\n",
       "</g>\n",
       "<!-- b_h&#45;&gt;h_1 -->\n",
       "<g id=\"edge7\" class=\"edge\">\n",
       "<title>b_h&#45;&gt;h_1</title>\n",
       "<path fill=\"none\" stroke=\"#000000\" d=\"M42.9703,-86.9223C46.7402,-90.724 50.6378,-94.8987 54,-99 72.287,-121.3066 71.713,-130.6934 90,-153 91.2608,-154.538 92.597,-156.0863 93.9734,-157.6214\"/>\n",
       "<polygon fill=\"#000000\" stroke=\"#000000\" points=\"91.614,-160.2202 101.0297,-165.0777 96.6983,-155.4087 91.614,-160.2202\"/>\n",
       "</g>\n",
       "<!-- b_h&#45;&gt;h_2 -->\n",
       "<g id=\"edge8\" class=\"edge\">\n",
       "<title>b_h&#45;&gt;h_2</title>\n",
       "<path fill=\"none\" stroke=\"#000000\" d=\"M47.4224,-84.2534C59.3897,-91.4338 74.7024,-100.6215 87.9143,-108.5486\"/>\n",
       "<polygon fill=\"#000000\" stroke=\"#000000\" points=\"86.2827,-111.6513 96.6584,-113.7951 89.8842,-105.6488 86.2827,-111.6513\"/>\n",
       "</g>\n",
       "<!-- b_h&#45;&gt;h_3 -->\n",
       "<g id=\"edge9\" class=\"edge\">\n",
       "<title>b_h&#45;&gt;h_3</title>\n",
       "<path fill=\"none\" stroke=\"#000000\" d=\"M54.003,-72C62.0277,-72 70.9665,-72 79.5309,-72\"/>\n",
       "<polygon fill=\"#000000\" stroke=\"#000000\" points=\"79.7051,-75.5001 89.705,-72 79.705,-68.5001 79.7051,-75.5001\"/>\n",
       "</g>\n",
       "<!-- b_o -->\n",
       "<g id=\"node8\" class=\"node\">\n",
       "<title>b_o</title>\n",
       "<ellipse fill=\"none\" stroke=\"#000000\" cx=\"117\" cy=\"-18\" rx=\"27\" ry=\"18\"/>\n",
       "<text text-anchor=\"middle\" x=\"117\" y=\"-14.3\" font-family=\"Times,serif\" font-size=\"14.00\" fill=\"#000000\">b_o</text>\n",
       "</g>\n",
       "<!-- b_o&#45;&gt;y -->\n",
       "<g id=\"edge13\" class=\"edge\">\n",
       "<title>b_o&#45;&gt;y</title>\n",
       "<path fill=\"none\" stroke=\"#000000\" d=\"M133.0902,-32.4812C146.9542,-44.9587 167.1669,-63.1502 182.9519,-77.3567\"/>\n",
       "<polygon fill=\"#000000\" stroke=\"#000000\" points=\"180.9713,-80.283 190.7457,-84.3711 185.6541,-75.0799 180.9713,-80.283\"/>\n",
       "</g>\n",
       "</g>\n",
       "</svg>\n"
      ],
      "text/plain": [
       "<graphviz.dot.Digraph at 0x7f73c4d11470>"
      ]
     },
     "execution_count": 1,
     "metadata": {},
     "output_type": "execute_result"
    }
   ],
   "source": [
    "try:\n",
    "    from graphviz import Digraph\n",
    "    dot = Digraph(format='png')\n",
    "    dot.attr(rankdir='LR')\n",
    "    dot.body.append(\"\"\"\n",
    "    \"x_1\" -> \"h_1\"; \"x_1\" -> \"h_2\"; \"x_1\" -> \"h_3\"\n",
    "    \"x_2\" -> \"h_1\"; \"x_2\" -> \"h_2\"; \"x_2\" -> \"h_3\"\n",
    "    \"b_h\" -> \"h_1\"; \"b_h\" -> \"h_2\"; \"b_h\" -> \"h_3\"\n",
    "    \"h_1\" -> \"y\"; \"h_2\" -> \"y\"; \"h_3\" -> \"y\"\n",
    "    \"b_o\" -> \"y\"\n",
    "    \"\"\")\n",
    "except:\n",
    "    dot = None\n",
    "dot"
   ]
  },
  {
   "cell_type": "raw",
   "metadata": {
    "jupyter": {
     "source_hidden": true
    }
   },
   "source": [
    "</section><section>"
   ]
  },
  {
   "cell_type": "code",
   "execution_count": 1,
   "metadata": {},
   "outputs": [
    {
     "name": "stderr",
     "output_type": "stream",
     "text": [
      "/mnt/2ce1d30e-9805-44ab-9067-196fda7f55c5/venv/3.6/lib/python3.6/site-packages/tensorflow/python/framework/dtypes.py:523: FutureWarning: Passing (type, 1) or '1type' as a synonym of type is deprecated; in a future version of numpy, it will be understood as (type, (1,)) / '(1,)type'.\n",
      "  _np_qint8 = np.dtype([(\"qint8\", np.int8, 1)])\n",
      "/mnt/2ce1d30e-9805-44ab-9067-196fda7f55c5/venv/3.6/lib/python3.6/site-packages/tensorflow/python/framework/dtypes.py:524: FutureWarning: Passing (type, 1) or '1type' as a synonym of type is deprecated; in a future version of numpy, it will be understood as (type, (1,)) / '(1,)type'.\n",
      "  _np_quint8 = np.dtype([(\"quint8\", np.uint8, 1)])\n",
      "/mnt/2ce1d30e-9805-44ab-9067-196fda7f55c5/venv/3.6/lib/python3.6/site-packages/tensorflow/python/framework/dtypes.py:525: FutureWarning: Passing (type, 1) or '1type' as a synonym of type is deprecated; in a future version of numpy, it will be understood as (type, (1,)) / '(1,)type'.\n",
      "  _np_qint16 = np.dtype([(\"qint16\", np.int16, 1)])\n",
      "/mnt/2ce1d30e-9805-44ab-9067-196fda7f55c5/venv/3.6/lib/python3.6/site-packages/tensorflow/python/framework/dtypes.py:526: FutureWarning: Passing (type, 1) or '1type' as a synonym of type is deprecated; in a future version of numpy, it will be understood as (type, (1,)) / '(1,)type'.\n",
      "  _np_quint16 = np.dtype([(\"quint16\", np.uint16, 1)])\n",
      "/mnt/2ce1d30e-9805-44ab-9067-196fda7f55c5/venv/3.6/lib/python3.6/site-packages/tensorflow/python/framework/dtypes.py:527: FutureWarning: Passing (type, 1) or '1type' as a synonym of type is deprecated; in a future version of numpy, it will be understood as (type, (1,)) / '(1,)type'.\n",
      "  _np_qint32 = np.dtype([(\"qint32\", np.int32, 1)])\n",
      "/mnt/2ce1d30e-9805-44ab-9067-196fda7f55c5/venv/3.6/lib/python3.6/site-packages/tensorflow/python/framework/dtypes.py:532: FutureWarning: Passing (type, 1) or '1type' as a synonym of type is deprecated; in a future version of numpy, it will be understood as (type, (1,)) / '(1,)type'.\n",
      "  np_resource = np.dtype([(\"resource\", np.ubyte, 1)])\n"
     ]
    }
   ],
   "source": [
    "%matplotlib inline\n",
    "import numpy as np\n",
    "import matplotlib.pyplot as plt\n",
    "import cv2\n",
    "import tensorflow as tf\n",
    "import time"
   ]
  },
  {
   "cell_type": "raw",
   "metadata": {
    "jupyter": {
     "source_hidden": true
    }
   },
   "source": [
    "</section><section>"
   ]
  },
  {
   "cell_type": "code",
   "execution_count": 2,
   "metadata": {},
   "outputs": [],
   "source": [
    "hidden_size = 4\n",
    "\n",
    "# Define input and output placeholders.\n",
    "X = tf.placeholder(tf.float32, shape=[1, 2], name = 'X')\n",
    "Y = tf.placeholder(tf.float32, shape=[1, 1], name = 'Y')\n",
    "\n",
    "# Define weight and bias variables.\n",
    "W_h = tf.Variable(tf.truncated_normal([2, hidden_size]), name = \"W_h\")\n",
    "W_o = tf.Variable(tf.truncated_normal([hidden_size, 1]), name = \"W_o\")\n",
    "b_h = tf.Variable(tf.zeros([1, hidden_size]), name = \"b_h\")\n",
    "b_o = tf.Variable(tf.zeros([1, 1]), name = \"b_o\")"
   ]
  },
  {
   "cell_type": "raw",
   "metadata": {
    "jupyter": {
     "source_hidden": true
    }
   },
   "source": [
    "</section><section>"
   ]
  },
  {
   "cell_type": "code",
   "execution_count": 3,
   "metadata": {},
   "outputs": [],
   "source": [
    "N = 4\n",
    "\n",
    "# Set training data.\n",
    "INPUT_XOR = [[0,0], [0,1], [1,0], [1,1]]\n",
    "OUTPUT_XOR = [[0], [1], [1], [0]]\n",
    "\n",
    "# Define hidden and output layer.\n",
    "with tf.name_scope(\"hidden_layer\") as scope:\n",
    "    H = tf.nn.relu(tf.add(tf.matmul(X, W_h), b_h))\n",
    "with tf.name_scope(\"output\") as scope:\n",
    "    Y_estimated = tf.sigmoid(tf.add(tf.matmul(H, W_o), b_o))\n",
    "    \n",
    "# Define loss function.\n",
    "with tf.name_scope(\"loss\") as scope:\n",
    "    loss = tf.reduce_mean(tf.squared_difference(Y_estimated, Y))\n",
    "    \n",
    "# Select optimizer.\n",
    "with tf.name_scope(\"train\") as scope:\n",
    "    train_step = tf.train.GradientDescentOptimizer(0.01).minimize(loss)\n",
    "\n",
    "# Begin session.\n",
    "sess = tf.Session()\n",
    "init = tf.global_variables_initializer()\n",
    "sess.run(init)\n",
    "losses = []"
   ]
  },
  {
   "cell_type": "raw",
   "metadata": {
    "jupyter": {
     "source_hidden": true
    }
   },
   "source": [
    "</section><section>"
   ]
  },
  {
   "cell_type": "code",
   "execution_count": 4,
   "metadata": {},
   "outputs": [
    {
     "name": "stdout",
     "output_type": "stream",
     "text": [
      "Epoch: 0 loss: 0.2615837436169386\n",
      "Epoch: 1000 loss: 0.16776131093502045\n",
      "Epoch: 2000 loss: 0.04272265289910138\n",
      "Epoch: 3000 loss: 0.014403684996068478\n",
      "Epoch: 4000 loss: 0.00797111343126744\n",
      "Epoch: 5000 loss: 0.005315481452271342\n",
      "Epoch: 6000 loss: 0.0039191716350615025\n",
      "Epoch: 7000 loss: 0.0030728920246474445\n",
      "Epoch: 8000 loss: 0.0025113433657679707\n",
      "Epoch: 9000 loss: 0.0021146384096937254\n",
      "Epoch: 10000 loss: 0.001820470206439495\n",
      "Elapsed time = 40.04807424545288\n"
     ]
    }
   ],
   "source": [
    "start_time = time.time()\n",
    "\n",
    "# Start training.\n",
    "for epoch in range(10001):\n",
    "    for i in range(N):\n",
    "        sess.run(train_step, feed_dict={X: INPUT_XOR[i:i+1], Y: OUTPUT_XOR[i:i+1]})\n",
    "\n",
    "    if epoch % 1000 == 0:\n",
    "        loss_value = 0\n",
    "        for i in range(N):\n",
    "            loss_value += sess.run(loss, feed_dict={X: INPUT_XOR[i:i+1], Y: OUTPUT_XOR[i:i+1]})\n",
    "\n",
    "        loss_value /= N\n",
    "        losses.append(loss_value)\n",
    "        print('Epoch:', epoch, 'loss:', loss_value)\n",
    "\n",
    "print('Elapsed time =', time.time() - start_time)"
   ]
  },
  {
   "cell_type": "raw",
   "metadata": {
    "jupyter": {
     "source_hidden": true
    }
   },
   "source": [
    "</section><section>"
   ]
  },
  {
   "cell_type": "code",
   "execution_count": 5,
   "metadata": {},
   "outputs": [
    {
     "data": {
      "image/png": "[encoded data removed]",
      "text/plain": [
       "<Figure size 432x288 with 1 Axes>"
      ]
     },
     "metadata": {
      "needs_background": "light"
     },
     "output_type": "display_data"
    }
   ],
   "source": [
    "x = np.array(range(len(losses))) * 1000\n",
    "plt.plot(x, losses, 'o-')\n",
    "plt.title('XOR problem')\n",
    "plt.xlabel('Epoch')\n",
    "plt.ylabel('Loss')\n",
    "plt.show()"
   ]
  },
  {
   "cell_type": "raw",
   "metadata": {
    "jupyter": {
     "source_hidden": true
    }
   },
   "source": [
    "</section><section>"
   ]
  },
  {
   "cell_type": "code",
   "execution_count": 6,
   "metadata": {},
   "outputs": [
    {
     "data": {
      "image/png": "[encoded data removed]",
      "text/plain": [
       "<Figure size 432x288 with 1 Axes>"
      ]
     },
     "metadata": {
      "needs_background": "light"
     },
     "output_type": "display_data"
    }
   ],
   "source": [
    "X1, X2 = np.meshgrid(np.linspace(0.0, 1.0, 11), np.linspace(0.0, 1.0, 11))\n",
    "test_X = np.array([X1, X2]).T.reshape(-1, 2)\n",
    "test_Y = np.zeros(shape=(121,1))\n",
    "\n",
    "for i in range(121):\n",
    "    test_Y[i] = sess.run(Y_estimated, feed_dict={X: test_X[i:i+1]})\n",
    "\n",
    "test_Y = test_Y.reshape(11, 11)\n",
    "\n",
    "from mpl_toolkits import mplot3d\n",
    "ax = plt.axes(projection='3d')\n",
    "ax.plot_surface(X1, X2, test_Y, cmap='jet')\n",
    "ax.view_init(60, 0)\n",
    "plt.show()"
   ]
  },
  {
   "cell_type": "code",
   "execution_count": 211,
   "metadata": {},
   "outputs": [],
   "source": [
    "sess.close()"
   ]
  },
  {
   "cell_type": "raw",
   "metadata": {
    "jupyter": {
     "source_hidden": true
    }
   },
   "source": [
    "</section><section>"
   ]
  },
  {
   "cell_type": "markdown",
   "metadata": {},
   "source": [
    "## Reference\n",
    "- https://en.wikipedia.org/wiki/Multilayer_perceptron\n",
    "- https://skymind.ai/wiki/multilayer-perceptron\n",
    "- https://en.wikipedia.org/wiki/Backpropagation\n",
    "- https://towardsdatascience.com/image-classification-in-10-minutes-with-mnist-dataset-54c35b77a38d\n",
    "- http://introtodeeplearning.com/\n",
    "- https://medium.com/@claude.coulombe/the-revenge-of-perceptron-learning-xor-with-tensorflow-eb52cbdf6c60"
   ]
  }
 ],
 "metadata": {
  "kernelspec": {
   "display_name": "Python 3",
   "language": "python",
   "name": "python3"
  },
  "language_info": {
   "codemirror_mode": {
    "name": "ipython",
    "version": 3
   },
   "file_extension": ".py",
   "mimetype": "text/x-python",
   "name": "python",
   "nbconvert_exporter": "python",
   "pygments_lexer": "ipython3",
   "version": "3.6.8"
  }
 },
 "nbformat": 4,
 "nbformat_minor": 4
}
