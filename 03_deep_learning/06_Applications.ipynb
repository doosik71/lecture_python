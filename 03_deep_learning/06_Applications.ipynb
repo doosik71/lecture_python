{
 "cells": [
  {
   "cell_type": "markdown",
   "metadata": {},
   "source": [
    "# Applications\n",
    "\n",
    "## Computer Vision\n",
    "\n",
    "### ImageNet Challenge\n",
    "\n",
    "![](../images/imagenet.png)\n",
    "\n",
    "- https://www.slideshare.net/xavigiro/image-classification-on-imagenet-d1l4-2017-upc-deep-learning-for-computer-vision/\n",
    "\n",
    "![](../images/ImageNet_Challenge.png)\n",
    "\n",
    "- https://www.researchgate.net/figure/The-evolution-of-the-winning-entries-on-the-ImageNet-Large-Scale-Visual-Recognition_fig1_321896881\n",
    "\n",
    "### Object Detection\n",
    "\n",
    "![](../images/Faster-RCNN.gif)\n",
    "\n",
    "- https://mc.ai/deep-learning-for-object-detection-from-the-start-to-the-state-of-the-art-2-2/\n",
    "\n",
    "### Human Pose Estimation\n",
    "\n",
    "![](../images/openpose.gif)\n",
    "\n",
    "- https://nanonets.com/blog/human-pose-estimation-2d-guide/"
   ]
  },
  {
   "cell_type": "markdown",
   "metadata": {},
   "source": [
    "## Image Generation\n",
    "\n",
    "### Generative Adversarial Networks (GANs)\n",
    "\n",
    "![](../images/gan.png)\n",
    "\n",
    "- https://medium.com/ml-everything/generating-letters-using-generative-adversarial-networks-gans-161b0be3c229\n",
    "\n",
    "![](../images/fake-celebrity.png)\n",
    "\n",
    "- https://medium.com/datadriveninvestor/artificial-intelligence-gans-can-create-fake-celebrity-faces-44fe80d419f7\n",
    "\n",
    "![](../images/cyclegan.jpeg)\n",
    "\n",
    "https://github.com/junyanz/CycleGAN\n",
    "\n",
    "\n"
   ]
  }
 ],
 "metadata": {
  "kernelspec": {
   "display_name": "Python 3",
   "language": "python",
   "name": "python3"
  },
  "language_info": {
   "codemirror_mode": {
    "name": "ipython",
    "version": 3
   },
   "file_extension": ".py",
   "mimetype": "text/x-python",
   "name": "python",
   "nbconvert_exporter": "python",
   "pygments_lexer": "ipython3",
   "version": "3.6.8"
  }
 },
 "nbformat": 4,
 "nbformat_minor": 4
}
