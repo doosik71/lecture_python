{
 "cells": [
  {
   "cell_type": "markdown",
   "metadata": {},
   "source": [
    "# Applications\n",
    "\n",
    "## Computer Vision\n",
    "\n",
    "### ImageNet Challenge\n",
    "\n",
    "## Generative Models\n",
    "\n",
    "### Autoencoder\n",
    "\n",
    "### Variational Autoencoders (VAEs)\n",
    "\n",
    "### Generative Adversarial Networks (GANs)\n",
    "\n",
    "### Stype Transfer\n",
    "\n",
    "## Facial Recognition\n",
    "\n",
    "## Reinforcement Learning\n",
    "\n",
    "### AlphaGo\n",
    "\n",
    "### Self-driving Car\n",
    "\n",
    "## Data Visualization"
   ]
  },
  {
   "cell_type": "markdown",
   "metadata": {},
   "source": [
    "## Reference\n",
    "- http://introtodeeplearning.com/"
   ]
  }
 ],
 "metadata": {
  "kernelspec": {
   "display_name": "Python 3",
   "language": "python",
   "name": "python3"
  },
  "language_info": {
   "codemirror_mode": {
    "name": "ipython",
    "version": 3
   },
   "file_extension": ".py",
   "mimetype": "text/x-python",
   "name": "python",
   "nbconvert_exporter": "python",
   "pygments_lexer": "ipython3",
   "version": "3.7.3"
  }
 },
 "nbformat": 4,
 "nbformat_minor": 4
}
