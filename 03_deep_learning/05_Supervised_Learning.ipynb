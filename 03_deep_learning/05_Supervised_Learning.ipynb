{
 "cells": [
  {
   "cell_type": "markdown",
   "metadata": {},
   "source": [
    "# Supervised Learning"
   ]
  },
  {
   "cell_type": "markdown",
   "metadata": {},
   "source": [
    "## Overfitting Problem\n",
    "<img src=\"https://upload.wikimedia.org/wikipedia/commons/6/68/Overfitted_Data.png\" width=\"300\"> <img src=\"https://upload.wikimedia.org/wikipedia/commons/thumb/1/19/Overfitting.svg/1280px-Overfitting.svg.png\" width=\"200\">"
   ]
  },
  {
   "cell_type": "markdown",
   "metadata": {},
   "source": [
    "## Learning Curve\n",
    "<img width=\"300\" src=\"https://s3-ap-south-1.amazonaws.com/av-blog-media/wp-content/uploads/2018/04/Screen-Shot-2018-04-04-at-2.43.37-PM.png\"> &nbsp;"
   ]
  },
  {
   "cell_type": "markdown",
   "metadata": {},
   "source": [
    "## Train, Validation and Test Sets\n",
    "### Training Set\n",
    "The sample of data used to fit the model.\n",
    "The actual dataset that we use to train the model.\n",
    "The model sees and learns from this data.\n",
    "### Validation Set\n",
    "The sample of data used to provide an unbiased evaluation of a model fit on the training dataset while tuning model hyperparameters.\n",
    "The evaluation becomes more biased as skill on the validation dataset is incorporated into the model configuration.\n",
    "The validation set is used to evaluate a given model, but this is for frequent evaluation.\n",
    "### Test Set\n",
    "The sample of data used to provide an unbiased evaluation of a final model fit on the training dataset.\n",
    "\n",
    "![](https://qph.fs.quoracdn.net/main-qimg-e4755860eefa095dcab79659e356cf56)"
   ]
  },
  {
   "cell_type": "markdown",
   "metadata": {},
   "source": [
    "## Reference\n",
    "- https://en.wikipedia.org/wiki/Supervised_learning\n",
    "- https://en.wikipedia.org/wiki/Overfitting\n",
    "- https://towardsdatascience.com/train-validation-and-test-sets-72cb40cba9e7\n",
    "- https://www.analyticsvidhya.com/blog/2018/04/fundamentals-deep-learning-regularization-techniques/"
   ]
  }
 ],
 "metadata": {
  "kernelspec": {
   "display_name": "Python 3",
   "language": "python",
   "name": "python3"
  },
  "language_info": {
   "codemirror_mode": {
    "name": "ipython",
    "version": 3
   },
   "file_extension": ".py",
   "mimetype": "text/x-python",
   "name": "python",
   "nbconvert_exporter": "python",
   "pygments_lexer": "ipython3",
   "version": "3.6.8"
  }
 },
 "nbformat": 4,
 "nbformat_minor": 4
}
